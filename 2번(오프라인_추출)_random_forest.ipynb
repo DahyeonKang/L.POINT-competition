{
 "cells": [
  {
   "cell_type": "code",
   "execution_count": 2,
   "id": "6b608ead",
   "metadata": {},
   "outputs": [],
   "source": [
    "import warnings\n",
    "warnings.filterwarnings('ignore')"
   ]
  },
  {
   "cell_type": "code",
   "execution_count": 2,
   "id": "22dfa15a",
   "metadata": {},
   "outputs": [],
   "source": [
    "import numpy as np\n",
    "import pandas as pd\n",
    "import matplotlib.pyplot as plt\n",
    "import seaborn as sns"
   ]
  },
  {
   "cell_type": "markdown",
   "id": "54ac08ad",
   "metadata": {},
   "source": [
    "# 데이터 불러오기\n",
    "군집화에 사용한 몇 개의 변수들만 가진 데이터 사용."
   ]
  },
  {
   "cell_type": "code",
   "execution_count": 3,
   "id": "30ee3e70",
   "metadata": {},
   "outputs": [
    {
     "data": {
      "text/html": [
       "<div>\n",
       "<style scoped>\n",
       "    .dataframe tbody tr th:only-of-type {\n",
       "        vertical-align: middle;\n",
       "    }\n",
       "\n",
       "    .dataframe tbody tr th {\n",
       "        vertical-align: top;\n",
       "    }\n",
       "\n",
       "    .dataframe thead th {\n",
       "        text-align: right;\n",
       "    }\n",
       "</style>\n",
       "<table border=\"1\" class=\"dataframe\">\n",
       "  <thead>\n",
       "    <tr style=\"text-align: right;\">\n",
       "      <th></th>\n",
       "      <th>고객번호</th>\n",
       "      <th>성별</th>\n",
       "      <th>연령대</th>\n",
       "      <th>거주지분류대코드</th>\n",
       "      <th>영수증번호</th>\n",
       "      <th>구매일자</th>\n",
       "      <th>채널구분</th>\n",
       "      <th>제휴사</th>\n",
       "      <th>상품코드</th>\n",
       "      <th>상품대분류명</th>\n",
       "      <th>상품중분류명</th>\n",
       "      <th>상품소분류명</th>\n",
       "      <th>구매시간</th>\n",
       "      <th>구매금액</th>\n",
       "      <th>구매수량</th>\n",
       "      <th>cluster</th>\n",
       "      <th>구매월</th>\n",
       "    </tr>\n",
       "  </thead>\n",
       "  <tbody>\n",
       "    <tr>\n",
       "      <th>0</th>\n",
       "      <td>M961815188</td>\n",
       "      <td>여성</td>\n",
       "      <td>40대</td>\n",
       "      <td>Z10</td>\n",
       "      <td>A02148492505</td>\n",
       "      <td>20210801</td>\n",
       "      <td>1</td>\n",
       "      <td>A02</td>\n",
       "      <td>PD1508</td>\n",
       "      <td>축산물</td>\n",
       "      <td>국산소고기</td>\n",
       "      <td>한우앞다리</td>\n",
       "      <td>16</td>\n",
       "      <td>19560</td>\n",
       "      <td>1</td>\n",
       "      <td>0</td>\n",
       "      <td>08월</td>\n",
       "    </tr>\n",
       "    <tr>\n",
       "      <th>1</th>\n",
       "      <td>M934362391</td>\n",
       "      <td>여성</td>\n",
       "      <td>40대</td>\n",
       "      <td>Z10</td>\n",
       "      <td>A02197599530</td>\n",
       "      <td>20211214</td>\n",
       "      <td>1</td>\n",
       "      <td>A02</td>\n",
       "      <td>PD1160</td>\n",
       "      <td>유제품</td>\n",
       "      <td>유가공품</td>\n",
       "      <td>치즈</td>\n",
       "      <td>22</td>\n",
       "      <td>4980</td>\n",
       "      <td>1</td>\n",
       "      <td>2</td>\n",
       "      <td>12월</td>\n",
       "    </tr>\n",
       "    <tr>\n",
       "      <th>2</th>\n",
       "      <td>M184315408</td>\n",
       "      <td>여성</td>\n",
       "      <td>30대</td>\n",
       "      <td>Z11</td>\n",
       "      <td>A01335067549</td>\n",
       "      <td>20210906</td>\n",
       "      <td>1</td>\n",
       "      <td>A01</td>\n",
       "      <td>PD0777</td>\n",
       "      <td>스포츠패션</td>\n",
       "      <td>남성스포츠화</td>\n",
       "      <td>남성런닝/트레이닝화</td>\n",
       "      <td>16</td>\n",
       "      <td>124000</td>\n",
       "      <td>1</td>\n",
       "      <td>1</td>\n",
       "      <td>09월</td>\n",
       "    </tr>\n",
       "    <tr>\n",
       "      <th>3</th>\n",
       "      <td>M805930072</td>\n",
       "      <td>여성</td>\n",
       "      <td>40대</td>\n",
       "      <td>Z13</td>\n",
       "      <td>A02348434840</td>\n",
       "      <td>20211226</td>\n",
       "      <td>1</td>\n",
       "      <td>A02</td>\n",
       "      <td>PD1014</td>\n",
       "      <td>완구</td>\n",
       "      <td>교육완구</td>\n",
       "      <td>레고</td>\n",
       "      <td>15</td>\n",
       "      <td>149900</td>\n",
       "      <td>1</td>\n",
       "      <td>2</td>\n",
       "      <td>12월</td>\n",
       "    </tr>\n",
       "    <tr>\n",
       "      <th>4</th>\n",
       "      <td>M590177102</td>\n",
       "      <td>여성</td>\n",
       "      <td>50대</td>\n",
       "      <td>Z10</td>\n",
       "      <td>A02092460645</td>\n",
       "      <td>20210608</td>\n",
       "      <td>1</td>\n",
       "      <td>A02</td>\n",
       "      <td>PD1173</td>\n",
       "      <td>음료</td>\n",
       "      <td>생수</td>\n",
       "      <td>생수</td>\n",
       "      <td>20</td>\n",
       "      <td>5880</td>\n",
       "      <td>1</td>\n",
       "      <td>1</td>\n",
       "      <td>06월</td>\n",
       "    </tr>\n",
       "  </tbody>\n",
       "</table>\n",
       "</div>"
      ],
      "text/plain": [
       "         고객번호  성별  연령대 거주지분류대코드         영수증번호      구매일자  채널구분  제휴사    상품코드  \\\n",
       "0  M961815188  여성  40대      Z10  A02148492505  20210801     1  A02  PD1508   \n",
       "1  M934362391  여성  40대      Z10  A02197599530  20211214     1  A02  PD1160   \n",
       "2  M184315408  여성  30대      Z11  A01335067549  20210906     1  A01  PD0777   \n",
       "3  M805930072  여성  40대      Z13  A02348434840  20211226     1  A02  PD1014   \n",
       "4  M590177102  여성  50대      Z10  A02092460645  20210608     1  A02  PD1173   \n",
       "\n",
       "  상품대분류명  상품중분류명      상품소분류명  구매시간    구매금액  구매수량  cluster  구매월  \n",
       "0    축산물   국산소고기       한우앞다리    16   19560     1        0  08월  \n",
       "1    유제품    유가공품          치즈    22    4980     1        2  12월  \n",
       "2  스포츠패션  남성스포츠화  남성런닝/트레이닝화    16  124000     1        1  09월  \n",
       "3     완구    교육완구          레고    15  149900     1        2  12월  \n",
       "4     음료      생수          생수    20    5880     1        1  06월  "
      ]
     },
     "execution_count": 3,
     "metadata": {},
     "output_type": "execute_result"
    }
   ],
   "source": [
    "df = pd.read_csv('data/pdde_offline_all_4.csv', encoding='utf-8')\n",
    "df.head()"
   ]
  },
  {
   "cell_type": "code",
   "execution_count": 4,
   "id": "f5961dc3",
   "metadata": {},
   "outputs": [
    {
     "name": "stdout",
     "output_type": "stream",
     "text": [
      "<class 'pandas.core.frame.DataFrame'>\n",
      "RangeIndex: 300000 entries, 0 to 299999\n",
      "Data columns (total 17 columns):\n",
      " #   Column    Non-Null Count   Dtype \n",
      "---  ------    --------------   ----- \n",
      " 0   고객번호      300000 non-null  object\n",
      " 1   성별        300000 non-null  object\n",
      " 2   연령대       300000 non-null  object\n",
      " 3   거주지분류대코드  300000 non-null  object\n",
      " 4   영수증번호     300000 non-null  object\n",
      " 5   구매일자      300000 non-null  int64 \n",
      " 6   채널구분      300000 non-null  int64 \n",
      " 7   제휴사       300000 non-null  object\n",
      " 8   상품코드      300000 non-null  object\n",
      " 9   상품대분류명    300000 non-null  object\n",
      " 10  상품중분류명    300000 non-null  object\n",
      " 11  상품소분류명    300000 non-null  object\n",
      " 12  구매시간      300000 non-null  int64 \n",
      " 13  구매금액      300000 non-null  int64 \n",
      " 14  구매수량      300000 non-null  int64 \n",
      " 15  cluster   300000 non-null  int64 \n",
      " 16  구매월       300000 non-null  object\n",
      "dtypes: int64(6), object(11)\n",
      "memory usage: 38.9+ MB\n"
     ]
    }
   ],
   "source": [
    "df.info()"
   ]
  },
  {
   "cell_type": "markdown",
   "id": "343b5bd6",
   "metadata": {},
   "source": [
    "## 군집화에 사용한 변수 선택"
   ]
  },
  {
   "cell_type": "code",
   "execution_count": 9,
   "id": "31a56e0e",
   "metadata": {},
   "outputs": [
    {
     "data": {
      "text/html": [
       "<div>\n",
       "<style scoped>\n",
       "    .dataframe tbody tr th:only-of-type {\n",
       "        vertical-align: middle;\n",
       "    }\n",
       "\n",
       "    .dataframe tbody tr th {\n",
       "        vertical-align: top;\n",
       "    }\n",
       "\n",
       "    .dataframe thead th {\n",
       "        text-align: right;\n",
       "    }\n",
       "</style>\n",
       "<table border=\"1\" class=\"dataframe\">\n",
       "  <thead>\n",
       "    <tr style=\"text-align: right;\">\n",
       "      <th></th>\n",
       "      <th>성별</th>\n",
       "      <th>연령대</th>\n",
       "      <th>거주지분류대코드</th>\n",
       "      <th>제휴사</th>\n",
       "      <th>상품대분류명</th>\n",
       "      <th>구매시간</th>\n",
       "      <th>구매금액</th>\n",
       "      <th>구매수량</th>\n",
       "      <th>구매월</th>\n",
       "      <th>cluster</th>\n",
       "    </tr>\n",
       "  </thead>\n",
       "  <tbody>\n",
       "    <tr>\n",
       "      <th>0</th>\n",
       "      <td>여성</td>\n",
       "      <td>40대</td>\n",
       "      <td>Z10</td>\n",
       "      <td>A02</td>\n",
       "      <td>축산물</td>\n",
       "      <td>16</td>\n",
       "      <td>19560</td>\n",
       "      <td>1</td>\n",
       "      <td>08월</td>\n",
       "      <td>0</td>\n",
       "    </tr>\n",
       "    <tr>\n",
       "      <th>1</th>\n",
       "      <td>여성</td>\n",
       "      <td>40대</td>\n",
       "      <td>Z10</td>\n",
       "      <td>A02</td>\n",
       "      <td>유제품</td>\n",
       "      <td>22</td>\n",
       "      <td>4980</td>\n",
       "      <td>1</td>\n",
       "      <td>12월</td>\n",
       "      <td>2</td>\n",
       "    </tr>\n",
       "    <tr>\n",
       "      <th>2</th>\n",
       "      <td>여성</td>\n",
       "      <td>30대</td>\n",
       "      <td>Z11</td>\n",
       "      <td>A01</td>\n",
       "      <td>스포츠패션</td>\n",
       "      <td>16</td>\n",
       "      <td>124000</td>\n",
       "      <td>1</td>\n",
       "      <td>09월</td>\n",
       "      <td>1</td>\n",
       "    </tr>\n",
       "    <tr>\n",
       "      <th>3</th>\n",
       "      <td>여성</td>\n",
       "      <td>40대</td>\n",
       "      <td>Z13</td>\n",
       "      <td>A02</td>\n",
       "      <td>완구</td>\n",
       "      <td>15</td>\n",
       "      <td>149900</td>\n",
       "      <td>1</td>\n",
       "      <td>12월</td>\n",
       "      <td>2</td>\n",
       "    </tr>\n",
       "    <tr>\n",
       "      <th>4</th>\n",
       "      <td>여성</td>\n",
       "      <td>50대</td>\n",
       "      <td>Z10</td>\n",
       "      <td>A02</td>\n",
       "      <td>음료</td>\n",
       "      <td>20</td>\n",
       "      <td>5880</td>\n",
       "      <td>1</td>\n",
       "      <td>06월</td>\n",
       "      <td>1</td>\n",
       "    </tr>\n",
       "  </tbody>\n",
       "</table>\n",
       "</div>"
      ],
      "text/plain": [
       "   성별  연령대 거주지분류대코드  제휴사 상품대분류명  구매시간    구매금액  구매수량  구매월  cluster\n",
       "0  여성  40대      Z10  A02    축산물    16   19560     1  08월        0\n",
       "1  여성  40대      Z10  A02    유제품    22    4980     1  12월        2\n",
       "2  여성  30대      Z11  A01  스포츠패션    16  124000     1  09월        1\n",
       "3  여성  40대      Z13  A02     완구    15  149900     1  12월        2\n",
       "4  여성  50대      Z10  A02     음료    20    5880     1  06월        1"
      ]
     },
     "execution_count": 9,
     "metadata": {},
     "output_type": "execute_result"
    }
   ],
   "source": [
    "df = df[['성별', '연령대', '거주지분류대코드', '제휴사', '상품대분류명', '구매시간', '구매금액', '구매수량', '구매월', 'cluster']]\n",
    "df.head()"
   ]
  },
  {
   "cell_type": "markdown",
   "id": "b24af064",
   "metadata": {},
   "source": [
    "결측치는 없음을 알 수 있다."
   ]
  },
  {
   "cell_type": "markdown",
   "id": "b192b5b4",
   "metadata": {},
   "source": [
    "## 범주형 변수 수치화\n",
    "주로 오디널인코딩 사용해서 수치화. 트리 계열 모델은 오디널인코딩에서 순위 영향을 받지 않는다고 한다.\n",
    "\n",
    "1. 성별  \n",
    "명목변수 - 원핫인코딩\n",
    "2. 연령대  \n",
    "순위변수(10년이 기준) - 20대: 2, 30대: 3, ..로 오디널인코딩\n",
    "3. 거주지분류대코드  \n",
    "명목변수 - 종류 매우 많음. 따라서 오디널인코딩\n",
    "4. 제휴사  \n",
    "명목변수 - B01, C01, C02, D01, D02, E01에 대해 오디널인코딩\n",
    "5. 상품대분류명  \n",
    "명목변수 - 종류 매우 많음. 따라서 오디널인코딩\n",
    "6. 구매월  \n",
    "명목변수 - 1월:1, 2월:2, ..로 오디널인코딩"
   ]
  },
  {
   "cell_type": "code",
   "execution_count": 15,
   "id": "f71bdd34",
   "metadata": {},
   "outputs": [
    {
     "data": {
      "text/html": [
       "<div>\n",
       "<style scoped>\n",
       "    .dataframe tbody tr th:only-of-type {\n",
       "        vertical-align: middle;\n",
       "    }\n",
       "\n",
       "    .dataframe tbody tr th {\n",
       "        vertical-align: top;\n",
       "    }\n",
       "\n",
       "    .dataframe thead th {\n",
       "        text-align: right;\n",
       "    }\n",
       "</style>\n",
       "<table border=\"1\" class=\"dataframe\">\n",
       "  <thead>\n",
       "    <tr style=\"text-align: right;\">\n",
       "      <th></th>\n",
       "      <th>연령대</th>\n",
       "      <th>거주지분류대코드</th>\n",
       "      <th>제휴사</th>\n",
       "      <th>상품대분류명</th>\n",
       "      <th>구매시간</th>\n",
       "      <th>구매금액</th>\n",
       "      <th>구매수량</th>\n",
       "      <th>구매월</th>\n",
       "      <th>cluster</th>\n",
       "      <th>성별_남성</th>\n",
       "      <th>성별_여성</th>\n",
       "    </tr>\n",
       "  </thead>\n",
       "  <tbody>\n",
       "    <tr>\n",
       "      <th>0</th>\n",
       "      <td>40대</td>\n",
       "      <td>Z10</td>\n",
       "      <td>A02</td>\n",
       "      <td>축산물</td>\n",
       "      <td>16</td>\n",
       "      <td>19560</td>\n",
       "      <td>1</td>\n",
       "      <td>08월</td>\n",
       "      <td>0</td>\n",
       "      <td>0</td>\n",
       "      <td>1</td>\n",
       "    </tr>\n",
       "    <tr>\n",
       "      <th>1</th>\n",
       "      <td>40대</td>\n",
       "      <td>Z10</td>\n",
       "      <td>A02</td>\n",
       "      <td>유제품</td>\n",
       "      <td>22</td>\n",
       "      <td>4980</td>\n",
       "      <td>1</td>\n",
       "      <td>12월</td>\n",
       "      <td>2</td>\n",
       "      <td>0</td>\n",
       "      <td>1</td>\n",
       "    </tr>\n",
       "    <tr>\n",
       "      <th>2</th>\n",
       "      <td>30대</td>\n",
       "      <td>Z11</td>\n",
       "      <td>A01</td>\n",
       "      <td>스포츠패션</td>\n",
       "      <td>16</td>\n",
       "      <td>124000</td>\n",
       "      <td>1</td>\n",
       "      <td>09월</td>\n",
       "      <td>1</td>\n",
       "      <td>0</td>\n",
       "      <td>1</td>\n",
       "    </tr>\n",
       "    <tr>\n",
       "      <th>3</th>\n",
       "      <td>40대</td>\n",
       "      <td>Z13</td>\n",
       "      <td>A02</td>\n",
       "      <td>완구</td>\n",
       "      <td>15</td>\n",
       "      <td>149900</td>\n",
       "      <td>1</td>\n",
       "      <td>12월</td>\n",
       "      <td>2</td>\n",
       "      <td>0</td>\n",
       "      <td>1</td>\n",
       "    </tr>\n",
       "    <tr>\n",
       "      <th>4</th>\n",
       "      <td>50대</td>\n",
       "      <td>Z10</td>\n",
       "      <td>A02</td>\n",
       "      <td>음료</td>\n",
       "      <td>20</td>\n",
       "      <td>5880</td>\n",
       "      <td>1</td>\n",
       "      <td>06월</td>\n",
       "      <td>1</td>\n",
       "      <td>0</td>\n",
       "      <td>1</td>\n",
       "    </tr>\n",
       "    <tr>\n",
       "      <th>...</th>\n",
       "      <td>...</td>\n",
       "      <td>...</td>\n",
       "      <td>...</td>\n",
       "      <td>...</td>\n",
       "      <td>...</td>\n",
       "      <td>...</td>\n",
       "      <td>...</td>\n",
       "      <td>...</td>\n",
       "      <td>...</td>\n",
       "      <td>...</td>\n",
       "      <td>...</td>\n",
       "    </tr>\n",
       "    <tr>\n",
       "      <th>299995</th>\n",
       "      <td>50대</td>\n",
       "      <td>Z08</td>\n",
       "      <td>A02</td>\n",
       "      <td>과자</td>\n",
       "      <td>12</td>\n",
       "      <td>3180</td>\n",
       "      <td>1</td>\n",
       "      <td>09월</td>\n",
       "      <td>0</td>\n",
       "      <td>0</td>\n",
       "      <td>1</td>\n",
       "    </tr>\n",
       "    <tr>\n",
       "      <th>299996</th>\n",
       "      <td>20대</td>\n",
       "      <td>Z10</td>\n",
       "      <td>A03</td>\n",
       "      <td>채소</td>\n",
       "      <td>12</td>\n",
       "      <td>2490</td>\n",
       "      <td>1</td>\n",
       "      <td>10월</td>\n",
       "      <td>2</td>\n",
       "      <td>1</td>\n",
       "      <td>0</td>\n",
       "    </tr>\n",
       "    <tr>\n",
       "      <th>299997</th>\n",
       "      <td>40대</td>\n",
       "      <td>Z04</td>\n",
       "      <td>A02</td>\n",
       "      <td>대용식</td>\n",
       "      <td>13</td>\n",
       "      <td>6480</td>\n",
       "      <td>1</td>\n",
       "      <td>08월</td>\n",
       "      <td>0</td>\n",
       "      <td>0</td>\n",
       "      <td>1</td>\n",
       "    </tr>\n",
       "    <tr>\n",
       "      <th>299998</th>\n",
       "      <td>30대</td>\n",
       "      <td>Z17</td>\n",
       "      <td>A04</td>\n",
       "      <td>과자</td>\n",
       "      <td>7</td>\n",
       "      <td>1000</td>\n",
       "      <td>1</td>\n",
       "      <td>10월</td>\n",
       "      <td>0</td>\n",
       "      <td>0</td>\n",
       "      <td>1</td>\n",
       "    </tr>\n",
       "    <tr>\n",
       "      <th>299999</th>\n",
       "      <td>30대</td>\n",
       "      <td>Z02</td>\n",
       "      <td>A02</td>\n",
       "      <td>주류</td>\n",
       "      <td>20</td>\n",
       "      <td>7980</td>\n",
       "      <td>1</td>\n",
       "      <td>10월</td>\n",
       "      <td>1</td>\n",
       "      <td>1</td>\n",
       "      <td>0</td>\n",
       "    </tr>\n",
       "  </tbody>\n",
       "</table>\n",
       "<p>300000 rows × 11 columns</p>\n",
       "</div>"
      ],
      "text/plain": [
       "        연령대 거주지분류대코드  제휴사 상품대분류명  구매시간    구매금액  구매수량  구매월  cluster  성별_남성  \\\n",
       "0       40대      Z10  A02    축산물    16   19560     1  08월        0      0   \n",
       "1       40대      Z10  A02    유제품    22    4980     1  12월        2      0   \n",
       "2       30대      Z11  A01  스포츠패션    16  124000     1  09월        1      0   \n",
       "3       40대      Z13  A02     완구    15  149900     1  12월        2      0   \n",
       "4       50대      Z10  A02     음료    20    5880     1  06월        1      0   \n",
       "...     ...      ...  ...    ...   ...     ...   ...  ...      ...    ...   \n",
       "299995  50대      Z08  A02     과자    12    3180     1  09월        0      0   \n",
       "299996  20대      Z10  A03     채소    12    2490     1  10월        2      1   \n",
       "299997  40대      Z04  A02    대용식    13    6480     1  08월        0      0   \n",
       "299998  30대      Z17  A04     과자     7    1000     1  10월        0      0   \n",
       "299999  30대      Z02  A02     주류    20    7980     1  10월        1      1   \n",
       "\n",
       "        성별_여성  \n",
       "0           1  \n",
       "1           1  \n",
       "2           1  \n",
       "3           1  \n",
       "4           1  \n",
       "...       ...  \n",
       "299995      1  \n",
       "299996      0  \n",
       "299997      1  \n",
       "299998      1  \n",
       "299999      0  \n",
       "\n",
       "[300000 rows x 11 columns]"
      ]
     },
     "execution_count": 15,
     "metadata": {},
     "output_type": "execute_result"
    }
   ],
   "source": [
    "# 성별 더미변수로 바꾸기 \n",
    "df = pd.get_dummies(df, columns=['성별'])\n",
    "df"
   ]
  },
  {
   "cell_type": "code",
   "execution_count": 16,
   "id": "0e9c8643",
   "metadata": {},
   "outputs": [
    {
     "name": "stdout",
     "output_type": "stream",
     "text": [
      "['20대', '30대', '40대', '50대', '60대', '70대']\n",
      "[0, 1, 2, 3, 4, 5]\n"
     ]
    }
   ],
   "source": [
    "# 연령대 숫자형으로 바꾸기\n",
    "before = list(np.sort(df['연령대'].unique()))\n",
    "print(before)\n",
    "after = [i for i in range(len(before))]\n",
    "print(after)\n",
    "df['연령대'].replace(before, after, inplace=True)"
   ]
  },
  {
   "cell_type": "code",
   "execution_count": 17,
   "id": "14e2a31f",
   "metadata": {},
   "outputs": [
    {
     "name": "stdout",
     "output_type": "stream",
     "text": [
      "['Z01', 'Z02', 'Z03', 'Z04', 'Z05', 'Z06', 'Z07', 'Z08', 'Z09', 'Z10', 'Z11', 'Z12', 'Z13', 'Z14', 'Z15', 'Z16', 'Z17']\n",
      "[0, 1, 2, 3, 4, 5, 6, 7, 8, 9, 10, 11, 12, 13, 14, 15, 16]\n"
     ]
    }
   ],
   "source": [
    "# 거주지분류대코드 숫자형으로 바꾸기\n",
    "before = list(np.sort(df['거주지분류대코드'].unique()))\n",
    "print(before)\n",
    "after = [i for i in range(len(before))]\n",
    "print(after)\n",
    "df['거주지분류대코드'].replace(before, after, inplace=True)"
   ]
  },
  {
   "cell_type": "code",
   "execution_count": 18,
   "id": "6c7e8d38",
   "metadata": {},
   "outputs": [
    {
     "name": "stdout",
     "output_type": "stream",
     "text": [
      "['A01', 'A02', 'A03', 'A04', 'A05']\n",
      "[0, 1, 2, 3, 4]\n"
     ]
    }
   ],
   "source": [
    "# 제휴사 숫자형으로 바꾸기\n",
    "before = list(np.sort(df['제휴사'].unique()))\n",
    "print(before)\n",
    "after = [i for i in range(len(before))]\n",
    "print(after)\n",
    "df['제휴사'].replace(before, after, inplace=True)"
   ]
  },
  {
   "cell_type": "code",
   "execution_count": 19,
   "id": "640766a1",
   "metadata": {},
   "outputs": [
    {
     "name": "stdout",
     "output_type": "stream",
     "text": [
      "['가구', '건강식품', '건강용품', '건해산물', '계절가전', '공구/안전용품', '과일', '과자', '구기/필드스포츠', '기타(비상품)', '남성의류', '냉동식품', '냉장/세탁가전', '냉장식품', '담배', '대용식', '모바일', '문구/사무용품', '병통조림', '상품권', '생활/렌탈서비스', '생활/주방가전', '서적/음반/악기', '세제/위생', '속옷/양말/홈웨어', '수산물', '스포츠패션', '시즌스포츠', '식기/조리기구', '아웃도어/레저', '양곡', '여성의류', '여행/레저서비스', '영상/음향가전', '완구', '원예/애완', '유아동의류', '유아식품', '유제품', '음료', '인테리어/조명', '자동차용품', '조리식품', '조미료', '주류', '주방잡화', '채소', '청소/세탁/욕실용품', '축산물', '출산/육아용품', '침구/수예', '커피/차', '컴퓨터', '테넌트/음식점', '패션잡화', '퍼스널케어', '헬스/피트니스', '화장품/뷰티케어']\n",
      "[0, 1, 2, 3, 4, 5, 6, 7, 8, 9, 10, 11, 12, 13, 14, 15, 16, 17, 18, 19, 20, 21, 22, 23, 24, 25, 26, 27, 28, 29, 30, 31, 32, 33, 34, 35, 36, 37, 38, 39, 40, 41, 42, 43, 44, 45, 46, 47, 48, 49, 50, 51, 52, 53, 54, 55, 56, 57]\n"
     ]
    }
   ],
   "source": [
    "# 상품대분류명 숫자형으로 바꾸기\n",
    "before = list(np.sort(df['상품대분류명'].unique()))\n",
    "print(before)\n",
    "after = [i for i in range(len(before))]\n",
    "print(after)\n",
    "df['상품대분류명'].replace(before, after, inplace=True)"
   ]
  },
  {
   "cell_type": "code",
   "execution_count": 20,
   "id": "ab3bdcfb",
   "metadata": {},
   "outputs": [
    {
     "name": "stdout",
     "output_type": "stream",
     "text": [
      "['01월', '02월', '03월', '04월', '05월', '06월', '07월', '08월', '09월', '10월', '11월', '12월']\n",
      "[0, 1, 2, 3, 4, 5, 6, 7, 8, 9, 10, 11]\n"
     ]
    }
   ],
   "source": [
    "# 구매월 숫자형으로 바꾸기\n",
    "before = list(np.sort(df['구매월'].unique()))\n",
    "print(before)\n",
    "after = [i for i in range(len(before))]\n",
    "print(after)\n",
    "df['구매월'].replace(before, after, inplace=True)"
   ]
  },
  {
   "cell_type": "code",
   "execution_count": 21,
   "id": "3c2e23fd",
   "metadata": {},
   "outputs": [
    {
     "name": "stdout",
     "output_type": "stream",
     "text": [
      "<class 'pandas.core.frame.DataFrame'>\n",
      "RangeIndex: 300000 entries, 0 to 299999\n",
      "Data columns (total 11 columns):\n",
      " #   Column    Non-Null Count   Dtype\n",
      "---  ------    --------------   -----\n",
      " 0   연령대       300000 non-null  int64\n",
      " 1   거주지분류대코드  300000 non-null  int64\n",
      " 2   제휴사       300000 non-null  int64\n",
      " 3   상품대분류명    300000 non-null  int64\n",
      " 4   구매시간      300000 non-null  int64\n",
      " 5   구매금액      300000 non-null  int64\n",
      " 6   구매수량      300000 non-null  int64\n",
      " 7   구매월       300000 non-null  int64\n",
      " 8   cluster   300000 non-null  int64\n",
      " 9   성별_남성     300000 non-null  uint8\n",
      " 10  성별_여성     300000 non-null  uint8\n",
      "dtypes: int64(9), uint8(2)\n",
      "memory usage: 21.2 MB\n"
     ]
    }
   ],
   "source": [
    "## 타입이 잘 바꼈는지 확인\n",
    "df.info()"
   ]
  },
  {
   "cell_type": "markdown",
   "id": "ed3ddf03",
   "metadata": {},
   "source": [
    "## X, Y 변수 나누기\n",
    "train, test과 X, Y 이렇게 총 4가지 변수로 나눈다."
   ]
  },
  {
   "cell_type": "code",
   "execution_count": 22,
   "id": "8e3ac0ea",
   "metadata": {},
   "outputs": [
    {
     "data": {
      "text/html": [
       "<div>\n",
       "<style scoped>\n",
       "    .dataframe tbody tr th:only-of-type {\n",
       "        vertical-align: middle;\n",
       "    }\n",
       "\n",
       "    .dataframe tbody tr th {\n",
       "        vertical-align: top;\n",
       "    }\n",
       "\n",
       "    .dataframe thead th {\n",
       "        text-align: right;\n",
       "    }\n",
       "</style>\n",
       "<table border=\"1\" class=\"dataframe\">\n",
       "  <thead>\n",
       "    <tr style=\"text-align: right;\">\n",
       "      <th></th>\n",
       "      <th>연령대</th>\n",
       "      <th>거주지분류대코드</th>\n",
       "      <th>제휴사</th>\n",
       "      <th>상품대분류명</th>\n",
       "      <th>구매시간</th>\n",
       "      <th>구매금액</th>\n",
       "      <th>구매수량</th>\n",
       "      <th>구매월</th>\n",
       "      <th>cluster</th>\n",
       "      <th>성별_남성</th>\n",
       "      <th>성별_여성</th>\n",
       "    </tr>\n",
       "  </thead>\n",
       "  <tbody>\n",
       "    <tr>\n",
       "      <th>0</th>\n",
       "      <td>2</td>\n",
       "      <td>9</td>\n",
       "      <td>1</td>\n",
       "      <td>48</td>\n",
       "      <td>16</td>\n",
       "      <td>19560</td>\n",
       "      <td>1</td>\n",
       "      <td>7</td>\n",
       "      <td>0</td>\n",
       "      <td>0</td>\n",
       "      <td>1</td>\n",
       "    </tr>\n",
       "    <tr>\n",
       "      <th>1</th>\n",
       "      <td>2</td>\n",
       "      <td>9</td>\n",
       "      <td>1</td>\n",
       "      <td>38</td>\n",
       "      <td>22</td>\n",
       "      <td>4980</td>\n",
       "      <td>1</td>\n",
       "      <td>11</td>\n",
       "      <td>2</td>\n",
       "      <td>0</td>\n",
       "      <td>1</td>\n",
       "    </tr>\n",
       "    <tr>\n",
       "      <th>2</th>\n",
       "      <td>1</td>\n",
       "      <td>10</td>\n",
       "      <td>0</td>\n",
       "      <td>26</td>\n",
       "      <td>16</td>\n",
       "      <td>124000</td>\n",
       "      <td>1</td>\n",
       "      <td>8</td>\n",
       "      <td>1</td>\n",
       "      <td>0</td>\n",
       "      <td>1</td>\n",
       "    </tr>\n",
       "    <tr>\n",
       "      <th>3</th>\n",
       "      <td>2</td>\n",
       "      <td>12</td>\n",
       "      <td>1</td>\n",
       "      <td>34</td>\n",
       "      <td>15</td>\n",
       "      <td>149900</td>\n",
       "      <td>1</td>\n",
       "      <td>11</td>\n",
       "      <td>2</td>\n",
       "      <td>0</td>\n",
       "      <td>1</td>\n",
       "    </tr>\n",
       "    <tr>\n",
       "      <th>4</th>\n",
       "      <td>3</td>\n",
       "      <td>9</td>\n",
       "      <td>1</td>\n",
       "      <td>39</td>\n",
       "      <td>20</td>\n",
       "      <td>5880</td>\n",
       "      <td>1</td>\n",
       "      <td>5</td>\n",
       "      <td>1</td>\n",
       "      <td>0</td>\n",
       "      <td>1</td>\n",
       "    </tr>\n",
       "  </tbody>\n",
       "</table>\n",
       "</div>"
      ],
      "text/plain": [
       "   연령대  거주지분류대코드  제휴사  상품대분류명  구매시간    구매금액  구매수량  구매월  cluster  성별_남성  성별_여성\n",
       "0    2         9    1      48    16   19560     1    7        0      0      1\n",
       "1    2         9    1      38    22    4980     1   11        2      0      1\n",
       "2    1        10    0      26    16  124000     1    8        1      0      1\n",
       "3    2        12    1      34    15  149900     1   11        2      0      1\n",
       "4    3         9    1      39    20    5880     1    5        1      0      1"
      ]
     },
     "execution_count": 22,
     "metadata": {},
     "output_type": "execute_result"
    }
   ],
   "source": [
    "df.head()"
   ]
  },
  {
   "cell_type": "code",
   "execution_count": 24,
   "id": "873d23a3",
   "metadata": {},
   "outputs": [
    {
     "data": {
      "text/plain": [
       "array([[ 2,  9,  1, ...,  7,  0,  1],\n",
       "       [ 2,  9,  1, ..., 11,  0,  1],\n",
       "       [ 1, 10,  0, ...,  8,  0,  1],\n",
       "       ...,\n",
       "       [ 2,  3,  1, ...,  7,  0,  1],\n",
       "       [ 1, 16,  3, ...,  9,  0,  1],\n",
       "       [ 1,  1,  1, ...,  9,  1,  0]], dtype=int64)"
      ]
     },
     "execution_count": 24,
     "metadata": {},
     "output_type": "execute_result"
    }
   ],
   "source": [
    "# X 변수 설정\n",
    "x_cols = ['연령대', '거주지분류대코드', '제휴사', '상품대분류명', '구매시간', '구매금액', '구매수량', '구매월', '성별_남성', '성별_여성']\n",
    "X = df[x_cols].values\n",
    "X"
   ]
  },
  {
   "cell_type": "code",
   "execution_count": 25,
   "id": "83ba3e7d",
   "metadata": {},
   "outputs": [
    {
     "data": {
      "text/plain": [
       "array([0, 2, 1, ..., 0, 0, 1], dtype=int64)"
      ]
     },
     "execution_count": 25,
     "metadata": {},
     "output_type": "execute_result"
    }
   ],
   "source": [
    "# Y 설정\n",
    "y = df['cluster'].values\n",
    "y"
   ]
  },
  {
   "cell_type": "markdown",
   "id": "5de5837c",
   "metadata": {},
   "source": [
    "# Random Forest 모델 적합"
   ]
  },
  {
   "cell_type": "code",
   "execution_count": 33,
   "id": "a90886e1",
   "metadata": {},
   "outputs": [],
   "source": [
    "from sklearn.preprocessing import StandardScaler\n",
    "from sklearn.model_selection import train_test_split\n",
    "from sklearn.ensemble import RandomForestClassifier\n",
    "\n",
    "from sklearn.metrics import accuracy_score \n",
    "from sklearn.metrics import precision_score \n",
    "from sklearn.metrics import recall_score\n",
    "from sklearn.metrics import f1_score "
   ]
  },
  {
   "cell_type": "markdown",
   "id": "1f49667b",
   "metadata": {},
   "source": [
    "## train, test 나누기"
   ]
  },
  {
   "cell_type": "code",
   "execution_count": 30,
   "id": "76d98984",
   "metadata": {},
   "outputs": [
    {
     "name": "stdout",
     "output_type": "stream",
     "text": [
      "(210000, 10) (90000, 10) (210000,) (90000,)\n"
     ]
    }
   ],
   "source": [
    "## train, test 나누기\n",
    "X_train, X_test, y_train, y_test = train_test_split(X, y, test_size=0.3, random_state=7) # 20%를 test로, random_state으로 랜덤한 값 고정\n",
    "print(X_train.shape, X_test.shape, y_train.shape, y_test.shape)"
   ]
  },
  {
   "cell_type": "markdown",
   "id": "6df8cbb8",
   "metadata": {},
   "source": [
    "## Scaling"
   ]
  },
  {
   "cell_type": "code",
   "execution_count": null,
   "id": "35df2f79",
   "metadata": {},
   "outputs": [],
   "source": [
    "scaler = StandardScaler()\n",
    "X_train = scaler.fit_transform(X_train)\n",
    "X_test = scaler.transform(X_test)"
   ]
  },
  {
   "cell_type": "markdown",
   "id": "2d31748c",
   "metadata": {},
   "source": [
    "## 최종 모델\n",
    "군집의 범주가 4이기 때문에 이진분류가 아니라 다중분류모델이다."
   ]
  },
  {
   "cell_type": "code",
   "execution_count": null,
   "id": "08f6b501",
   "metadata": {},
   "outputs": [],
   "source": [
    "def model(algorithm, algorithm_name, feature_name, x_train, y_train, x_test, y_test, n_estimator, n_depth, n_split, n_leaf):):\n",
    "    model = RandomForestClassifier(n_estimators=n_estimator, \n",
    "                                   max_depth=n_depth, \n",
    "                                   random_state=0)\n",
    "    model.fit(X_train, Y_train)\n",
    "\n",
    "    y_pred1 = model.predict(X_test)\n",
    "    print(\"Train set 정확도: {:.3f}\".format(model.score(X_train, y_train)))\n",
    "    print(\"Test set 정확도: {:.3f}\\n\".format(model.score(X_test, y_test)))\n",
    "\n",
    "    print(f\"Accuracy: {accuracy_score(y_test, y_pred1):.3f}\")  # 정확도\n",
    "    print(f\"Precision: {precision_score(y_test, y_pred1):.3f}\")  # 정밀도\n",
    "    print(f\"Recall: {recall_score(y_test, y_pred1):.3f}\")  # 재현율\n",
    "    print(f\"F1-score: {f1_score(y_test, y_pred1):.3f}\")  # F1 스코어"
   ]
  },
  {
   "cell_type": "code",
   "execution_count": 55,
   "id": "ae02d5b8",
   "metadata": {},
   "outputs": [
    {
     "name": "stdout",
     "output_type": "stream",
     "text": [
      "Train set 정확도: 0.750\n",
      "Test set 정확도: 0.750\n",
      "\n",
      "Accuracy: 0.750\n",
      "Precision: 0.772\n",
      "Recall: 0.750\n",
      "F1-score: 0.750\n"
     ]
    }
   ],
   "source": [
    "## 1. sample - 100개, tree depth - 5\n",
    "\n",
    "model = RandomForestClassifier(n_estimators=100, max_depth=5, random_state=0)\n",
    "model.fit(X_train, y_train)\n",
    "y_pred1 = model.predict(X_test)\n",
    "\n",
    "print(\"Train set 정확도: {:.3f}\".format(model.score(X_train, y_train)))\n",
    "print(\"Test set 정확도: {:.3f}\\n\".format(model.score(X_test, y_test)))\n",
    "\n",
    "print(f\"Accuracy: {accuracy_score(y_test, y_pred1):.3f}\") \n",
    "print(f\"Precision: {precision_score(y_test, y_pred1, average='macro'):.3f}\")  #micro보다 성능이 좋게 나옴\n",
    "print(f\"Recall: {recall_score(y_test, y_pred1, average='micro'):.3f}\")\n",
    "print(f\"F1-score: {f1_score(y_test, y_pred1, average='micro'):.3f}\")"
   ]
  },
  {
   "cell_type": "code",
   "execution_count": 57,
   "id": "13ab57fa",
   "metadata": {},
   "outputs": [
    {
     "name": "stdout",
     "output_type": "stream",
     "text": [
      "Train set 정확도: 1.000\n",
      "Test set 정확도: 0.990\n",
      "\n",
      "Accuracy: 0.750\n",
      "Precision: 0.772\n",
      "Recall: 0.750\n",
      "F1-score: 0.750\n"
     ]
    }
   ],
   "source": [
    "## 2. sample - 300개, tree depth - 20\n",
    "\n",
    "model = RandomForestClassifier(n_estimators=300, max_depth=10, random_state=0)\n",
    "model.fit(X_train, y_train)\n",
    "y_pred2 = model.predict(X_test)\n",
    "\n",
    "print(\"Train set 정확도: {:.3f}\".format(model.score(X_train, y_train)))\n",
    "print(\"Test set 정확도: {:.3f}\\n\".format(model.score(X_test, y_test)))\n",
    "\n",
    "print(f\"Accuracy: {accuracy_score(y_test, y_pred1):.3f}\")  \n",
    "print(f\"Precision: {precision_score(y_test, y_pred1, average='macro'):.3f}\")  \n",
    "print(f\"Recall: {recall_score(y_test, y_pred1, average='micro'):.3f}\") \n",
    "print(f\"F1-score: {f1_score(y_test, y_pred1, average='micro'):.3f}\") "
   ]
  },
  {
   "cell_type": "code",
   "execution_count": 59,
   "id": "d24ae695",
   "metadata": {},
   "outputs": [
    {
     "name": "stdout",
     "output_type": "stream",
     "text": [
      "Train set 정확도: 0.917\n",
      "Test set 정확도: 0.915\n",
      "\n",
      "Accuracy: 0.750\n",
      "Precision: 0.772\n",
      "Recall: 0.750\n",
      "F1-score: 0.750\n"
     ]
    }
   ],
   "source": [
    "## 2. sample - 300개, tree depth - 20\n",
    "\n",
    "model = RandomForestClassifier(n_estimators=150, max_depth=10, random_state=0)\n",
    "model.fit(X_train, y_train)\n",
    "y_pred2 = model.predict(X_test)\n",
    "\n",
    "print(\"Train set 정확도: {:.3f}\".format(model.score(X_train, y_train)))\n",
    "print(\"Test set 정확도: {:.3f}\\n\".format(model.score(X_test, y_test)))\n",
    "\n",
    "print(f\"Accuracy: {accuracy_score(y_test, y_pred1):.3f}\")  \n",
    "print(f\"Precision: {precision_score(y_test, y_pred1, average='macro'):.3f}\")  \n",
    "print(f\"Recall: {recall_score(y_test, y_pred1, average='micro'):.3f}\") \n",
    "print(f\"F1-score: {f1_score(y_test, y_pred1, average='micro'):.3f}\") "
   ]
  },
  {
   "cell_type": "markdown",
   "id": "26febb86",
   "metadata": {},
   "source": [
    "## Feature importance 확인"
   ]
  },
  {
   "cell_type": "code",
   "execution_count": 66,
   "id": "bb49a7b6",
   "metadata": {},
   "outputs": [],
   "source": [
    "import seaborn as sns\n",
    "import numpy as np\n",
    "%matplotlib inline"
   ]
  },
  {
   "cell_type": "code",
   "execution_count": null,
   "id": "15f1fca5",
   "metadata": {},
   "outputs": [],
   "source": [
    "import seaborn as sns\n",
    "import numpy as np\n",
    "%matplotlib inline\n",
    "\n",
    "X_train = pd.DataFrame(X_train, columns=['연령대', '거주지분류대코드', '제휴사', '상품대분류명', '구매시간', '구매금액', '구매수량', '구매월', '성별_남성', '성별_여성'])\n",
    "feature_scores = pd.Series(model.feature_importances_, index=X_train.columns).sort_values(ascending=False)\n",
    "feature_scores[:10]\n",
    "\n",
    "# feature importance 추출 \n",
    "print(\"Feature importances:\\n{0}\".format(np.round(model.feature_importances_, 3)))\n",
    "\n",
    "# feature별 importance 매핑\n",
    "for name, value in zip(cancer.feature_names , model.feature_importances_):\n",
    "    print('{0} : {1:.3f}'.format(name, value))\n",
    "\n",
    "# feature importance를 column 별로 시각화 하기 \n",
    "sns.barplot(x=model.feature_importances_ , y=cancer.feature_names)"
   ]
  }
 ],
 "metadata": {
  "kernelspec": {
   "display_name": "Python 3 (ipykernel)",
   "language": "python",
   "name": "python3"
  },
  "language_info": {
   "codemirror_mode": {
    "name": "ipython",
    "version": 3
   },
   "file_extension": ".py",
   "mimetype": "text/x-python",
   "name": "python",
   "nbconvert_exporter": "python",
   "pygments_lexer": "ipython3",
   "version": "3.8.8"
  },
  "toc": {
   "base_numbering": 1,
   "nav_menu": {},
   "number_sections": true,
   "sideBar": true,
   "skip_h1_title": false,
   "title_cell": "Table of Contents",
   "title_sidebar": "Contents",
   "toc_cell": false,
   "toc_position": {
    "height": "calc(100% - 180px)",
    "left": "10px",
    "top": "150px",
    "width": "188.021px"
   },
   "toc_section_display": true,
   "toc_window_display": true
  }
 },
 "nbformat": 4,
 "nbformat_minor": 5
}
