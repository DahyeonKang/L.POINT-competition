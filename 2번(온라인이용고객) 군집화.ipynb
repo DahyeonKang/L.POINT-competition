{
 "cells": [
  {
   "cell_type": "markdown",
   "id": "6910cdd3",
   "metadata": {},
   "source": [
    "# 분석에 필요한 라이브러리 설치"
   ]
  },
  {
   "cell_type": "code",
   "execution_count": null,
   "id": "84b850be",
   "metadata": {},
   "outputs": [],
   "source": [
    "# # 필요한 라이브러리 설치\n",
    "# !pip install plotnine kmodes tqdm ipypb"
   ]
  },
  {
   "cell_type": "code",
   "execution_count": 1,
   "id": "a51d5b24",
   "metadata": {},
   "outputs": [],
   "source": [
    "import sqlite3\n",
    "import pandas as pd\n",
    "import numpy as np"
   ]
  },
  {
   "cell_type": "code",
   "execution_count": 2,
   "id": "afb6ae17",
   "metadata": {},
   "outputs": [],
   "source": [
    "import os\n",
    "import matplotlib.pyplot as plt\n",
    "import seaborn as sns\n",
    "%matplotlib inline"
   ]
  },
  {
   "cell_type": "code",
   "execution_count": 3,
   "id": "8d850be6",
   "metadata": {},
   "outputs": [],
   "source": [
    "from plotnine import *\n",
    "import plotnine"
   ]
  },
  {
   "cell_type": "code",
   "execution_count": 4,
   "id": "96f6c111",
   "metadata": {},
   "outputs": [],
   "source": [
    "from sklearn.preprocessing import MinMaxScaler\n",
    "from kmodes.kprototypes import KPrototypes"
   ]
  },
  {
   "cell_type": "code",
   "execution_count": 5,
   "id": "989dd274-6c4e-4cbd-9b9e-07101dc55a18",
   "metadata": {},
   "outputs": [],
   "source": [
    "from tqdm import tqdm_notebook\n",
    "import time\n",
    "from ipypb import ipb"
   ]
  },
  {
   "cell_type": "code",
   "execution_count": 6,
   "id": "d47d6fcd",
   "metadata": {},
   "outputs": [],
   "source": [
    "# 경고 메세지 안보이게 설정\n",
    "import warnings\n",
    "warnings.filterwarnings('ignore')"
   ]
  },
  {
   "cell_type": "markdown",
   "id": "820e13df",
   "metadata": {},
   "source": [
    "# 분석할 테이블 불러오기"
   ]
  },
  {
   "cell_type": "code",
   "execution_count": 7,
   "id": "d700ff94",
   "metadata": {},
   "outputs": [],
   "source": [
    "# 영수증 번호가 E인 것들 select + 1번 + 5번 연결\n",
    "con = sqlite3.connect(\"lpoint.db\", isolation_level=None) # lpoint db 생성 or 연결\n",
    "\n",
    "df2 = pd.read_sql('''\n",
    "SELECT P.cust, D.ma_fem_dv, D.ages, D.zon_hlv, P.rct_no, P.de_dt, P.chnl_dv, P.cop_c, P.pd_c, C.clac_hlv_nm, C.clac_mcls_nm, C.pd_nm, P.de_hr, P.buy_am, P.buy_ct\n",
    "FROM PDDE AS P, DEMO AS D, PD_CLAC AS C\n",
    "WHERE P.cust = D.cust AND P.pd_c = C.pd_c AND P.rct_no LIKE 'E%'\n",
    "GROUP BY P.cust, D.ma_fem_dv, D.ages, D.zon_hlv, P.rct_no, P.de_dt, P.chnl_dv, P.cop_c, P.pd_c, C.clac_hlv_nm, C.clac_mcls_nm, C.pd_nm, P.de_hr, P.buy_am, P.buy_ct;\n",
    "''', con, index_col=None)\n",
    "\n",
    "con.close()"
   ]
  },
  {
   "cell_type": "markdown",
   "id": "73c6f260",
   "metadata": {},
   "source": [
    "# 불러온 테이블 컬럼명 한글로 재설정"
   ]
  },
  {
   "cell_type": "code",
   "execution_count": 8,
   "id": "02861d38",
   "metadata": {},
   "outputs": [],
   "source": [
    "df2.columns = ['고객번호', '성별', '연령대', '거주지분류대코드', '영수증번호', '구매일자', '채널구분', '제휴사', \n",
    "              '상품코드', '상품대분류명', '상품중분류명', '상품소분류명',\n",
    "              '구매시간', '구매금액', '구매수량']"
   ]
  },
  {
   "cell_type": "markdown",
   "id": "99d17b2c",
   "metadata": {},
   "source": [
    "# 군집화에 사용할 필요한 컬럼명만 가져오기"
   ]
  },
  {
   "cell_type": "code",
   "execution_count": 9,
   "id": "6bb82891",
   "metadata": {},
   "outputs": [],
   "source": [
    "ndf2 = df2[['성별', '연령대', '거주지분류대코드', '제휴사', '상품대분류명', '구매시간', '구매금액', '구매수량']]"
   ]
  },
  {
   "cell_type": "markdown",
   "id": "5e80a5f9",
   "metadata": {},
   "source": [
    "# 구매월 변수 추가"
   ]
  },
  {
   "cell_type": "code",
   "execution_count": 10,
   "id": "2fe09af9",
   "metadata": {},
   "outputs": [],
   "source": [
    "# 구매월 추가\n",
    "ndf2['구매월'] = df2['구매일자'].map(lambda x: str(x)[4:6]+'월')"
   ]
  },
  {
   "cell_type": "code",
   "execution_count": 11,
   "id": "150a157b",
   "metadata": {},
   "outputs": [
    {
     "data": {
      "text/html": [
       "<div>\n",
       "<style scoped>\n",
       "    .dataframe tbody tr th:only-of-type {\n",
       "        vertical-align: middle;\n",
       "    }\n",
       "\n",
       "    .dataframe tbody tr th {\n",
       "        vertical-align: top;\n",
       "    }\n",
       "\n",
       "    .dataframe thead th {\n",
       "        text-align: right;\n",
       "    }\n",
       "</style>\n",
       "<table border=\"1\" class=\"dataframe\">\n",
       "  <thead>\n",
       "    <tr style=\"text-align: right;\">\n",
       "      <th></th>\n",
       "      <th>성별</th>\n",
       "      <th>연령대</th>\n",
       "      <th>거주지분류대코드</th>\n",
       "      <th>제휴사</th>\n",
       "      <th>상품대분류명</th>\n",
       "      <th>구매시간</th>\n",
       "      <th>구매금액</th>\n",
       "      <th>구매수량</th>\n",
       "      <th>구매월</th>\n",
       "    </tr>\n",
       "  </thead>\n",
       "  <tbody>\n",
       "    <tr>\n",
       "      <th>0</th>\n",
       "      <td>여성</td>\n",
       "      <td>30대</td>\n",
       "      <td>Z11</td>\n",
       "      <td>A02</td>\n",
       "      <td>세제/위생</td>\n",
       "      <td>11</td>\n",
       "      <td>13500</td>\n",
       "      <td>1</td>\n",
       "      <td>01월</td>\n",
       "    </tr>\n",
       "    <tr>\n",
       "      <th>1</th>\n",
       "      <td>여성</td>\n",
       "      <td>30대</td>\n",
       "      <td>Z11</td>\n",
       "      <td>A02</td>\n",
       "      <td>음료</td>\n",
       "      <td>11</td>\n",
       "      <td>5300</td>\n",
       "      <td>1</td>\n",
       "      <td>01월</td>\n",
       "    </tr>\n",
       "    <tr>\n",
       "      <th>2</th>\n",
       "      <td>여성</td>\n",
       "      <td>30대</td>\n",
       "      <td>Z11</td>\n",
       "      <td>A02</td>\n",
       "      <td>퍼스널케어</td>\n",
       "      <td>11</td>\n",
       "      <td>5900</td>\n",
       "      <td>1</td>\n",
       "      <td>01월</td>\n",
       "    </tr>\n",
       "    <tr>\n",
       "      <th>3</th>\n",
       "      <td>여성</td>\n",
       "      <td>30대</td>\n",
       "      <td>Z11</td>\n",
       "      <td>A06</td>\n",
       "      <td>세제/위생</td>\n",
       "      <td>11</td>\n",
       "      <td>10000</td>\n",
       "      <td>1</td>\n",
       "      <td>01월</td>\n",
       "    </tr>\n",
       "    <tr>\n",
       "      <th>4</th>\n",
       "      <td>여성</td>\n",
       "      <td>30대</td>\n",
       "      <td>Z11</td>\n",
       "      <td>A06</td>\n",
       "      <td>세제/위생</td>\n",
       "      <td>11</td>\n",
       "      <td>5000</td>\n",
       "      <td>5</td>\n",
       "      <td>01월</td>\n",
       "    </tr>\n",
       "  </tbody>\n",
       "</table>\n",
       "</div>"
      ],
      "text/plain": [
       "   성별  연령대 거주지분류대코드  제휴사 상품대분류명  구매시간   구매금액  구매수량  구매월\n",
       "0  여성  30대      Z11  A02  세제/위생    11  13500     1  01월\n",
       "1  여성  30대      Z11  A02     음료    11   5300     1  01월\n",
       "2  여성  30대      Z11  A02  퍼스널케어    11   5900     1  01월\n",
       "3  여성  30대      Z11  A06  세제/위생    11  10000     1  01월\n",
       "4  여성  30대      Z11  A06  세제/위생    11   5000     5  01월"
      ]
     },
     "execution_count": 11,
     "metadata": {},
     "output_type": "execute_result"
    }
   ],
   "source": [
    "ndf2.head()"
   ]
  },
  {
   "cell_type": "markdown",
   "id": "60022a1c",
   "metadata": {},
   "source": [
    "# 숫자형 변수 최대최소스케일링"
   ]
  },
  {
   "cell_type": "code",
   "execution_count": 12,
   "id": "ac592f36",
   "metadata": {},
   "outputs": [],
   "source": [
    "scaled_X = MinMaxScaler().fit_transform(ndf2[['구매시간', '구매금액', '구매수량']])\n",
    "ndf2[['구매시간', '구매금액', '구매수량']] = scaled_X"
   ]
  },
  {
   "cell_type": "markdown",
   "id": "713cb45c",
   "metadata": {},
   "source": [
    "# Categorical 변수 정해주기"
   ]
  },
  {
   "cell_type": "code",
   "execution_count": 13,
   "id": "e900af94",
   "metadata": {},
   "outputs": [
    {
     "name": "stdout",
     "output_type": "stream",
     "text": [
      "Categorical columns ['성별', '연령대', '거주지분류대코드', '제휴사', '상품대분류명', '구매월']\n",
      "Categorical columns position : [0, 1, 2, 3, 4, 8]\n"
     ]
    }
   ],
   "source": [
    "# Get the position of categorical columns\n",
    "catcol = [ndf2.columns.get_loc(col) for col in list(ndf2.select_dtypes('object').columns)]\n",
    "print('Categorical columns {}'.format(list(ndf2.select_dtypes('object').columns)))\n",
    "print('Categorical columns position : {}'.format(catcol))"
   ]
  },
  {
   "cell_type": "markdown",
   "id": "737996c5",
   "metadata": {},
   "source": [
    "# 데이터 프레임을 행렬 형태로 만들어주기"
   ]
  },
  {
   "cell_type": "code",
   "execution_count": 14,
   "id": "7640a550",
   "metadata": {
    "scrolled": true
   },
   "outputs": [
    {
     "data": {
      "text/plain": [
       "array([['여성', '30대', 'Z11', ..., 0.0019174718632772533, 0.0, '01월'],\n",
       "       ['여성', '30대', 'Z11', ..., 0.0007526989705538311, 0.0, '01월'],\n",
       "       ['여성', '30대', 'Z11', ..., 0.0008379262553872522, 0.0, '01월'],\n",
       "       ...,\n",
       "       ['여성', '50대', 'Z17', ..., 0.004872017737502519, 0.0, '01월'],\n",
       "       ['여성', '50대', 'Z17', ..., 0.01264190520481608, 0.0, '04월'],\n",
       "       ['여성', '50대', 'Z17', ..., 0.007102131690643706, 0.0, '05월']],\n",
       "      dtype=object)"
      ]
     },
     "execution_count": 14,
     "metadata": {},
     "output_type": "execute_result"
    }
   ],
   "source": [
    "# convert dataframe to matrix\n",
    "dfmatrix = ndf2.to_numpy()\n",
    "dfmatrix"
   ]
  },
  {
   "cell_type": "markdown",
   "id": "acc88d93",
   "metadata": {},
   "source": [
    "# Elbow Method "
   ]
  },
  {
   "cell_type": "code",
   "execution_count": 15,
   "id": "a07a87b7",
   "metadata": {},
   "outputs": [
    {
     "data": {
      "text/html": [
       "<div><span class=\"Text-label\" style=\"display:inline-block; overflow:hidden; white-space:nowrap; text-overflow:ellipsis; min-width:0; max-width:15ex; vertical-align:middle; text-align:right\"></span>\n",
       "<progress style=\"width:60ex\" max=\"6\" value=\"6\" class=\"Progress-main\"/></progress>\n",
       "<span class=\"Progress-label\"><strong>100%</strong></span>\n",
       "<span class=\"Iteration-label\">6/6</span>\n",
       "<span class=\"Time-label\">[02:15:49<37:01, 1358.24s/it]</span></div>"
      ],
      "text/plain": [
       "\u001b[A\u001b[2K\r",
       " [████████████████████████████████████████████████████████████] 6/6 [02:15:49<37:01, 1358.24s/it]"
      ]
     },
     "metadata": {},
     "output_type": "display_data"
    },
    {
     "name": "stdout",
     "output_type": "stream",
     "text": [
      "Init: initializing centroids\n",
      "Init: initializing clusters\n",
      "Starting iterations...\n",
      "Run: 1, iteration: 1/100, moves: 0, ncost: 227445.00583915706\n",
      "Init: initializing centroids\n",
      "Init: initializing clusters\n",
      "Starting iterations...\n",
      "Run: 2, iteration: 1/100, moves: 0, ncost: 227445.00583915706\n",
      "Init: initializing centroids\n",
      "Init: initializing clusters\n",
      "Starting iterations...\n",
      "Run: 3, iteration: 1/100, moves: 0, ncost: 227445.00583915706\n",
      "Init: initializing centroids\n",
      "Init: initializing clusters\n",
      "Starting iterations...\n",
      "Run: 4, iteration: 1/100, moves: 0, ncost: 227445.00583915706\n",
      "Init: initializing centroids\n",
      "Init: initializing clusters\n",
      "Starting iterations...\n",
      "Run: 5, iteration: 1/100, moves: 0, ncost: 227445.00583915706\n",
      "Init: initializing centroids\n",
      "Init: initializing clusters\n",
      "Starting iterations...\n",
      "Run: 6, iteration: 1/100, moves: 0, ncost: 227445.00583915706\n",
      "Init: initializing centroids\n",
      "Init: initializing clusters\n",
      "Starting iterations...\n",
      "Run: 7, iteration: 1/100, moves: 0, ncost: 227445.00583915706\n",
      "Init: initializing centroids\n",
      "Init: initializing clusters\n",
      "Starting iterations...\n",
      "Run: 8, iteration: 1/100, moves: 0, ncost: 227445.00583915706\n",
      "Init: initializing centroids\n",
      "Init: initializing clusters\n",
      "Starting iterations...\n",
      "Run: 9, iteration: 1/100, moves: 0, ncost: 227445.00583915706\n",
      "Init: initializing centroids\n",
      "Init: initializing clusters\n",
      "Starting iterations...\n",
      "Run: 10, iteration: 1/100, moves: 0, ncost: 227445.00583915706\n",
      "Best run was number 1\n",
      "Cluster initiation: 1\n",
      "Init: initializing centroids\n",
      "Init: initializing clusters\n",
      "Starting iterations...\n",
      "Run: 1, iteration: 1/100, moves: 45627, ncost: 211080.16993394858\n",
      "Run: 1, iteration: 2/100, moves: 871, ncost: 211076.58162488264\n",
      "Run: 1, iteration: 3/100, moves: 0, ncost: 211076.58162488264\n",
      "Init: initializing centroids\n",
      "Init: initializing clusters\n",
      "Starting iterations...\n",
      "Run: 2, iteration: 1/100, moves: 18603, ncost: 211002.67740150052\n",
      "Run: 2, iteration: 2/100, moves: 11, ncost: 211002.67738634802\n",
      "Run: 2, iteration: 3/100, moves: 0, ncost: 211002.67738634802\n",
      "Init: initializing centroids\n",
      "Init: initializing clusters\n",
      "Starting iterations...\n",
      "Run: 3, iteration: 1/100, moves: 30584, ncost: 209684.8084265382\n",
      "Run: 3, iteration: 2/100, moves: 14816, ncost: 209478.37396851054\n",
      "Run: 3, iteration: 3/100, moves: 1008, ncost: 209474.8521502352\n",
      "Run: 3, iteration: 4/100, moves: 539, ncost: 209473.8244195754\n",
      "Run: 3, iteration: 5/100, moves: 0, ncost: 209473.8244195754\n",
      "Init: initializing centroids\n",
      "Init: initializing clusters\n",
      "Starting iterations...\n",
      "Run: 4, iteration: 1/100, moves: 63211, ncost: 209210.67370210355\n",
      "Run: 4, iteration: 2/100, moves: 12715, ncost: 209034.93718098613\n",
      "Run: 4, iteration: 3/100, moves: 9934, ncost: 208935.69835467526\n",
      "Run: 4, iteration: 4/100, moves: 750, ncost: 208933.52261843433\n",
      "Run: 4, iteration: 5/100, moves: 0, ncost: 208933.52261843433\n",
      "Init: initializing centroids\n",
      "Init: initializing clusters\n",
      "Starting iterations...\n",
      "Run: 5, iteration: 1/100, moves: 79747, ncost: 208485.77475710108\n",
      "Run: 5, iteration: 2/100, moves: 0, ncost: 208485.77475710108\n",
      "Init: initializing centroids\n",
      "Init: initializing clusters\n",
      "Starting iterations...\n",
      "Run: 6, iteration: 1/100, moves: 89421, ncost: 207640.59248413888\n",
      "Run: 6, iteration: 2/100, moves: 3367, ncost: 207606.5551176238\n",
      "Run: 6, iteration: 3/100, moves: 4453, ncost: 207568.27301619438\n",
      "Run: 6, iteration: 4/100, moves: 3497, ncost: 207548.12786108715\n",
      "Run: 6, iteration: 5/100, moves: 47, ncost: 207548.12467588467\n",
      "Run: 6, iteration: 6/100, moves: 0, ncost: 207548.12467588467\n",
      "Init: initializing centroids\n",
      "Init: initializing clusters\n",
      "Starting iterations...\n",
      "Run: 7, iteration: 1/100, moves: 67532, ncost: 206187.47806760494\n",
      "Run: 7, iteration: 2/100, moves: 8315, ncost: 206079.71959751952\n",
      "Run: 7, iteration: 3/100, moves: 3613, ncost: 206054.1794829619\n",
      "Run: 7, iteration: 4/100, moves: 2176, ncost: 206044.17177624605\n",
      "Run: 7, iteration: 5/100, moves: 28, ncost: 206044.1701102232\n",
      "Run: 7, iteration: 6/100, moves: 0, ncost: 206044.1701102232\n",
      "Init: initializing centroids\n",
      "Init: initializing clusters\n",
      "Starting iterations...\n",
      "Run: 8, iteration: 1/100, moves: 42960, ncost: 209004.89635340517\n",
      "Run: 8, iteration: 2/100, moves: 5395, ncost: 208967.2784324765\n",
      "Run: 8, iteration: 3/100, moves: 854, ncost: 208966.17864230668\n",
      "Run: 8, iteration: 4/100, moves: 0, ncost: 208966.17864230668\n",
      "Init: initializing centroids\n",
      "Init: initializing clusters\n",
      "Starting iterations...\n",
      "Run: 9, iteration: 1/100, moves: 55825, ncost: 214703.727622581\n",
      "Run: 9, iteration: 2/100, moves: 0, ncost: 214703.727622581\n",
      "Init: initializing centroids\n",
      "Init: initializing clusters\n",
      "Starting iterations...\n",
      "Run: 10, iteration: 1/100, moves: 91792, ncost: 210062.11905481835\n",
      "Run: 10, iteration: 2/100, moves: 0, ncost: 210062.11905481835\n",
      "Best run was number 7\n",
      "Cluster initiation: 2\n",
      "Init: initializing centroids\n",
      "Init: initializing clusters\n",
      "Starting iterations...\n",
      "Run: 1, iteration: 1/100, moves: 100396, ncost: 194986.46403230613\n",
      "Run: 1, iteration: 2/100, moves: 57003, ncost: 194010.26861544067\n",
      "Run: 1, iteration: 3/100, moves: 7438, ncost: 193995.92006688766\n",
      "Run: 1, iteration: 4/100, moves: 0, ncost: 193995.92006688766\n",
      "Init: initializing centroids\n",
      "Init: initializing clusters\n",
      "Starting iterations...\n",
      "Run: 2, iteration: 1/100, moves: 112056, ncost: 193201.14861124384\n",
      "Run: 2, iteration: 2/100, moves: 22256, ncost: 192962.1032655044\n",
      "Run: 2, iteration: 3/100, moves: 4246, ncost: 192951.06675155438\n",
      "Run: 2, iteration: 4/100, moves: 87, ncost: 192951.04840244266\n",
      "Run: 2, iteration: 5/100, moves: 0, ncost: 192951.04840244266\n",
      "Init: initializing centroids\n",
      "Init: initializing clusters\n",
      "Starting iterations...\n",
      "Run: 3, iteration: 1/100, moves: 62742, ncost: 195626.74532195338\n",
      "Run: 3, iteration: 2/100, moves: 8735, ncost: 195521.3474205918\n",
      "Run: 3, iteration: 3/100, moves: 8232, ncost: 195417.2609921166\n",
      "Run: 3, iteration: 4/100, moves: 3528, ncost: 195405.78682492735\n",
      "Run: 3, iteration: 5/100, moves: 31, ncost: 195405.7832733267\n",
      "Run: 3, iteration: 6/100, moves: 0, ncost: 195405.7832733267\n",
      "Init: initializing centroids\n",
      "Init: initializing clusters\n",
      "Starting iterations...\n",
      "Run: 4, iteration: 1/100, moves: 71177, ncost: 197488.53236106478\n",
      "Run: 4, iteration: 2/100, moves: 10868, ncost: 197435.92165024084\n",
      "Run: 4, iteration: 3/100, moves: 629, ncost: 197435.32038836705\n",
      "Run: 4, iteration: 4/100, moves: 0, ncost: 197435.32038836705\n",
      "Init: initializing centroids\n",
      "Init: initializing clusters\n",
      "Starting iterations...\n",
      "Run: 5, iteration: 1/100, moves: 96166, ncost: 193342.48201445496\n",
      "Run: 5, iteration: 2/100, moves: 10594, ncost: 193268.05421295986\n",
      "Run: 5, iteration: 3/100, moves: 7765, ncost: 193195.92889635827\n",
      "Run: 5, iteration: 4/100, moves: 4466, ncost: 193174.15814253184\n",
      "Run: 5, iteration: 5/100, moves: 1680, ncost: 193169.05233265503\n",
      "Run: 5, iteration: 6/100, moves: 0, ncost: 193169.05233265503\n",
      "Init: initializing centroids\n",
      "Init: initializing clusters\n",
      "Starting iterations...\n",
      "Run: 6, iteration: 1/100, moves: 111147, ncost: 192548.31259565163\n",
      "Run: 6, iteration: 2/100, moves: 2997, ncost: 192533.36101138158\n",
      "Run: 6, iteration: 3/100, moves: 87, ncost: 192533.34600021105\n",
      "Run: 6, iteration: 4/100, moves: 0, ncost: 192533.34600021105\n",
      "Init: initializing centroids\n",
      "Init: initializing clusters\n",
      "Starting iterations...\n",
      "Run: 7, iteration: 1/100, moves: 73846, ncost: 202185.39703111636\n",
      "Run: 7, iteration: 2/100, moves: 2739, ncost: 202178.26605890185\n",
      "Run: 7, iteration: 3/100, moves: 281, ncost: 202177.87659115277\n",
      "Run: 7, iteration: 4/100, moves: 0, ncost: 202177.87659115277\n",
      "Init: initializing centroids\n",
      "Init: initializing clusters\n",
      "Starting iterations...\n",
      "Run: 8, iteration: 1/100, moves: 86480, ncost: 202924.02681673237\n",
      "Run: 8, iteration: 2/100, moves: 14035, ncost: 202850.67514554324\n",
      "Run: 8, iteration: 3/100, moves: 276, ncost: 202850.55764724425\n",
      "Run: 8, iteration: 4/100, moves: 0, ncost: 202850.55764724425\n",
      "Init: initializing centroids\n",
      "Init: initializing clusters\n",
      "Starting iterations...\n",
      "Run: 9, iteration: 1/100, moves: 112681, ncost: 196812.02805128653\n",
      "Run: 9, iteration: 2/100, moves: 31293, ncost: 196725.34955887176\n",
      "Run: 9, iteration: 3/100, moves: 1249, ncost: 196724.17921621006\n",
      "Run: 9, iteration: 4/100, moves: 0, ncost: 196724.17921621006\n",
      "Init: initializing centroids\n",
      "Init: initializing clusters\n",
      "Starting iterations...\n",
      "Run: 10, iteration: 1/100, moves: 73163, ncost: 199924.62793132578\n"
     ]
    },
    {
     "name": "stdout",
     "output_type": "stream",
     "text": [
      "Run: 10, iteration: 2/100, moves: 9740, ncost: 199828.31005839334\n",
      "Run: 10, iteration: 3/100, moves: 5689, ncost: 199744.28006193333\n",
      "Run: 10, iteration: 4/100, moves: 5006, ncost: 199662.51128188247\n",
      "Run: 10, iteration: 5/100, moves: 198, ncost: 199662.4076347502\n",
      "Run: 10, iteration: 6/100, moves: 0, ncost: 199662.4076347502\n",
      "Best run was number 6\n",
      "Cluster initiation: 3\n",
      "Init: initializing centroids\n",
      "Init: initializing clusters\n",
      "Starting iterations...\n",
      "Run: 1, iteration: 1/100, moves: 124648, ncost: 191139.11508853023\n",
      "Run: 1, iteration: 2/100, moves: 43035, ncost: 190519.92963440687\n",
      "Run: 1, iteration: 3/100, moves: 19694, ncost: 190352.06332629075\n",
      "Run: 1, iteration: 4/100, moves: 24813, ncost: 190138.99177587964\n",
      "Run: 1, iteration: 5/100, moves: 21576, ncost: 189963.61557907768\n",
      "Run: 1, iteration: 6/100, moves: 617, ncost: 189961.6720576059\n",
      "Run: 1, iteration: 7/100, moves: 3, ncost: 189961.6719879963\n",
      "Run: 1, iteration: 8/100, moves: 0, ncost: 189961.6719879963\n",
      "Init: initializing centroids\n",
      "Init: initializing clusters\n",
      "Starting iterations...\n",
      "Run: 2, iteration: 1/100, moves: 95711, ncost: 186370.84139689442\n",
      "Run: 2, iteration: 2/100, moves: 16516, ncost: 186242.54289496955\n",
      "Run: 2, iteration: 3/100, moves: 2825, ncost: 186217.29329207898\n",
      "Run: 2, iteration: 4/100, moves: 727, ncost: 186216.3072729278\n",
      "Run: 2, iteration: 5/100, moves: 0, ncost: 186216.3072729278\n",
      "Init: initializing centroids\n",
      "Init: initializing clusters\n",
      "Starting iterations...\n",
      "Run: 3, iteration: 1/100, moves: 93151, ncost: 190905.98374776138\n",
      "Run: 3, iteration: 2/100, moves: 15739, ncost: 190822.33975608606\n",
      "Run: 3, iteration: 3/100, moves: 8158, ncost: 190722.54705617603\n",
      "Run: 3, iteration: 4/100, moves: 2724, ncost: 190716.09890682407\n",
      "Run: 3, iteration: 5/100, moves: 30, ncost: 190716.0946342293\n",
      "Run: 3, iteration: 6/100, moves: 0, ncost: 190716.0946342293\n",
      "Init: initializing centroids\n",
      "Init: initializing clusters\n",
      "Starting iterations...\n",
      "Run: 4, iteration: 1/100, moves: 115494, ncost: 186704.63829766828\n",
      "Run: 4, iteration: 2/100, moves: 22780, ncost: 186603.73326916303\n",
      "Run: 4, iteration: 3/100, moves: 3426, ncost: 186600.43078442183\n",
      "Run: 4, iteration: 4/100, moves: 2296, ncost: 186599.77970373532\n",
      "Run: 4, iteration: 5/100, moves: 1171, ncost: 186591.48116768434\n",
      "Run: 4, iteration: 6/100, moves: 2293, ncost: 186579.7843990457\n",
      "Run: 4, iteration: 7/100, moves: 220, ncost: 186579.56593604892\n",
      "Run: 4, iteration: 8/100, moves: 0, ncost: 186579.56593604892\n",
      "Init: initializing centroids\n",
      "Init: initializing clusters\n",
      "Starting iterations...\n",
      "Run: 5, iteration: 1/100, moves: 44474, ncost: 190242.97302903846\n",
      "Run: 5, iteration: 2/100, moves: 2086, ncost: 190238.73443542715\n",
      "Run: 5, iteration: 3/100, moves: 603, ncost: 190238.51543461715\n",
      "Run: 5, iteration: 4/100, moves: 0, ncost: 190238.51543461715\n",
      "Init: initializing centroids\n",
      "Init: initializing clusters\n",
      "Starting iterations...\n",
      "Run: 6, iteration: 1/100, moves: 137360, ncost: 188756.9464645056\n",
      "Run: 6, iteration: 2/100, moves: 7616, ncost: 188713.7585004596\n",
      "Run: 6, iteration: 3/100, moves: 1764, ncost: 188712.3819712344\n",
      "Run: 6, iteration: 4/100, moves: 0, ncost: 188712.3819712344\n",
      "Init: initializing centroids\n",
      "Init: initializing clusters\n",
      "Starting iterations...\n",
      "Run: 7, iteration: 1/100, moves: 109708, ncost: 186684.28999746972\n",
      "Run: 7, iteration: 2/100, moves: 14921, ncost: 186557.5682343578\n",
      "Run: 7, iteration: 3/100, moves: 1845, ncost: 186556.38618340346\n",
      "Run: 7, iteration: 4/100, moves: 53, ncost: 186556.3653344466\n",
      "Run: 7, iteration: 5/100, moves: 0, ncost: 186556.3653344466\n",
      "Init: initializing centroids\n",
      "Init: initializing clusters\n",
      "Starting iterations...\n",
      "Run: 8, iteration: 1/100, moves: 98651, ncost: 187319.42296359976\n",
      "Run: 8, iteration: 2/100, moves: 8823, ncost: 187248.86530931963\n",
      "Run: 8, iteration: 3/100, moves: 3161, ncost: 187239.8405204485\n",
      "Run: 8, iteration: 4/100, moves: 150, ncost: 187239.7878800536\n",
      "Run: 8, iteration: 5/100, moves: 18, ncost: 187239.78702515454\n",
      "Run: 8, iteration: 6/100, moves: 0, ncost: 187239.78702515454\n",
      "Init: initializing centroids\n",
      "Init: initializing clusters\n",
      "Starting iterations...\n",
      "Run: 9, iteration: 1/100, moves: 102839, ncost: 194212.63748226923\n",
      "Run: 9, iteration: 2/100, moves: 11093, ncost: 194154.44253470897\n",
      "Run: 9, iteration: 3/100, moves: 3604, ncost: 194130.8245690536\n",
      "Run: 9, iteration: 4/100, moves: 1865, ncost: 194126.32601111097\n",
      "Run: 9, iteration: 5/100, moves: 24, ncost: 194126.32148642448\n",
      "Run: 9, iteration: 6/100, moves: 0, ncost: 194126.32148642448\n",
      "Init: initializing centroids\n",
      "Init: initializing clusters\n",
      "Starting iterations...\n",
      "Run: 10, iteration: 1/100, moves: 116910, ncost: 186735.8538736609\n",
      "Run: 10, iteration: 2/100, moves: 15218, ncost: 186644.49452139434\n",
      "Run: 10, iteration: 3/100, moves: 3225, ncost: 186631.8547759584\n",
      "Run: 10, iteration: 4/100, moves: 2514, ncost: 186622.19334480164\n",
      "Run: 10, iteration: 5/100, moves: 332, ncost: 186621.82427287175\n",
      "Run: 10, iteration: 6/100, moves: 12, ncost: 186621.82425318766\n",
      "Run: 10, iteration: 7/100, moves: 1, ncost: 186621.82425313778\n",
      "Run: 10, iteration: 8/100, moves: 0, ncost: 186621.82425313778\n",
      "Best run was number 2\n",
      "Cluster initiation: 4\n",
      "Init: initializing centroids\n",
      "Init: initializing clusters\n",
      "Starting iterations...\n",
      "Run: 1, iteration: 1/100, moves: 145513, ncost: 185786.11328532058\n",
      "Run: 1, iteration: 2/100, moves: 33785, ncost: 185419.27375306387\n",
      "Run: 1, iteration: 3/100, moves: 11454, ncost: 185389.6185150181\n",
      "Run: 1, iteration: 4/100, moves: 406, ncost: 185389.23170238337\n",
      "Run: 1, iteration: 5/100, moves: 50, ncost: 185389.2238861003\n",
      "Run: 1, iteration: 6/100, moves: 0, ncost: 185389.2238861003\n",
      "Init: initializing centroids\n",
      "Init: initializing clusters\n",
      "Starting iterations...\n",
      "Run: 2, iteration: 1/100, moves: 77080, ncost: 183253.34625240162\n",
      "Run: 2, iteration: 2/100, moves: 29181, ncost: 182674.1767872975\n",
      "Run: 2, iteration: 3/100, moves: 11287, ncost: 182623.81573180546\n",
      "Run: 2, iteration: 4/100, moves: 4182, ncost: 182567.85138046442\n",
      "Run: 2, iteration: 5/100, moves: 7732, ncost: 182516.230110272\n",
      "Run: 2, iteration: 6/100, moves: 1673, ncost: 182513.02318518944\n",
      "Run: 2, iteration: 7/100, moves: 516, ncost: 182512.15444893\n",
      "Run: 2, iteration: 8/100, moves: 8, ncost: 182512.15440675846\n",
      "Run: 2, iteration: 9/100, moves: 0, ncost: 182512.15440675846\n",
      "Init: initializing centroids\n",
      "Init: initializing clusters\n",
      "Starting iterations...\n",
      "Run: 3, iteration: 1/100, moves: 106436, ncost: 180379.83853642837\n",
      "Run: 3, iteration: 2/100, moves: 10539, ncost: 180346.6457152432\n",
      "Run: 3, iteration: 3/100, moves: 1457, ncost: 180345.06087653927\n",
      "Run: 3, iteration: 4/100, moves: 3, ncost: 180345.060854955\n",
      "Run: 3, iteration: 5/100, moves: 0, ncost: 180345.060854955\n",
      "Init: initializing centroids\n",
      "Init: initializing clusters\n",
      "Starting iterations...\n",
      "Run: 4, iteration: 1/100, moves: 69488, ncost: 184293.34074616726\n",
      "Run: 4, iteration: 2/100, moves: 7013, ncost: 184281.96949468929\n",
      "Run: 4, iteration: 3/100, moves: 2952, ncost: 184278.9932267297\n",
      "Run: 4, iteration: 4/100, moves: 800, ncost: 184278.6738364021\n",
      "Run: 4, iteration: 5/100, moves: 32, ncost: 184278.67128368048\n",
      "Run: 4, iteration: 6/100, moves: 0, ncost: 184278.67128368048\n",
      "Init: initializing centroids\n",
      "Init: initializing clusters\n",
      "Starting iterations...\n",
      "Run: 5, iteration: 1/100, moves: 58317, ncost: 183980.90410873736\n",
      "Run: 5, iteration: 2/100, moves: 9248, ncost: 183870.25408348656\n",
      "Run: 5, iteration: 3/100, moves: 6304, ncost: 183843.02752460743\n",
      "Run: 5, iteration: 4/100, moves: 2982, ncost: 183839.79099633783\n",
      "Run: 5, iteration: 5/100, moves: 1, ncost: 183839.79099616868\n",
      "Run: 5, iteration: 6/100, moves: 0, ncost: 183839.79099616868\n",
      "Init: initializing centroids\n",
      "Init: initializing clusters\n",
      "Starting iterations...\n",
      "Run: 6, iteration: 1/100, moves: 114268, ncost: 178541.59971069754\n",
      "Run: 6, iteration: 2/100, moves: 12700, ncost: 178493.2243875608\n",
      "Run: 6, iteration: 3/100, moves: 2951, ncost: 178469.80109236133\n",
      "Run: 6, iteration: 4/100, moves: 2196, ncost: 178461.9019124324\n",
      "Run: 6, iteration: 5/100, moves: 53, ncost: 178461.8752809732\n",
      "Run: 6, iteration: 6/100, moves: 0, ncost: 178461.8752809732\n",
      "Init: initializing centroids\n",
      "Init: initializing clusters\n",
      "Starting iterations...\n",
      "Run: 7, iteration: 1/100, moves: 92214, ncost: 183772.33978883753\n",
      "Run: 7, iteration: 2/100, moves: 35866, ncost: 182261.52926655178\n"
     ]
    },
    {
     "name": "stdout",
     "output_type": "stream",
     "text": [
      "Run: 7, iteration: 3/100, moves: 40813, ncost: 181175.52286154032\n",
      "Run: 7, iteration: 4/100, moves: 9789, ncost: 181108.5354354127\n",
      "Run: 7, iteration: 5/100, moves: 5959, ncost: 181068.9740373856\n",
      "Run: 7, iteration: 6/100, moves: 3628, ncost: 181057.4101597427\n",
      "Run: 7, iteration: 7/100, moves: 573, ncost: 181056.05098466182\n",
      "Run: 7, iteration: 8/100, moves: 3, ncost: 181056.05094463585\n",
      "Run: 7, iteration: 9/100, moves: 0, ncost: 181056.05094463585\n",
      "Init: initializing centroids\n",
      "Init: initializing clusters\n",
      "Starting iterations...\n",
      "Run: 8, iteration: 1/100, moves: 96920, ncost: 181389.997604599\n",
      "Run: 8, iteration: 2/100, moves: 13088, ncost: 181297.62806335\n",
      "Run: 8, iteration: 3/100, moves: 5570, ncost: 181279.73442494316\n",
      "Run: 8, iteration: 4/100, moves: 840, ncost: 181279.10255037269\n",
      "Run: 8, iteration: 5/100, moves: 0, ncost: 181279.10255037269\n",
      "Init: initializing centroids\n",
      "Init: initializing clusters\n",
      "Starting iterations...\n",
      "Run: 9, iteration: 1/100, moves: 75054, ncost: 183572.1017487254\n",
      "Run: 9, iteration: 2/100, moves: 38137, ncost: 180899.83785815322\n",
      "Run: 9, iteration: 3/100, moves: 26389, ncost: 180635.94918970682\n",
      "Run: 9, iteration: 4/100, moves: 4352, ncost: 180623.47476735598\n",
      "Run: 9, iteration: 5/100, moves: 1995, ncost: 180623.38405053975\n",
      "Run: 9, iteration: 6/100, moves: 0, ncost: 180623.38405053975\n",
      "Init: initializing centroids\n",
      "Init: initializing clusters\n",
      "Starting iterations...\n",
      "Run: 10, iteration: 1/100, moves: 132214, ncost: 177767.3995975271\n",
      "Run: 10, iteration: 2/100, moves: 20844, ncost: 177576.73049962262\n",
      "Run: 10, iteration: 3/100, moves: 7513, ncost: 177541.7298338579\n",
      "Run: 10, iteration: 4/100, moves: 1787, ncost: 177536.57781009717\n",
      "Run: 10, iteration: 5/100, moves: 1, ncost: 177536.57780183264\n",
      "Run: 10, iteration: 6/100, moves: 0, ncost: 177536.57780183264\n",
      "Best run was number 10\n",
      "Cluster initiation: 5\n",
      "Init: initializing centroids\n",
      "Init: initializing clusters\n",
      "Starting iterations...\n",
      "Run: 1, iteration: 1/100, moves: 133438, ncost: 176531.9393319425\n",
      "Run: 1, iteration: 2/100, moves: 42105, ncost: 176008.33275532338\n",
      "Run: 1, iteration: 3/100, moves: 31167, ncost: 175799.19864991415\n",
      "Run: 1, iteration: 4/100, moves: 15705, ncost: 175629.0834880229\n",
      "Run: 1, iteration: 5/100, moves: 21450, ncost: 175438.17587698795\n",
      "Run: 1, iteration: 6/100, moves: 6937, ncost: 175408.5401070602\n",
      "Run: 1, iteration: 7/100, moves: 3245, ncost: 175374.88895202434\n",
      "Run: 1, iteration: 8/100, moves: 1919, ncost: 175365.03916348747\n",
      "Run: 1, iteration: 9/100, moves: 2913, ncost: 175364.45407915078\n",
      "Run: 1, iteration: 10/100, moves: 456, ncost: 175364.15967913045\n",
      "Run: 1, iteration: 11/100, moves: 7, ncost: 175364.1593758919\n",
      "Run: 1, iteration: 12/100, moves: 0, ncost: 175364.1593758919\n",
      "Init: initializing centroids\n",
      "Init: initializing clusters\n",
      "Starting iterations...\n",
      "Run: 2, iteration: 1/100, moves: 125578, ncost: 179554.3182381104\n",
      "Run: 2, iteration: 2/100, moves: 28267, ncost: 179188.6339443327\n",
      "Run: 2, iteration: 3/100, moves: 13547, ncost: 179056.61619020047\n",
      "Run: 2, iteration: 4/100, moves: 4003, ncost: 179033.81801340886\n",
      "Run: 2, iteration: 5/100, moves: 4408, ncost: 178986.37004029765\n",
      "Run: 2, iteration: 6/100, moves: 3447, ncost: 178958.39032497318\n",
      "Run: 2, iteration: 7/100, moves: 476, ncost: 178957.585218658\n",
      "Run: 2, iteration: 8/100, moves: 39, ncost: 178957.5795839288\n",
      "Run: 2, iteration: 9/100, moves: 1, ncost: 178957.5795759249\n",
      "Run: 2, iteration: 10/100, moves: 0, ncost: 178957.5795759249\n",
      "Init: initializing centroids\n",
      "Init: initializing clusters\n",
      "Starting iterations...\n",
      "Run: 3, iteration: 1/100, moves: 136351, ncost: 175296.74161116235\n",
      "Run: 3, iteration: 2/100, moves: 23639, ncost: 175050.74305351285\n",
      "Run: 3, iteration: 3/100, moves: 5647, ncost: 174984.26084613567\n",
      "Run: 3, iteration: 4/100, moves: 4735, ncost: 174906.47666747068\n",
      "Run: 3, iteration: 5/100, moves: 10843, ncost: 174780.73287963538\n",
      "Run: 3, iteration: 6/100, moves: 2451, ncost: 174769.26342002384\n",
      "Run: 3, iteration: 7/100, moves: 290, ncost: 174768.57687174744\n",
      "Run: 3, iteration: 8/100, moves: 1, ncost: 174768.57687061827\n",
      "Run: 3, iteration: 9/100, moves: 0, ncost: 174768.57687061827\n",
      "Init: initializing centroids\n",
      "Init: initializing clusters\n",
      "Starting iterations...\n",
      "Run: 4, iteration: 1/100, moves: 126240, ncost: 176581.87454450317\n",
      "Run: 4, iteration: 2/100, moves: 10739, ncost: 176530.82450610088\n",
      "Run: 4, iteration: 3/100, moves: 2066, ncost: 176516.61566242727\n",
      "Run: 4, iteration: 4/100, moves: 928, ncost: 176513.67860659145\n",
      "Run: 4, iteration: 5/100, moves: 54, ncost: 176513.6563043085\n",
      "Run: 4, iteration: 6/100, moves: 0, ncost: 176513.6563043085\n",
      "Init: initializing centroids\n",
      "Init: initializing clusters\n",
      "Starting iterations...\n",
      "Run: 5, iteration: 1/100, moves: 99367, ncost: 176271.4630328601\n",
      "Run: 5, iteration: 2/100, moves: 37483, ncost: 175185.0421133859\n",
      "Run: 5, iteration: 3/100, moves: 22660, ncost: 174987.53600596523\n",
      "Run: 5, iteration: 4/100, moves: 2581, ncost: 174977.90922926366\n",
      "Run: 5, iteration: 5/100, moves: 53, ncost: 174977.88247895392\n",
      "Run: 5, iteration: 6/100, moves: 0, ncost: 174977.88247895392\n",
      "Init: initializing centroids\n",
      "Init: initializing clusters\n",
      "Starting iterations...\n",
      "Run: 6, iteration: 1/100, moves: 78170, ncost: 177373.26755120163\n",
      "Run: 6, iteration: 2/100, moves: 27188, ncost: 176787.65318313084\n",
      "Run: 6, iteration: 3/100, moves: 23151, ncost: 176445.83538182723\n",
      "Run: 6, iteration: 4/100, moves: 18601, ncost: 176265.98740262105\n",
      "Run: 6, iteration: 5/100, moves: 9206, ncost: 176233.60226114964\n",
      "Run: 6, iteration: 6/100, moves: 502, ncost: 176233.3535511752\n",
      "Run: 6, iteration: 7/100, moves: 22, ncost: 176233.35152701236\n",
      "Run: 6, iteration: 8/100, moves: 0, ncost: 176233.35152701236\n",
      "Init: initializing centroids\n",
      "Init: initializing clusters\n",
      "Starting iterations...\n",
      "Run: 7, iteration: 1/100, moves: 118277, ncost: 177827.60458815141\n",
      "Run: 7, iteration: 2/100, moves: 30650, ncost: 177580.3751715682\n",
      "Run: 7, iteration: 3/100, moves: 9564, ncost: 177542.59979943171\n",
      "Run: 7, iteration: 4/100, moves: 1215, ncost: 177542.486216727\n",
      "Run: 7, iteration: 5/100, moves: 25, ncost: 177542.48621304036\n",
      "Run: 7, iteration: 6/100, moves: 0, ncost: 177542.48621304036\n",
      "Init: initializing centroids\n",
      "Init: initializing clusters\n",
      "Starting iterations...\n",
      "Run: 8, iteration: 1/100, moves: 98018, ncost: 173384.46234891485\n",
      "Run: 8, iteration: 2/100, moves: 17890, ncost: 173246.33448486327\n",
      "Run: 8, iteration: 3/100, moves: 8385, ncost: 173209.2709179531\n",
      "Run: 8, iteration: 4/100, moves: 2030, ncost: 173206.07256421258\n",
      "Run: 8, iteration: 5/100, moves: 1125, ncost: 173205.12564286278\n",
      "Run: 8, iteration: 6/100, moves: 0, ncost: 173205.12564286278\n",
      "Init: initializing centroids\n",
      "Init: initializing clusters\n",
      "Starting iterations...\n",
      "Run: 9, iteration: 1/100, moves: 150435, ncost: 182961.56625833813\n",
      "Run: 9, iteration: 2/100, moves: 46827, ncost: 182553.34577502112\n",
      "Run: 9, iteration: 3/100, moves: 9853, ncost: 182478.74135149462\n",
      "Run: 9, iteration: 4/100, moves: 8959, ncost: 182387.2475920919\n",
      "Run: 9, iteration: 5/100, moves: 4850, ncost: 182375.64641646418\n",
      "Run: 9, iteration: 6/100, moves: 1299, ncost: 182375.0733324952\n",
      "Run: 9, iteration: 7/100, moves: 3, ncost: 182375.07333125419\n",
      "Run: 9, iteration: 8/100, moves: 0, ncost: 182375.07333125419\n",
      "Init: initializing centroids\n",
      "Init: initializing clusters\n",
      "Starting iterations...\n",
      "Run: 10, iteration: 1/100, moves: 134023, ncost: 178794.64183564714\n",
      "Run: 10, iteration: 2/100, moves: 36466, ncost: 178269.76531075407\n",
      "Run: 10, iteration: 3/100, moves: 28802, ncost: 177906.7269768385\n",
      "Run: 10, iteration: 4/100, moves: 12417, ncost: 177819.02016569098\n",
      "Run: 10, iteration: 5/100, moves: 837, ncost: 177818.20479597378\n",
      "Run: 10, iteration: 6/100, moves: 2, ncost: 177818.2047911556\n",
      "Run: 10, iteration: 7/100, moves: 0, ncost: 177818.2047911556\n",
      "Best run was number 8\n",
      "Cluster initiation: 6\n"
     ]
    }
   ],
   "source": [
    "# Choose optimal K using Elbow method\n",
    "cost = []\n",
    "for cluster in ipb(range(1, 7)):\n",
    "    try:\n",
    "        kprototype = KPrototypes(n_clusters = cluster, init = 'Huang',\n",
    "                                 random_state = 0, verbose = True)\n",
    "        kprototype.fit_predict(dfmatrix, categorical = catcol)\n",
    "        cost.append(kprototype.cost_)\n",
    "        print('Cluster initiation: {}'.format(cluster))\n",
    "    except:\n",
    "        break\n",
    "    time.sleep(0.1)"
   ]
  },
  {
   "cell_type": "code",
   "execution_count": 16,
   "id": "f3c10df8",
   "metadata": {
    "scrolled": true
   },
   "outputs": [
    {
     "data": {
      "image/png": "[encoded data removed]",
      "text/plain": [
       "<Figure size 800x480 with 1 Axes>"
      ]
     },
     "metadata": {
      "needs_background": "light"
     },
     "output_type": "display_data"
    },
    {
     "data": {
      "text/plain": [
       "<ggplot: (121828968180)>"
      ]
     },
     "execution_count": 16,
     "metadata": {},
     "output_type": "execute_result"
    }
   ],
   "source": [
    "# Elbow 메소드 시각화\n",
    "# Converting the results into a dataframe and plotting them\n",
    "df_cost = pd.DataFrame({'Cluster':range(1, 7), 'Cost':cost})\n",
    "# Data viz\n",
    "plotnine.options.figure_size = (8, 4.8)\n",
    "(\n",
    "    ggplot(data = df_cost)+\n",
    "    geom_line(aes(x = 'Cluster',\n",
    "                  y = 'Cost'))+\n",
    "    geom_point(aes(x = 'Cluster',\n",
    "                   y = 'Cost'))+\n",
    "    geom_label(aes(x = 'Cluster',\n",
    "                   y = 'Cost',\n",
    "                   label = 'Cluster'),\n",
    "               size = 10,\n",
    "               nudge_y = 1000) +\n",
    "    labs(title = 'Optimal number of cluster with Elbow Method')+\n",
    "    xlab('Number of Clusters k')+\n",
    "    ylab('Cost')+\n",
    "    theme_minimal()\n",
    ")"
   ]
  },
  {
   "cell_type": "markdown",
   "id": "0582210f",
   "metadata": {},
   "source": [
    "- 위의 결과 3번이 제일 좋아 보임"
   ]
  },
  {
   "cell_type": "code",
   "execution_count": 30,
   "id": "e01c3da1-9bdf-47fe-9aec-46dff7dfc905",
   "metadata": {},
   "outputs": [
    {
     "data": {
      "text/html": [
       "<div>\n",
       "<style scoped>\n",
       "    .dataframe tbody tr th:only-of-type {\n",
       "        vertical-align: middle;\n",
       "    }\n",
       "\n",
       "    .dataframe tbody tr th {\n",
       "        vertical-align: top;\n",
       "    }\n",
       "\n",
       "    .dataframe thead th {\n",
       "        text-align: right;\n",
       "    }\n",
       "</style>\n",
       "<table border=\"1\" class=\"dataframe\">\n",
       "  <thead>\n",
       "    <tr style=\"text-align: right;\">\n",
       "      <th></th>\n",
       "      <th>Cluster</th>\n",
       "      <th>Cost</th>\n",
       "    </tr>\n",
       "  </thead>\n",
       "  <tbody>\n",
       "    <tr>\n",
       "      <th>0</th>\n",
       "      <td>1</td>\n",
       "      <td>227445.005839</td>\n",
       "    </tr>\n",
       "    <tr>\n",
       "      <th>1</th>\n",
       "      <td>2</td>\n",
       "      <td>206044.170110</td>\n",
       "    </tr>\n",
       "    <tr>\n",
       "      <th>2</th>\n",
       "      <td>3</td>\n",
       "      <td>192533.346000</td>\n",
       "    </tr>\n",
       "    <tr>\n",
       "      <th>3</th>\n",
       "      <td>4</td>\n",
       "      <td>186216.307273</td>\n",
       "    </tr>\n",
       "    <tr>\n",
       "      <th>4</th>\n",
       "      <td>5</td>\n",
       "      <td>177536.577802</td>\n",
       "    </tr>\n",
       "    <tr>\n",
       "      <th>5</th>\n",
       "      <td>6</td>\n",
       "      <td>173205.125643</td>\n",
       "    </tr>\n",
       "  </tbody>\n",
       "</table>\n",
       "</div>"
      ],
      "text/plain": [
       "   Cluster           Cost\n",
       "0        1  227445.005839\n",
       "1        2  206044.170110\n",
       "2        3  192533.346000\n",
       "3        4  186216.307273\n",
       "4        5  177536.577802\n",
       "5        6  173205.125643"
      ]
     },
     "execution_count": 30,
     "metadata": {},
     "output_type": "execute_result"
    }
   ],
   "source": [
    "df_cost"
   ]
  },
  {
   "cell_type": "markdown",
   "id": "3dd891df",
   "metadata": {},
   "source": [
    "- 우선 3을 군집개수로 선택"
   ]
  },
  {
   "cell_type": "markdown",
   "id": "5a522836",
   "metadata": {},
   "source": [
    "# 군집개수 선택 후 모델 적합하기"
   ]
  },
  {
   "cell_type": "code",
   "execution_count": 29,
   "id": "b8588306",
   "metadata": {},
   "outputs": [
    {
     "name": "stdout",
     "output_type": "stream",
     "text": [
      "Init: initializing centroids\n",
      "Init: initializing clusters\n",
      "Starting iterations...\n",
      "Run: 1, iteration: 1/100, moves: 100396, ncost: 194986.46403230613\n",
      "Run: 1, iteration: 2/100, moves: 57003, ncost: 194010.26861544067\n",
      "Run: 1, iteration: 3/100, moves: 7438, ncost: 193995.92006688766\n",
      "Run: 1, iteration: 4/100, moves: 0, ncost: 193995.92006688766\n",
      "Init: initializing centroids\n",
      "Init: initializing clusters\n",
      "Starting iterations...\n",
      "Run: 2, iteration: 1/100, moves: 112056, ncost: 193201.14861124384\n",
      "Run: 2, iteration: 2/100, moves: 22256, ncost: 192962.1032655044\n",
      "Run: 2, iteration: 3/100, moves: 4246, ncost: 192951.06675155438\n",
      "Run: 2, iteration: 4/100, moves: 87, ncost: 192951.04840244266\n",
      "Run: 2, iteration: 5/100, moves: 0, ncost: 192951.04840244266\n",
      "Init: initializing centroids\n",
      "Init: initializing clusters\n",
      "Starting iterations...\n",
      "Run: 3, iteration: 1/100, moves: 62742, ncost: 195626.74532195338\n",
      "Run: 3, iteration: 2/100, moves: 8735, ncost: 195521.3474205918\n",
      "Run: 3, iteration: 3/100, moves: 8232, ncost: 195417.2609921166\n",
      "Run: 3, iteration: 4/100, moves: 3528, ncost: 195405.78682492735\n",
      "Run: 3, iteration: 5/100, moves: 31, ncost: 195405.7832733267\n",
      "Run: 3, iteration: 6/100, moves: 0, ncost: 195405.7832733267\n",
      "Init: initializing centroids\n",
      "Init: initializing clusters\n",
      "Starting iterations...\n",
      "Run: 4, iteration: 1/100, moves: 71177, ncost: 197488.53236106478\n",
      "Run: 4, iteration: 2/100, moves: 10868, ncost: 197435.92165024084\n",
      "Run: 4, iteration: 3/100, moves: 629, ncost: 197435.32038836705\n",
      "Run: 4, iteration: 4/100, moves: 0, ncost: 197435.32038836705\n",
      "Init: initializing centroids\n",
      "Init: initializing clusters\n",
      "Starting iterations...\n",
      "Run: 5, iteration: 1/100, moves: 96166, ncost: 193342.48201445496\n",
      "Run: 5, iteration: 2/100, moves: 10594, ncost: 193268.05421295986\n",
      "Run: 5, iteration: 3/100, moves: 7765, ncost: 193195.92889635827\n",
      "Run: 5, iteration: 4/100, moves: 4466, ncost: 193174.15814253184\n",
      "Run: 5, iteration: 5/100, moves: 1680, ncost: 193169.05233265503\n",
      "Run: 5, iteration: 6/100, moves: 0, ncost: 193169.05233265503\n",
      "Init: initializing centroids\n",
      "Init: initializing clusters\n",
      "Starting iterations...\n",
      "Run: 6, iteration: 1/100, moves: 111147, ncost: 192548.31259565163\n",
      "Run: 6, iteration: 2/100, moves: 2997, ncost: 192533.36101138158\n",
      "Run: 6, iteration: 3/100, moves: 87, ncost: 192533.34600021105\n",
      "Run: 6, iteration: 4/100, moves: 0, ncost: 192533.34600021105\n",
      "Init: initializing centroids\n",
      "Init: initializing clusters\n",
      "Starting iterations...\n",
      "Run: 7, iteration: 1/100, moves: 73846, ncost: 202185.39703111636\n",
      "Run: 7, iteration: 2/100, moves: 2739, ncost: 202178.26605890185\n",
      "Run: 7, iteration: 3/100, moves: 281, ncost: 202177.87659115277\n",
      "Run: 7, iteration: 4/100, moves: 0, ncost: 202177.87659115277\n",
      "Init: initializing centroids\n",
      "Init: initializing clusters\n",
      "Starting iterations...\n",
      "Run: 8, iteration: 1/100, moves: 86480, ncost: 202924.02681673237\n",
      "Run: 8, iteration: 2/100, moves: 14035, ncost: 202850.67514554324\n",
      "Run: 8, iteration: 3/100, moves: 276, ncost: 202850.55764724425\n",
      "Run: 8, iteration: 4/100, moves: 0, ncost: 202850.55764724425\n",
      "Init: initializing centroids\n",
      "Init: initializing clusters\n",
      "Starting iterations...\n",
      "Run: 9, iteration: 1/100, moves: 112681, ncost: 196812.02805128653\n",
      "Run: 9, iteration: 2/100, moves: 31293, ncost: 196725.34955887176\n",
      "Run: 9, iteration: 3/100, moves: 1249, ncost: 196724.17921621006\n",
      "Run: 9, iteration: 4/100, moves: 0, ncost: 196724.17921621006\n",
      "Init: initializing centroids\n",
      "Init: initializing clusters\n",
      "Starting iterations...\n",
      "Run: 10, iteration: 1/100, moves: 73163, ncost: 199924.62793132578\n",
      "Run: 10, iteration: 2/100, moves: 9740, ncost: 199828.31005839334\n",
      "Run: 10, iteration: 3/100, moves: 5689, ncost: 199744.28006193333\n",
      "Run: 10, iteration: 4/100, moves: 5006, ncost: 199662.51128188247\n",
      "Run: 10, iteration: 5/100, moves: 198, ncost: 199662.4076347502\n",
      "Run: 10, iteration: 6/100, moves: 0, ncost: 199662.4076347502\n",
      "Best run was number 6\n"
     ]
    },
    {
     "data": {
      "text/plain": [
       "array([2, 2, 2, ..., 0, 0, 0], dtype=uint16)"
      ]
     },
     "execution_count": 29,
     "metadata": {},
     "output_type": "execute_result"
    }
   ],
   "source": [
    "# Fit the cluster\n",
    "# n_clusters = 3으로 한다\n",
    "kprototype = KPrototypes(n_clusters = 3, init = 'Huang',\n",
    "                                 random_state = 0, verbose = True)\n",
    "kprototype.fit_predict(dfmatrix, categorical = catcol)"
   ]
  },
  {
   "cell_type": "markdown",
   "id": "9851bcc1",
   "metadata": {},
   "source": [
    "# 기존 데이터 프레임에 분류된 군집 추가하기"
   ]
  },
  {
   "cell_type": "code",
   "execution_count": 31,
   "id": "d7124b7c",
   "metadata": {},
   "outputs": [],
   "source": [
    "#new column for cluster labels associated with each subject\n",
    "df2['cluster'] = kprototype.labels_ # 모든 컬럼 들어있는 데이터프레임에 군집 추가\n",
    "ndf2['cluster'] = kprototype.labels_ # 군집화에 사용된 컬럼 들어있는 데이터프레임에 군집 추가"
   ]
  },
  {
   "cell_type": "code",
   "execution_count": 48,
   "id": "04a212bd",
   "metadata": {},
   "outputs": [],
   "source": [
    "# 데이터 csv파일로 저장\n",
    "df2.to_csv(\"pdde_online_all.csv\", index=False, encoding=\"utf-8-sig\")\n",
    "ndf2.to_csv(\"pdde_online_cateogric.csv\", index=False, encoding=\"utf-8-sig\")"
   ]
  },
  {
   "cell_type": "code",
   "execution_count": 32,
   "id": "67887679",
   "metadata": {},
   "outputs": [
    {
     "data": {
      "text/html": [
       "<div>\n",
       "<style scoped>\n",
       "    .dataframe tbody tr th:only-of-type {\n",
       "        vertical-align: middle;\n",
       "    }\n",
       "\n",
       "    .dataframe tbody tr th {\n",
       "        vertical-align: top;\n",
       "    }\n",
       "\n",
       "    .dataframe thead th {\n",
       "        text-align: right;\n",
       "    }\n",
       "</style>\n",
       "<table border=\"1\" class=\"dataframe\">\n",
       "  <thead>\n",
       "    <tr style=\"text-align: right;\">\n",
       "      <th></th>\n",
       "      <th>고객번호</th>\n",
       "      <th>성별</th>\n",
       "      <th>연령대</th>\n",
       "      <th>거주지분류대코드</th>\n",
       "      <th>영수증번호</th>\n",
       "      <th>구매일자</th>\n",
       "      <th>채널구분</th>\n",
       "      <th>제휴사</th>\n",
       "      <th>상품코드</th>\n",
       "      <th>상품대분류명</th>\n",
       "      <th>상품중분류명</th>\n",
       "      <th>상품소분류명</th>\n",
       "      <th>구매시간</th>\n",
       "      <th>구매금액</th>\n",
       "      <th>구매수량</th>\n",
       "      <th>cluster</th>\n",
       "    </tr>\n",
       "  </thead>\n",
       "  <tbody>\n",
       "    <tr>\n",
       "      <th>0</th>\n",
       "      <td>M000136117</td>\n",
       "      <td>여성</td>\n",
       "      <td>30대</td>\n",
       "      <td>Z11</td>\n",
       "      <td>E02000670648</td>\n",
       "      <td>20210104</td>\n",
       "      <td>2</td>\n",
       "      <td>A02</td>\n",
       "      <td>PD0601</td>\n",
       "      <td>세제/위생</td>\n",
       "      <td>세탁세제</td>\n",
       "      <td>섬유유연제/향기지속제</td>\n",
       "      <td>11</td>\n",
       "      <td>13500</td>\n",
       "      <td>1</td>\n",
       "      <td>2</td>\n",
       "    </tr>\n",
       "    <tr>\n",
       "      <th>1</th>\n",
       "      <td>M000136117</td>\n",
       "      <td>여성</td>\n",
       "      <td>30대</td>\n",
       "      <td>Z11</td>\n",
       "      <td>E02000670648</td>\n",
       "      <td>20210104</td>\n",
       "      <td>2</td>\n",
       "      <td>A02</td>\n",
       "      <td>PD1164</td>\n",
       "      <td>음료</td>\n",
       "      <td>과채음료</td>\n",
       "      <td>어린이음료</td>\n",
       "      <td>11</td>\n",
       "      <td>5300</td>\n",
       "      <td>1</td>\n",
       "      <td>2</td>\n",
       "    </tr>\n",
       "    <tr>\n",
       "      <th>2</th>\n",
       "      <td>M000136117</td>\n",
       "      <td>여성</td>\n",
       "      <td>30대</td>\n",
       "      <td>Z11</td>\n",
       "      <td>E02000670648</td>\n",
       "      <td>20210104</td>\n",
       "      <td>2</td>\n",
       "      <td>A02</td>\n",
       "      <td>PD1847</td>\n",
       "      <td>퍼스널케어</td>\n",
       "      <td>여성위생용품</td>\n",
       "      <td>생리대</td>\n",
       "      <td>11</td>\n",
       "      <td>5900</td>\n",
       "      <td>1</td>\n",
       "      <td>2</td>\n",
       "    </tr>\n",
       "    <tr>\n",
       "      <th>3</th>\n",
       "      <td>M000136117</td>\n",
       "      <td>여성</td>\n",
       "      <td>30대</td>\n",
       "      <td>Z11</td>\n",
       "      <td>E06000715170</td>\n",
       "      <td>20210104</td>\n",
       "      <td>2</td>\n",
       "      <td>A06</td>\n",
       "      <td>PD0611</td>\n",
       "      <td>세제/위생</td>\n",
       "      <td>화장지/티슈</td>\n",
       "      <td>롤티슈</td>\n",
       "      <td>11</td>\n",
       "      <td>10000</td>\n",
       "      <td>1</td>\n",
       "      <td>2</td>\n",
       "    </tr>\n",
       "    <tr>\n",
       "      <th>4</th>\n",
       "      <td>M000136117</td>\n",
       "      <td>여성</td>\n",
       "      <td>30대</td>\n",
       "      <td>Z11</td>\n",
       "      <td>E06000715170</td>\n",
       "      <td>20210104</td>\n",
       "      <td>2</td>\n",
       "      <td>A06</td>\n",
       "      <td>PD0613</td>\n",
       "      <td>세제/위생</td>\n",
       "      <td>화장지/티슈</td>\n",
       "      <td>물티슈</td>\n",
       "      <td>11</td>\n",
       "      <td>5000</td>\n",
       "      <td>5</td>\n",
       "      <td>2</td>\n",
       "    </tr>\n",
       "  </tbody>\n",
       "</table>\n",
       "</div>"
      ],
      "text/plain": [
       "         고객번호  성별  연령대 거주지분류대코드         영수증번호      구매일자  채널구분  제휴사    상품코드  \\\n",
       "0  M000136117  여성  30대      Z11  E02000670648  20210104     2  A02  PD0601   \n",
       "1  M000136117  여성  30대      Z11  E02000670648  20210104     2  A02  PD1164   \n",
       "2  M000136117  여성  30대      Z11  E02000670648  20210104     2  A02  PD1847   \n",
       "3  M000136117  여성  30대      Z11  E06000715170  20210104     2  A06  PD0611   \n",
       "4  M000136117  여성  30대      Z11  E06000715170  20210104     2  A06  PD0613   \n",
       "\n",
       "  상품대분류명  상품중분류명       상품소분류명  구매시간   구매금액  구매수량  cluster  \n",
       "0  세제/위생    세탁세제  섬유유연제/향기지속제    11  13500     1        2  \n",
       "1     음료    과채음료        어린이음료    11   5300     1        2  \n",
       "2  퍼스널케어  여성위생용품          생리대    11   5900     1        2  \n",
       "3  세제/위생  화장지/티슈          롤티슈    11  10000     1        2  \n",
       "4  세제/위생  화장지/티슈          물티슈    11   5000     5        2  "
      ]
     },
     "execution_count": 32,
     "metadata": {},
     "output_type": "execute_result"
    }
   ],
   "source": [
    "df2.head()"
   ]
  },
  {
   "cell_type": "code",
   "execution_count": 33,
   "id": "359933dc",
   "metadata": {},
   "outputs": [
    {
     "data": {
      "text/html": [
       "<div>\n",
       "<style scoped>\n",
       "    .dataframe tbody tr th:only-of-type {\n",
       "        vertical-align: middle;\n",
       "    }\n",
       "\n",
       "    .dataframe tbody tr th {\n",
       "        vertical-align: top;\n",
       "    }\n",
       "\n",
       "    .dataframe thead th {\n",
       "        text-align: right;\n",
       "    }\n",
       "</style>\n",
       "<table border=\"1\" class=\"dataframe\">\n",
       "  <thead>\n",
       "    <tr style=\"text-align: right;\">\n",
       "      <th></th>\n",
       "      <th>성별</th>\n",
       "      <th>연령대</th>\n",
       "      <th>거주지분류대코드</th>\n",
       "      <th>제휴사</th>\n",
       "      <th>상품대분류명</th>\n",
       "      <th>구매시간</th>\n",
       "      <th>구매금액</th>\n",
       "      <th>구매수량</th>\n",
       "      <th>구매월</th>\n",
       "      <th>cluster</th>\n",
       "    </tr>\n",
       "  </thead>\n",
       "  <tbody>\n",
       "    <tr>\n",
       "      <th>0</th>\n",
       "      <td>여성</td>\n",
       "      <td>30대</td>\n",
       "      <td>Z11</td>\n",
       "      <td>A02</td>\n",
       "      <td>세제/위생</td>\n",
       "      <td>0.478261</td>\n",
       "      <td>0.001917</td>\n",
       "      <td>0.000000</td>\n",
       "      <td>01월</td>\n",
       "      <td>2</td>\n",
       "    </tr>\n",
       "    <tr>\n",
       "      <th>1</th>\n",
       "      <td>여성</td>\n",
       "      <td>30대</td>\n",
       "      <td>Z11</td>\n",
       "      <td>A02</td>\n",
       "      <td>음료</td>\n",
       "      <td>0.478261</td>\n",
       "      <td>0.000753</td>\n",
       "      <td>0.000000</td>\n",
       "      <td>01월</td>\n",
       "      <td>2</td>\n",
       "    </tr>\n",
       "    <tr>\n",
       "      <th>2</th>\n",
       "      <td>여성</td>\n",
       "      <td>30대</td>\n",
       "      <td>Z11</td>\n",
       "      <td>A02</td>\n",
       "      <td>퍼스널케어</td>\n",
       "      <td>0.478261</td>\n",
       "      <td>0.000838</td>\n",
       "      <td>0.000000</td>\n",
       "      <td>01월</td>\n",
       "      <td>2</td>\n",
       "    </tr>\n",
       "    <tr>\n",
       "      <th>3</th>\n",
       "      <td>여성</td>\n",
       "      <td>30대</td>\n",
       "      <td>Z11</td>\n",
       "      <td>A06</td>\n",
       "      <td>세제/위생</td>\n",
       "      <td>0.478261</td>\n",
       "      <td>0.001420</td>\n",
       "      <td>0.000000</td>\n",
       "      <td>01월</td>\n",
       "      <td>2</td>\n",
       "    </tr>\n",
       "    <tr>\n",
       "      <th>4</th>\n",
       "      <td>여성</td>\n",
       "      <td>30대</td>\n",
       "      <td>Z11</td>\n",
       "      <td>A06</td>\n",
       "      <td>세제/위생</td>\n",
       "      <td>0.478261</td>\n",
       "      <td>0.000710</td>\n",
       "      <td>0.040404</td>\n",
       "      <td>01월</td>\n",
       "      <td>2</td>\n",
       "    </tr>\n",
       "  </tbody>\n",
       "</table>\n",
       "</div>"
      ],
      "text/plain": [
       "   성별  연령대 거주지분류대코드  제휴사 상품대분류명      구매시간      구매금액      구매수량  구매월  cluster\n",
       "0  여성  30대      Z11  A02  세제/위생  0.478261  0.001917  0.000000  01월        2\n",
       "1  여성  30대      Z11  A02     음료  0.478261  0.000753  0.000000  01월        2\n",
       "2  여성  30대      Z11  A02  퍼스널케어  0.478261  0.000838  0.000000  01월        2\n",
       "3  여성  30대      Z11  A06  세제/위생  0.478261  0.001420  0.000000  01월        2\n",
       "4  여성  30대      Z11  A06  세제/위생  0.478261  0.000710  0.040404  01월        2"
      ]
     },
     "execution_count": 33,
     "metadata": {},
     "output_type": "execute_result"
    }
   ],
   "source": [
    "ndf2.head()"
   ]
  },
  {
   "cell_type": "code",
   "execution_count": 7,
   "id": "ad04d419",
   "metadata": {},
   "outputs": [
    {
     "data": {
      "text/html": [
       "<div>\n",
       "<style scoped>\n",
       "    .dataframe tbody tr th:only-of-type {\n",
       "        vertical-align: middle;\n",
       "    }\n",
       "\n",
       "    .dataframe tbody tr th {\n",
       "        vertical-align: top;\n",
       "    }\n",
       "\n",
       "    .dataframe thead th {\n",
       "        text-align: right;\n",
       "    }\n",
       "</style>\n",
       "<table border=\"1\" class=\"dataframe\">\n",
       "  <thead>\n",
       "    <tr style=\"text-align: right;\">\n",
       "      <th></th>\n",
       "      <th>고객번호</th>\n",
       "      <th>성별</th>\n",
       "      <th>연령대</th>\n",
       "      <th>거주지분류대코드</th>\n",
       "      <th>영수증번호</th>\n",
       "      <th>구매일자</th>\n",
       "      <th>채널구분</th>\n",
       "      <th>제휴사</th>\n",
       "      <th>상품코드</th>\n",
       "      <th>상품대분류명</th>\n",
       "      <th>상품중분류명</th>\n",
       "      <th>상품소분류명</th>\n",
       "      <th>구매시간</th>\n",
       "      <th>구매금액</th>\n",
       "      <th>구매수량</th>\n",
       "      <th>cluster</th>\n",
       "    </tr>\n",
       "  </thead>\n",
       "  <tbody>\n",
       "    <tr>\n",
       "      <th>375779</th>\n",
       "      <td>M999962961</td>\n",
       "      <td>여성</td>\n",
       "      <td>50대</td>\n",
       "      <td>Z17</td>\n",
       "      <td>E02024505549</td>\n",
       "      <td>20210515</td>\n",
       "      <td>2</td>\n",
       "      <td>A02</td>\n",
       "      <td>PD1441</td>\n",
       "      <td>채소</td>\n",
       "      <td>잎채소</td>\n",
       "      <td>쌈채소류</td>\n",
       "      <td>10</td>\n",
       "      <td>1180</td>\n",
       "      <td>1</td>\n",
       "      <td>1</td>\n",
       "    </tr>\n",
       "    <tr>\n",
       "      <th>375780</th>\n",
       "      <td>M999962961</td>\n",
       "      <td>여성</td>\n",
       "      <td>50대</td>\n",
       "      <td>Z17</td>\n",
       "      <td>E06002810292</td>\n",
       "      <td>20210113</td>\n",
       "      <td>2</td>\n",
       "      <td>A06</td>\n",
       "      <td>PD0959</td>\n",
       "      <td>여성의류</td>\n",
       "      <td>여성의류아우터</td>\n",
       "      <td>여성재킷</td>\n",
       "      <td>18</td>\n",
       "      <td>129000</td>\n",
       "      <td>1</td>\n",
       "      <td>0</td>\n",
       "    </tr>\n",
       "    <tr>\n",
       "      <th>375781</th>\n",
       "      <td>M999962961</td>\n",
       "      <td>여성</td>\n",
       "      <td>50대</td>\n",
       "      <td>Z17</td>\n",
       "      <td>E06004609359</td>\n",
       "      <td>20210122</td>\n",
       "      <td>2</td>\n",
       "      <td>A06</td>\n",
       "      <td>PD0954</td>\n",
       "      <td>여성의류</td>\n",
       "      <td>여성의류상의</td>\n",
       "      <td>여성스웨터/풀오버</td>\n",
       "      <td>14</td>\n",
       "      <td>34300</td>\n",
       "      <td>1</td>\n",
       "      <td>0</td>\n",
       "    </tr>\n",
       "    <tr>\n",
       "      <th>375782</th>\n",
       "      <td>M999962961</td>\n",
       "      <td>여성</td>\n",
       "      <td>50대</td>\n",
       "      <td>Z17</td>\n",
       "      <td>E06025413888</td>\n",
       "      <td>20210406</td>\n",
       "      <td>2</td>\n",
       "      <td>A06</td>\n",
       "      <td>PD0967</td>\n",
       "      <td>여성의류</td>\n",
       "      <td>여성의류하의</td>\n",
       "      <td>여성바지</td>\n",
       "      <td>17</td>\n",
       "      <td>89000</td>\n",
       "      <td>1</td>\n",
       "      <td>0</td>\n",
       "    </tr>\n",
       "    <tr>\n",
       "      <th>375783</th>\n",
       "      <td>M999962961</td>\n",
       "      <td>여성</td>\n",
       "      <td>50대</td>\n",
       "      <td>Z17</td>\n",
       "      <td>E06035713248</td>\n",
       "      <td>20210503</td>\n",
       "      <td>2</td>\n",
       "      <td>A06</td>\n",
       "      <td>PD1889</td>\n",
       "      <td>화장품/뷰티케어</td>\n",
       "      <td>메이크업</td>\n",
       "      <td>BB/파운데이션/컴팩트류</td>\n",
       "      <td>22</td>\n",
       "      <td>50000</td>\n",
       "      <td>1</td>\n",
       "      <td>0</td>\n",
       "    </tr>\n",
       "  </tbody>\n",
       "</table>\n",
       "</div>"
      ],
      "text/plain": [
       "              고객번호  성별  연령대 거주지분류대코드         영수증번호      구매일자  채널구분  제휴사  \\\n",
       "375779  M999962961  여성  50대      Z17  E02024505549  20210515     2  A02   \n",
       "375780  M999962961  여성  50대      Z17  E06002810292  20210113     2  A06   \n",
       "375781  M999962961  여성  50대      Z17  E06004609359  20210122     2  A06   \n",
       "375782  M999962961  여성  50대      Z17  E06025413888  20210406     2  A06   \n",
       "375783  M999962961  여성  50대      Z17  E06035713248  20210503     2  A06   \n",
       "\n",
       "          상품코드    상품대분류명   상품중분류명         상품소분류명  구매시간    구매금액  구매수량  cluster  \n",
       "375779  PD1441        채소      잎채소           쌈채소류    10    1180     1        1  \n",
       "375780  PD0959      여성의류  여성의류아우터           여성재킷    18  129000     1        0  \n",
       "375781  PD0954      여성의류   여성의류상의      여성스웨터/풀오버    14   34300     1        0  \n",
       "375782  PD0967      여성의류   여성의류하의           여성바지    17   89000     1        0  \n",
       "375783  PD1889  화장품/뷰티케어     메이크업  BB/파운데이션/컴팩트류    22   50000     1        0  "
      ]
     },
     "execution_count": 7,
     "metadata": {},
     "output_type": "execute_result"
    }
   ],
   "source": [
    "# 저장한 데이터 불러오기\n",
    "df2 = pd.read_csv('pdde_online_all.csv', encoding='utf-8')\n",
    "df2.tail()"
   ]
  },
  {
   "cell_type": "code",
   "execution_count": 8,
   "id": "e1c1b9d1",
   "metadata": {},
   "outputs": [
    {
     "data": {
      "text/html": [
       "<div>\n",
       "<style scoped>\n",
       "    .dataframe tbody tr th:only-of-type {\n",
       "        vertical-align: middle;\n",
       "    }\n",
       "\n",
       "    .dataframe tbody tr th {\n",
       "        vertical-align: top;\n",
       "    }\n",
       "\n",
       "    .dataframe thead th {\n",
       "        text-align: right;\n",
       "    }\n",
       "</style>\n",
       "<table border=\"1\" class=\"dataframe\">\n",
       "  <thead>\n",
       "    <tr style=\"text-align: right;\">\n",
       "      <th></th>\n",
       "      <th>성별</th>\n",
       "      <th>연령대</th>\n",
       "      <th>거주지분류대코드</th>\n",
       "      <th>제휴사</th>\n",
       "      <th>상품대분류명</th>\n",
       "      <th>구매시간</th>\n",
       "      <th>구매금액</th>\n",
       "      <th>구매수량</th>\n",
       "      <th>구매월</th>\n",
       "      <th>cluster</th>\n",
       "    </tr>\n",
       "  </thead>\n",
       "  <tbody>\n",
       "    <tr>\n",
       "      <th>375779</th>\n",
       "      <td>여성</td>\n",
       "      <td>50대</td>\n",
       "      <td>Z17</td>\n",
       "      <td>A02</td>\n",
       "      <td>채소</td>\n",
       "      <td>0.434783</td>\n",
       "      <td>0.000167</td>\n",
       "      <td>0.0</td>\n",
       "      <td>05월</td>\n",
       "      <td>1</td>\n",
       "    </tr>\n",
       "    <tr>\n",
       "      <th>375780</th>\n",
       "      <td>여성</td>\n",
       "      <td>50대</td>\n",
       "      <td>Z17</td>\n",
       "      <td>A06</td>\n",
       "      <td>여성의류</td>\n",
       "      <td>0.782609</td>\n",
       "      <td>0.018324</td>\n",
       "      <td>0.0</td>\n",
       "      <td>01월</td>\n",
       "      <td>0</td>\n",
       "    </tr>\n",
       "    <tr>\n",
       "      <th>375781</th>\n",
       "      <td>여성</td>\n",
       "      <td>50대</td>\n",
       "      <td>Z17</td>\n",
       "      <td>A06</td>\n",
       "      <td>여성의류</td>\n",
       "      <td>0.608696</td>\n",
       "      <td>0.004872</td>\n",
       "      <td>0.0</td>\n",
       "      <td>01월</td>\n",
       "      <td>0</td>\n",
       "    </tr>\n",
       "    <tr>\n",
       "      <th>375782</th>\n",
       "      <td>여성</td>\n",
       "      <td>50대</td>\n",
       "      <td>Z17</td>\n",
       "      <td>A06</td>\n",
       "      <td>여성의류</td>\n",
       "      <td>0.739130</td>\n",
       "      <td>0.012642</td>\n",
       "      <td>0.0</td>\n",
       "      <td>04월</td>\n",
       "      <td>0</td>\n",
       "    </tr>\n",
       "    <tr>\n",
       "      <th>375783</th>\n",
       "      <td>여성</td>\n",
       "      <td>50대</td>\n",
       "      <td>Z17</td>\n",
       "      <td>A06</td>\n",
       "      <td>화장품/뷰티케어</td>\n",
       "      <td>0.956522</td>\n",
       "      <td>0.007102</td>\n",
       "      <td>0.0</td>\n",
       "      <td>05월</td>\n",
       "      <td>0</td>\n",
       "    </tr>\n",
       "  </tbody>\n",
       "</table>\n",
       "</div>"
      ],
      "text/plain": [
       "        성별  연령대 거주지분류대코드  제휴사    상품대분류명      구매시간      구매금액  구매수량  구매월  \\\n",
       "375779  여성  50대      Z17  A02        채소  0.434783  0.000167   0.0  05월   \n",
       "375780  여성  50대      Z17  A06      여성의류  0.782609  0.018324   0.0  01월   \n",
       "375781  여성  50대      Z17  A06      여성의류  0.608696  0.004872   0.0  01월   \n",
       "375782  여성  50대      Z17  A06      여성의류  0.739130  0.012642   0.0  04월   \n",
       "375783  여성  50대      Z17  A06  화장품/뷰티케어  0.956522  0.007102   0.0  05월   \n",
       "\n",
       "        cluster  \n",
       "375779        1  \n",
       "375780        0  \n",
       "375781        0  \n",
       "375782        0  \n",
       "375783        0  "
      ]
     },
     "execution_count": 8,
     "metadata": {},
     "output_type": "execute_result"
    }
   ],
   "source": [
    "ndf2 = pd.read_csv('pdde_online_cateogric.csv', encoding='utf-8')\n",
    "ndf2.tail()"
   ]
  },
  {
   "cell_type": "code",
   "execution_count": 9,
   "id": "d43f7491",
   "metadata": {},
   "outputs": [
    {
     "data": {
      "text/html": [
       "<div>\n",
       "<style scoped>\n",
       "    .dataframe tbody tr th:only-of-type {\n",
       "        vertical-align: middle;\n",
       "    }\n",
       "\n",
       "    .dataframe tbody tr th {\n",
       "        vertical-align: top;\n",
       "    }\n",
       "\n",
       "    .dataframe thead th {\n",
       "        text-align: right;\n",
       "    }\n",
       "</style>\n",
       "<table border=\"1\" class=\"dataframe\">\n",
       "  <thead>\n",
       "    <tr style=\"text-align: right;\">\n",
       "      <th></th>\n",
       "      <th>cluster</th>\n",
       "      <th>0</th>\n",
       "      <th>1</th>\n",
       "      <th>2</th>\n",
       "    </tr>\n",
       "  </thead>\n",
       "  <tbody>\n",
       "    <tr>\n",
       "      <th>성별</th>\n",
       "      <th>mode</th>\n",
       "      <td>여성</td>\n",
       "      <td>여성</td>\n",
       "      <td>여성</td>\n",
       "    </tr>\n",
       "    <tr>\n",
       "      <th>연령대</th>\n",
       "      <th>mode</th>\n",
       "      <td>40대</td>\n",
       "      <td>40대</td>\n",
       "      <td>30대</td>\n",
       "    </tr>\n",
       "    <tr>\n",
       "      <th>거주지분류대코드</th>\n",
       "      <th>mode</th>\n",
       "      <td>Z17</td>\n",
       "      <td>Z17</td>\n",
       "      <td>Z10</td>\n",
       "    </tr>\n",
       "    <tr>\n",
       "      <th>제휴사</th>\n",
       "      <th>mode</th>\n",
       "      <td>A03</td>\n",
       "      <td>A02</td>\n",
       "      <td>A02</td>\n",
       "    </tr>\n",
       "    <tr>\n",
       "      <th>상품대분류명</th>\n",
       "      <th>mode</th>\n",
       "      <td>축산물</td>\n",
       "      <td>대용식</td>\n",
       "      <td>채소</td>\n",
       "    </tr>\n",
       "    <tr>\n",
       "      <th>구매월</th>\n",
       "      <th>mode</th>\n",
       "      <td>01월</td>\n",
       "      <td>02월</td>\n",
       "      <td>04월</td>\n",
       "    </tr>\n",
       "  </tbody>\n",
       "</table>\n",
       "</div>"
      ],
      "text/plain": [
       "cluster          0    1    2\n",
       "성별       mode   여성   여성   여성\n",
       "연령대      mode  40대  40대  30대\n",
       "거주지분류대코드 mode  Z17  Z17  Z10\n",
       "제휴사      mode  A03  A02  A02\n",
       "상품대분류명   mode  축산물  대용식   채소\n",
       "구매월      mode  01월  02월  04월"
      ]
     },
     "execution_count": 9,
     "metadata": {},
     "output_type": "execute_result"
    }
   ],
   "source": [
    "# 카테고리컬 변수들의 최빈값 확인\n",
    "ndf2[['성별', '연령대', '거주지분류대코드', '제휴사', '상품대분류명', '구매월', 'cluster']].groupby('cluster').agg([pd.Series.mode]).T"
   ]
  },
  {
   "cell_type": "code",
   "execution_count": 15,
   "id": "533b6d67",
   "metadata": {},
   "outputs": [],
   "source": [
    "plt.rcParams['font.family'] = 'Malgun Gothic'"
   ]
  },
  {
   "cell_type": "code",
   "execution_count": 17,
   "id": "4b6b396d",
   "metadata": {},
   "outputs": [],
   "source": [
    "# 군집 나누기\n",
    "online_0 = ndf2[ndf2['cluster'] == 0]\n",
    "online_1 = ndf2[ndf2['cluster'] == 1]\n",
    "online_2 = ndf2[ndf2['cluster'] == 2]"
   ]
  },
  {
   "cell_type": "code",
   "execution_count": 45,
   "id": "d327efbe",
   "metadata": {},
   "outputs": [
    {
     "data": {
      "text/plain": [
       "[Text(0.5, 1.0, 'group 2')]"
      ]
     },
     "execution_count": 45,
     "metadata": {},
     "output_type": "execute_result"
    },
    {
     "data": {
      "image/png": "[encoded data removed]",
      "text/plain": [
       "<Figure size 1224x360 with 3 Axes>"
      ]
     },
     "metadata": {
      "needs_background": "light"
     },
     "output_type": "display_data"
    }
   ],
   "source": [
    "# 군집별 성별 비교 \n",
    "plt.figure(figsize=(17,5))\n",
    "plt.subplot(131)\n",
    "a=sns.countplot(x='성별', data=online_0)\n",
    "a.set(title = \"group 0\")\n",
    "plt.subplot(132)\n",
    "b=sns.countplot(x='성별', data=online_1)\n",
    "b.set(title = \"group 1\")\n",
    "plt.subplot(133)\n",
    "c=sns.countplot(x='성별', data=online_2)\n",
    "c.set(title = \"group 2\")"
   ]
  },
  {
   "cell_type": "markdown",
   "id": "7972417a",
   "metadata": {},
   "source": [
    "- 성별로는 군집별로 유의미한 차이 없었음"
   ]
  },
  {
   "cell_type": "code",
   "execution_count": 50,
   "id": "df3b26df",
   "metadata": {
    "scrolled": true
   },
   "outputs": [
    {
     "data": {
      "text/plain": [
       "[Text(0.5, 1.0, 'group 2')]"
      ]
     },
     "execution_count": 50,
     "metadata": {},
     "output_type": "execute_result"
    },
    {
     "data": {
      "image/png": "[encoded data removed]",
      "text/plain": [
       "<Figure size 1224x360 with 3 Axes>"
      ]
     },
     "metadata": {
      "needs_background": "light"
     },
     "output_type": "display_data"
    }
   ],
   "source": [
    "# 연령대\n",
    "plt.figure(figsize=(17,5))\n",
    "plt.subplot(131)\n",
    "a=sns.countplot(x='연령대', data=online_0, order = online_0['연령대'].value_counts().index)\n",
    "a.set(title = \"group 0\")\n",
    "plt.subplot(132)\n",
    "b=sns.countplot(x='연령대', data=online_1, order = online_1['연령대'].value_counts().index)\n",
    "b.set(title = \"group 1\")\n",
    "plt.subplot(133)\n",
    "c=sns.countplot(x='연령대', data=online_2, order = online_2['연령대'].value_counts().index)\n",
    "c.set(title = \"group 2\")"
   ]
  },
  {
   "cell_type": "markdown",
   "id": "6e837a2b",
   "metadata": {},
   "source": [
    "- 연령대의 경우 group 0,1은 주로 4-50대, 2는 3-40대"
   ]
  },
  {
   "cell_type": "code",
   "execution_count": 51,
   "id": "60e0edfc",
   "metadata": {},
   "outputs": [
    {
     "data": {
      "text/plain": [
       "[Text(0.5, 1.0, 'group 2')]"
      ]
     },
     "execution_count": 51,
     "metadata": {},
     "output_type": "execute_result"
    },
    {
     "data": {
      "image/png": "[encoded data removed]",
      "text/plain": [
       "<Figure size 1224x360 with 3 Axes>"
      ]
     },
     "metadata": {
      "needs_background": "light"
     },
     "output_type": "display_data"
    }
   ],
   "source": [
    "# 거주지분류대코드\n",
    "plt.figure(figsize=(17,5))\n",
    "plt.subplot(131)\n",
    "a=sns.countplot(x='거주지분류대코드', data=online_0, order = online_0['거주지분류대코드'].value_counts().index)\n",
    "a.set(title = \"group 0\")\n",
    "plt.subplot(132)\n",
    "b=sns.countplot(x='거주지분류대코드', data=online_1, order = online_1['거주지분류대코드'].value_counts().index)\n",
    "b.set(title = \"group 1\")\n",
    "plt.subplot(133)\n",
    "c=sns.countplot(x='거주지분류대코드', data=online_2, order = online_2['거주지분류대코드'].value_counts().index)\n",
    "c.set(title = \"group 2\")"
   ]
  },
  {
   "cell_type": "markdown",
   "id": "0123260b",
   "metadata": {},
   "source": [
    "- 거주지의 경우 group0과 1은 대부분 Z17, group2는 대부분 10"
   ]
  },
  {
   "cell_type": "code",
   "execution_count": 52,
   "id": "3014c3bf",
   "metadata": {},
   "outputs": [
    {
     "data": {
      "text/plain": [
       "[Text(0.5, 1.0, 'group 2')]"
      ]
     },
     "execution_count": 52,
     "metadata": {},
     "output_type": "execute_result"
    },
    {
     "data": {
      "image/png": "[encoded data removed]",
      "text/plain": [
       "<Figure size 1224x360 with 3 Axes>"
      ]
     },
     "metadata": {
      "needs_background": "light"
     },
     "output_type": "display_data"
    }
   ],
   "source": [
    "# 제휴사\n",
    "plt.figure(figsize=(17,5))\n",
    "plt.subplot(131)\n",
    "a=sns.countplot(x='제휴사', data=online_0, order = online_0['제휴사'].value_counts().index)\n",
    "a.set(title = \"group 0\")\n",
    "plt.subplot(132)\n",
    "b=sns.countplot(x='제휴사', data=online_1, order = online_1['제휴사'].value_counts().index)\n",
    "b.set(title = \"group 1\")\n",
    "plt.subplot(133)\n",
    "c=sns.countplot(x='제휴사', data=online_2, order = online_2['제휴사'].value_counts().index)\n",
    "c.set(title = \"group 2\")"
   ]
  },
  {
   "cell_type": "markdown",
   "id": "5379d160",
   "metadata": {},
   "source": [
    "- group0은 주 제휴사가 A03, A02, A06 순\n",
    "- group1,2는 주 제휴사가 A02, A06, A03 순 "
   ]
  },
  {
   "cell_type": "code",
   "execution_count": 65,
   "id": "6ebabd9a",
   "metadata": {
    "scrolled": true
   },
   "outputs": [
    {
     "data": {
      "text/plain": [
       "[Text(0.5, 1.0, 'group 2')]"
      ]
     },
     "execution_count": 65,
     "metadata": {},
     "output_type": "execute_result"
    },
    {
     "data": {
      "image/png": "[encoded data removed]",
      "text/plain": [
       "<Figure size 1224x360 with 3 Axes>"
      ]
     },
     "metadata": {
      "needs_background": "light"
     },
     "output_type": "display_data"
    }
   ],
   "source": [
    "# 상품대분류명\n",
    "plt.figure(figsize=(17,5))\n",
    "plt.subplot(131)\n",
    "a=sns.countplot(x='상품대분류명', data=online_0, order = online_0['상품대분류명'].value_counts().index[:7])\n",
    "a.set(title = \"group 0\")\n",
    "plt.subplot(132)\n",
    "b=sns.countplot(x='상품대분류명', data=online_1, order = online_1['상품대분류명'].value_counts().index[:7])\n",
    "b.set(title = \"group 1\")\n",
    "plt.subplot(133)\n",
    "c=sns.countplot(x='상품대분류명', data=online_2, order = online_2['상품대분류명'].value_counts().index[:7])\n",
    "c.set(title = \"group 2\")"
   ]
  },
  {
   "cell_type": "markdown",
   "id": "ddd83ba2",
   "metadata": {},
   "source": [
    "- group0는 축산물, 채소, 유제품, 과자, 과일, 음료, 냉장식품 순 -> 축산물, 채소와 같이 주로 저녁식사?\n",
    "- group1은 대용식, 유제품, 과자, 채소, 과일, 음료, 조미료 순 -> 대용식(압도적으로 많이 구매), 유제품, 과자와 같이 주로 간편하게 먹을 수 있는 것들\n",
    "- group2는 채소, 과자, 유제품, 과일, 음료, 축산물, 냉장식품 순 -> 채소를 압도적으로 많이 구매"
   ]
  },
  {
   "cell_type": "code",
   "execution_count": 66,
   "id": "e01cbc1d",
   "metadata": {},
   "outputs": [
    {
     "data": {
      "text/plain": [
       "[Text(0.5, 1.0, 'group 2')]"
      ]
     },
     "execution_count": 66,
     "metadata": {},
     "output_type": "execute_result"
    },
    {
     "data": {
      "image/png": "[encoded data removed]",
      "text/plain": [
       "<Figure size 1224x360 with 3 Axes>"
      ]
     },
     "metadata": {
      "needs_background": "light"
     },
     "output_type": "display_data"
    }
   ],
   "source": [
    "# 구매월\n",
    "plt.figure(figsize=(17,5))\n",
    "plt.subplot(131)\n",
    "a=sns.countplot(x='구매월', data=online_0, order = online_0['구매월'].value_counts().index)\n",
    "a.set(title = \"group 0\")\n",
    "plt.subplot(132)\n",
    "b=sns.countplot(x='구매월', data=online_1, order = online_1['구매월'].value_counts().index)\n",
    "b.set(title = \"group 1\")\n",
    "plt.subplot(133)\n",
    "c=sns.countplot(x='구매월', data=online_2, order = online_2['구매월'].value_counts().index)\n",
    "c.set(title = \"group 2\")"
   ]
  },
  {
   "cell_type": "markdown",
   "id": "2b83dea5",
   "metadata": {},
   "source": [
    "- 모든 그룹 모두 상반기에 구매 많이하는 경향\n",
    "- 그중에서도 group1은 특히 1월에, group1은 2월에, group3는 4월에 구매를 많이하는 경향.\n",
    "- 다른 그룹보다 group0은 비교적 하반기에도 구매 많이 하는 편"
   ]
  },
  {
   "cell_type": "code",
   "execution_count": 10,
   "id": "486c7e3c",
   "metadata": {},
   "outputs": [
    {
     "data": {
      "text/html": [
       "<div>\n",
       "<style scoped>\n",
       "    .dataframe tbody tr th:only-of-type {\n",
       "        vertical-align: middle;\n",
       "    }\n",
       "\n",
       "    .dataframe tbody tr th {\n",
       "        vertical-align: top;\n",
       "    }\n",
       "\n",
       "    .dataframe thead th {\n",
       "        text-align: right;\n",
       "    }\n",
       "</style>\n",
       "<table border=\"1\" class=\"dataframe\">\n",
       "  <thead>\n",
       "    <tr style=\"text-align: right;\">\n",
       "      <th></th>\n",
       "      <th>cluster</th>\n",
       "      <th>0</th>\n",
       "      <th>1</th>\n",
       "      <th>2</th>\n",
       "    </tr>\n",
       "  </thead>\n",
       "  <tbody>\n",
       "    <tr>\n",
       "      <th rowspan=\"2\" valign=\"top\">구매시간</th>\n",
       "      <th>mean</th>\n",
       "      <td>16.228394</td>\n",
       "      <td>11.047108</td>\n",
       "      <td>14.018074</td>\n",
       "    </tr>\n",
       "    <tr>\n",
       "      <th>median</th>\n",
       "      <td>16.000000</td>\n",
       "      <td>11.000000</td>\n",
       "      <td>14.000000</td>\n",
       "    </tr>\n",
       "    <tr>\n",
       "      <th rowspan=\"2\" valign=\"top\">구매금액</th>\n",
       "      <th>mean</th>\n",
       "      <td>18302.671292</td>\n",
       "      <td>16466.300074</td>\n",
       "      <td>16927.707592</td>\n",
       "    </tr>\n",
       "    <tr>\n",
       "      <th>median</th>\n",
       "      <td>5880.000000</td>\n",
       "      <td>4980.000000</td>\n",
       "      <td>4380.000000</td>\n",
       "    </tr>\n",
       "    <tr>\n",
       "      <th rowspan=\"2\" valign=\"top\">구매수량</th>\n",
       "      <th>mean</th>\n",
       "      <td>1.348454</td>\n",
       "      <td>1.338230</td>\n",
       "      <td>1.316828</td>\n",
       "    </tr>\n",
       "    <tr>\n",
       "      <th>median</th>\n",
       "      <td>1.000000</td>\n",
       "      <td>1.000000</td>\n",
       "      <td>1.000000</td>\n",
       "    </tr>\n",
       "  </tbody>\n",
       "</table>\n",
       "</div>"
      ],
      "text/plain": [
       "cluster                 0             1             2\n",
       "구매시간 mean       16.228394     11.047108     14.018074\n",
       "     median     16.000000     11.000000     14.000000\n",
       "구매금액 mean    18302.671292  16466.300074  16927.707592\n",
       "     median   5880.000000   4980.000000   4380.000000\n",
       "구매수량 mean        1.348454      1.338230      1.316828\n",
       "     median      1.000000      1.000000      1.000000"
      ]
     },
     "execution_count": 10,
     "metadata": {},
     "output_type": "execute_result"
    }
   ],
   "source": [
    "# 숫자형 변수는 df2로 분석 (스케일링 해줬기 때문)\n",
    "df2[['구매시간', '구매금액', '구매수량', 'cluster']].groupby('cluster').agg(['mean', 'median']).T"
   ]
  },
  {
   "cell_type": "markdown",
   "id": "470a8508",
   "metadata": {},
   "source": [
    "- 구매시간 : group0은 주로 4시경, group1은 주로 오전 11시경, group2는 주로 오후 2시경 구매\n",
    "- 구매금액 : group0가 평균 약 18300원 중앙값 5880원 / group1은 평균 약 16470원 중앙값 4980원 / group2는 평균 약 16930원, 중앙값 4380원으로 group0가 group1,2에 비해 더 금액이 큼\n",
    "- 구매수량 : 모두 다 비슷"
   ]
  },
  {
   "cell_type": "code",
   "execution_count": 69,
   "id": "42a1e140",
   "metadata": {},
   "outputs": [],
   "source": [
    "online0 = df2[df2['cluster'] == 0]\n",
    "online1 = df2[df2['cluster'] == 1]\n",
    "online2 = df2[df2['cluster'] == 2]"
   ]
  },
  {
   "cell_type": "code",
   "execution_count": 70,
   "id": "55ccdec4",
   "metadata": {},
   "outputs": [
    {
     "data": {
      "text/plain": [
       "[Text(0.5, 1.0, 'group 2')]"
      ]
     },
     "execution_count": 70,
     "metadata": {},
     "output_type": "execute_result"
    },
    {
     "data": {
      "image/png": "[encoded data removed]",
      "text/plain": [
       "<Figure size 1224x360 with 3 Axes>"
      ]
     },
     "metadata": {
      "needs_background": "light"
     },
     "output_type": "display_data"
    }
   ],
   "source": [
    "# 구매시간은 따로 확인해보기\n",
    "plt.figure(figsize=(17,5))\n",
    "plt.subplot(131)\n",
    "a=sns.countplot(x='구매시간', data=online0, order = online0['구매시간'].value_counts().index[:7])\n",
    "a.set(title = \"group 0\")\n",
    "plt.subplot(132)\n",
    "b=sns.countplot(x='구매시간', data=online1, order = online1['구매시간'].value_counts().index[:7])\n",
    "b.set(title = \"group 1\")\n",
    "plt.subplot(133)\n",
    "c=sns.countplot(x='구매시간', data=online2, order = online2['구매시간'].value_counts().index[:7])\n",
    "c.set(title = \"group 2\")"
   ]
  },
  {
   "cell_type": "markdown",
   "id": "0616de43",
   "metadata": {},
   "source": [
    "- group 0 : 저녁, group 1 : 오전, group 2 : 오후 (낮)"
   ]
  }
 ],
 "metadata": {
  "hide_input": false,
  "kernelspec": {
   "display_name": "Python 3 (ipykernel)",
   "language": "python",
   "name": "python3"
  },
  "language_info": {
   "codemirror_mode": {
    "name": "ipython",
    "version": 3
   },
   "file_extension": ".py",
   "mimetype": "text/x-python",
   "name": "python",
   "nbconvert_exporter": "python",
   "pygments_lexer": "ipython3",
   "version": "3.9.12"
  },
  "toc": {
   "base_numbering": 1,
   "nav_menu": {},
   "number_sections": true,
   "sideBar": true,
   "skip_h1_title": false,
   "title_cell": "Table of Contents",
   "title_sidebar": "Contents",
   "toc_cell": false,
   "toc_position": {},
   "toc_section_display": true,
   "toc_window_display": false
  }
 },
 "nbformat": 4,
 "nbformat_minor": 5
}
