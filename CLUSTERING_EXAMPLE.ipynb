{
 "cells": [
  {
   "cell_type": "markdown",
   "id": "6910cdd3",
   "metadata": {},
   "source": [
    "# 분석에 필요한 라이브러리 설치"
   ]
  },
  {
   "cell_type": "code",
   "execution_count": null,
   "id": "84b850be",
   "metadata": {},
   "outputs": [],
   "source": [
    "# # 필요한 라이브러리 설치\n",
    "# !pip install plotnine kmodes tqdm ipypb"
   ]
  },
  {
   "cell_type": "code",
   "execution_count": 15,
   "id": "a51d5b24",
   "metadata": {},
   "outputs": [],
   "source": [
    "import sqlite3\n",
    "import pandas as pd\n",
    "import numpy as np"
   ]
  },
  {
   "cell_type": "code",
   "execution_count": 16,
   "id": "afb6ae17",
   "metadata": {},
   "outputs": [],
   "source": [
    "import os\n",
    "import matplotlib.pyplot as plt\n",
    "import seaborn as sns\n",
    "%matplotlib inline"
   ]
  },
  {
   "cell_type": "code",
   "execution_count": 17,
   "id": "8d850be6",
   "metadata": {},
   "outputs": [],
   "source": [
    "from plotnine import *\n",
    "import plotnine"
   ]
  },
  {
   "cell_type": "code",
   "execution_count": 18,
   "id": "96f6c111",
   "metadata": {},
   "outputs": [],
   "source": [
    "from sklearn.preprocessing import MinMaxScaler\n",
    "from kmodes.kprototypes import KPrototypes"
   ]
  },
  {
   "cell_type": "code",
   "execution_count": 19,
   "id": "989dd274-6c4e-4cbd-9b9e-07101dc55a18",
   "metadata": {},
   "outputs": [],
   "source": [
    "from tqdm import tqdm_notebook\n",
    "import time\n",
    "from ipypb import ipb"
   ]
  },
  {
   "cell_type": "code",
   "execution_count": 20,
   "id": "d47d6fcd",
   "metadata": {},
   "outputs": [],
   "source": [
    "# 경고 메세지 안보이게 설정\n",
    "import warnings\n",
    "warnings.filterwarnings('ignore')"
   ]
  },
  {
   "cell_type": "markdown",
   "id": "820e13df",
   "metadata": {},
   "source": [
    "# 분석할 테이블 불러오기"
   ]
  },
  {
   "cell_type": "code",
   "execution_count": 21,
   "id": "d700ff94",
   "metadata": {},
   "outputs": [],
   "source": [
    "# 영수증 번호가 E인 것들 select + 1번 + 5번 연결\n",
    "con = sqlite3.connect(\"lpoint.db\", isolation_level=None) # lpoint db 생성 or 연결\n",
    "\n",
    "df2 = pd.read_sql('''\n",
    "SELECT P.cust, D.ma_fem_dv, D.ages, D.zon_hlv, P.rct_no, P.de_dt, P.chnl_dv, P.cop_c, P.pd_c, C.clac_hlv_nm, C.clac_mcls_nm, C.pd_nm, P.de_hr, P.buy_am, P.buy_ct\n",
    "FROM PDDE AS P, DEMO AS D, PD_CLAC AS C\n",
    "WHERE P.cust = D.cust AND P.pd_c = C.pd_c AND P.rct_no LIKE 'E%'\n",
    "GROUP BY P.cust, D.ma_fem_dv, D.ages, D.zon_hlv, P.rct_no, P.de_dt, P.chnl_dv, P.cop_c, P.pd_c, C.clac_hlv_nm, C.clac_mcls_nm, C.pd_nm, P.de_hr, P.buy_am, P.buy_ct;\n",
    "''', con, index_col=None)\n",
    "\n",
    "con.close()"
   ]
  },
  {
   "cell_type": "markdown",
   "id": "73c6f260",
   "metadata": {},
   "source": [
    "# 불러온 테이블 컬럼명 한글로 재설정"
   ]
  },
  {
   "cell_type": "code",
   "execution_count": 22,
   "id": "02861d38",
   "metadata": {},
   "outputs": [],
   "source": [
    "df2.columns = ['고객번호', '성별', '연령대', '거주지분류대코드', '영수증번호', '구매일자', '채널구분', '제휴사', \n",
    "              '상품코드', '상품대분류명', '상품중분류명', '상품소분류명',\n",
    "              '구매시간', '구매금액', '구매수량']"
   ]
  },
  {
   "cell_type": "markdown",
   "id": "99d17b2c",
   "metadata": {},
   "source": [
    "# 군집화에 사용할 필요한 컬럼명만 가져오기"
   ]
  },
  {
   "cell_type": "code",
   "execution_count": 23,
   "id": "6bb82891",
   "metadata": {},
   "outputs": [],
   "source": [
    "ndf2 = df2[['성별', '연령대', '거주지분류대코드', '제휴사', '상품대분류명', '구매시간', '구매금액', '구매수량']]"
   ]
  },
  {
   "cell_type": "markdown",
   "id": "5e80a5f9",
   "metadata": {},
   "source": [
    "# 구매월 변수 추가"
   ]
  },
  {
   "cell_type": "code",
   "execution_count": 24,
   "id": "2fe09af9",
   "metadata": {},
   "outputs": [],
   "source": [
    "# 구매월 추가\n",
    "ndf2['구매월'] = df2['구매일자'].map(lambda x: str(x)[4:6]+'월')"
   ]
  },
  {
   "cell_type": "code",
   "execution_count": 25,
   "id": "150a157b",
   "metadata": {},
   "outputs": [
    {
     "data": {
      "text/html": [
       "<div>\n",
       "<style scoped>\n",
       "    .dataframe tbody tr th:only-of-type {\n",
       "        vertical-align: middle;\n",
       "    }\n",
       "\n",
       "    .dataframe tbody tr th {\n",
       "        vertical-align: top;\n",
       "    }\n",
       "\n",
       "    .dataframe thead th {\n",
       "        text-align: right;\n",
       "    }\n",
       "</style>\n",
       "<table border=\"1\" class=\"dataframe\">\n",
       "  <thead>\n",
       "    <tr style=\"text-align: right;\">\n",
       "      <th></th>\n",
       "      <th>성별</th>\n",
       "      <th>연령대</th>\n",
       "      <th>거주지분류대코드</th>\n",
       "      <th>제휴사</th>\n",
       "      <th>상품대분류명</th>\n",
       "      <th>구매시간</th>\n",
       "      <th>구매금액</th>\n",
       "      <th>구매수량</th>\n",
       "      <th>구매월</th>\n",
       "    </tr>\n",
       "  </thead>\n",
       "  <tbody>\n",
       "    <tr>\n",
       "      <th>0</th>\n",
       "      <td>여성</td>\n",
       "      <td>30대</td>\n",
       "      <td>Z11</td>\n",
       "      <td>A02</td>\n",
       "      <td>세제/위생</td>\n",
       "      <td>11</td>\n",
       "      <td>13500</td>\n",
       "      <td>1</td>\n",
       "      <td>01월</td>\n",
       "    </tr>\n",
       "    <tr>\n",
       "      <th>1</th>\n",
       "      <td>여성</td>\n",
       "      <td>30대</td>\n",
       "      <td>Z11</td>\n",
       "      <td>A02</td>\n",
       "      <td>음료</td>\n",
       "      <td>11</td>\n",
       "      <td>5300</td>\n",
       "      <td>1</td>\n",
       "      <td>01월</td>\n",
       "    </tr>\n",
       "    <tr>\n",
       "      <th>2</th>\n",
       "      <td>여성</td>\n",
       "      <td>30대</td>\n",
       "      <td>Z11</td>\n",
       "      <td>A02</td>\n",
       "      <td>퍼스널케어</td>\n",
       "      <td>11</td>\n",
       "      <td>5900</td>\n",
       "      <td>1</td>\n",
       "      <td>01월</td>\n",
       "    </tr>\n",
       "    <tr>\n",
       "      <th>3</th>\n",
       "      <td>여성</td>\n",
       "      <td>30대</td>\n",
       "      <td>Z11</td>\n",
       "      <td>A06</td>\n",
       "      <td>세제/위생</td>\n",
       "      <td>11</td>\n",
       "      <td>10000</td>\n",
       "      <td>1</td>\n",
       "      <td>01월</td>\n",
       "    </tr>\n",
       "    <tr>\n",
       "      <th>4</th>\n",
       "      <td>여성</td>\n",
       "      <td>30대</td>\n",
       "      <td>Z11</td>\n",
       "      <td>A06</td>\n",
       "      <td>세제/위생</td>\n",
       "      <td>11</td>\n",
       "      <td>5000</td>\n",
       "      <td>5</td>\n",
       "      <td>01월</td>\n",
       "    </tr>\n",
       "  </tbody>\n",
       "</table>\n",
       "</div>"
      ],
      "text/plain": [
       "   성별  연령대 거주지분류대코드  제휴사 상품대분류명  구매시간   구매금액  구매수량  구매월\n",
       "0  여성  30대      Z11  A02  세제/위생    11  13500     1  01월\n",
       "1  여성  30대      Z11  A02     음료    11   5300     1  01월\n",
       "2  여성  30대      Z11  A02  퍼스널케어    11   5900     1  01월\n",
       "3  여성  30대      Z11  A06  세제/위생    11  10000     1  01월\n",
       "4  여성  30대      Z11  A06  세제/위생    11   5000     5  01월"
      ]
     },
     "execution_count": 25,
     "metadata": {},
     "output_type": "execute_result"
    }
   ],
   "source": [
    "ndf2.head()"
   ]
  },
  {
   "cell_type": "markdown",
   "id": "60022a1c",
   "metadata": {},
   "source": [
    "# 숫자형 변수 최대최소스케일링"
   ]
  },
  {
   "cell_type": "code",
   "execution_count": 26,
   "id": "ac592f36",
   "metadata": {},
   "outputs": [],
   "source": [
    "scaled_X = MinMaxScaler().fit_transform(ndf2[['구매시간', '구매금액', '구매수량']])\n",
    "ndf2[['구매시간', '구매금액', '구매수량']] = scaled_X"
   ]
  },
  {
   "cell_type": "markdown",
   "id": "713cb45c",
   "metadata": {},
   "source": [
    "# Categorical 변수 정해주기"
   ]
  },
  {
   "cell_type": "code",
   "execution_count": 27,
   "id": "e900af94",
   "metadata": {},
   "outputs": [
    {
     "name": "stdout",
     "output_type": "stream",
     "text": [
      "Categorical columns ['성별', '연령대', '거주지분류대코드', '제휴사', '상품대분류명', '구매월']\n",
      "Categorical columns position : [0, 1, 2, 3, 4, 8]\n"
     ]
    }
   ],
   "source": [
    "# Get the position of categorical columns\n",
    "catcol = [ndf2.columns.get_loc(col) for col in list(ndf2.select_dtypes('object').columns)]\n",
    "print('Categorical columns {}'.format(list(ndf2.select_dtypes('object').columns)))\n",
    "print('Categorical columns position : {}'.format(catcol))"
   ]
  },
  {
   "cell_type": "markdown",
   "id": "737996c5",
   "metadata": {},
   "source": [
    "# 데이터 프레임을 행렬 형태로 만들어주기"
   ]
  },
  {
   "cell_type": "code",
   "execution_count": 28,
   "id": "7640a550",
   "metadata": {
    "scrolled": true
   },
   "outputs": [
    {
     "data": {
      "text/plain": [
       "array([['여성', '30대', 'Z11', ..., 0.0019174718632772533, 0.0, '01월'],\n",
       "       ['여성', '30대', 'Z11', ..., 0.0007526989705538311, 0.0, '01월'],\n",
       "       ['여성', '30대', 'Z11', ..., 0.0008379262553872522, 0.0, '01월'],\n",
       "       ...,\n",
       "       ['여성', '50대', 'Z17', ..., 0.004872017737502519, 0.0, '01월'],\n",
       "       ['여성', '50대', 'Z17', ..., 0.01264190520481608, 0.0, '04월'],\n",
       "       ['여성', '50대', 'Z17', ..., 0.007102131690643706, 0.0, '05월']],\n",
       "      dtype=object)"
      ]
     },
     "execution_count": 28,
     "metadata": {},
     "output_type": "execute_result"
    }
   ],
   "source": [
    "# convert dataframe to matrix\n",
    "dfmatrix = ndf2.to_numpy()\n",
    "dfmatrix"
   ]
  },
  {
   "cell_type": "markdown",
   "id": "acc88d93",
   "metadata": {},
   "source": [
    "# Elbow Method : Cluster 간의 거리의 합을 나타내는 값이 급격히 떨어지는 구간을 군집 개수로 설정"
   ]
  },
  {
   "cell_type": "code",
   "execution_count": null,
   "id": "a07a87b7",
   "metadata": {},
   "outputs": [
    {
     "data": {
      "text/html": [
       "<div><span class=\"Text-label\" style=\"display:inline-block; overflow:hidden; white-space:nowrap; text-overflow:ellipsis; min-width:0; max-width:15ex; vertical-align:middle; text-align:right\"></span>\n",
       "<progress style=\"width:60ex\" max=\"6\" value=\"1\" class=\"Progress-main\"/></progress>\n",
       "<span class=\"Progress-label\"><strong>17%</strong></span>\n",
       "<span class=\"Iteration-label\">1/6</span>\n",
       "<span class=\"Time-label\">[05:10<05:10, 310.17s/it]</span></div>"
      ],
      "text/plain": [
       "\u001b[A\u001b[2K\r",
       " [██████████##################################################] 1/6 [05:10<05:10, 310.17s/it]"
      ]
     },
     "metadata": {},
     "output_type": "display_data"
    },
    {
     "name": "stdout",
     "output_type": "stream",
     "text": [
      "Best run was number 1\n",
      "Cluster initiation: 1\n"
     ]
    }
   ],
   "source": [
    "# Choose optimal K using Elbow method\n",
    "cost = []\n",
    "for cluster in ipb(range(1, 7)):\n",
    "    try:\n",
    "        kprototype = KPrototypes(n_clusters = cluster, init = 'Huang',\n",
    "                                 random_state = 0, verbose = True)\n",
    "        kprototype.fit_predict(dfmatrix, categorical = catcol)\n",
    "        cost.append(kprototype.cost_)\n",
    "        print('Cluster initiation: {}'.format(cluster))\n",
    "    except:\n",
    "        break\n",
    "    time.sleep(0.1)"
   ]
  },
  {
   "cell_type": "markdown",
   "id": "ee4f10f3",
   "metadata": {},
   "source": [
    "- Best run was number 3라는 안내문을 확인할 수 있었음"
   ]
  },
  {
   "cell_type": "code",
   "execution_count": null,
   "id": "f3c10df8",
   "metadata": {},
   "outputs": [],
   "source": [
    "# Elbow 메소드 시각화\n",
    "# Converting the results into a dataframe and plotting them\n",
    "df_cost = pd.DataFrame({'Cluster':range(1, 7), 'Cost':cost})\n",
    "# Data viz\n",
    "plotnine.options.figure_size = (8, 4.8)\n",
    "(\n",
    "    ggplot(data = df_cost)+\n",
    "    geom_line(aes(x = 'Cluster',\n",
    "                  y = 'Cost'))+\n",
    "    geom_point(aes(x = 'Cluster',\n",
    "                   y = 'Cost'))+\n",
    "    geom_label(aes(x = 'Cluster',\n",
    "                   y = 'Cost',\n",
    "                   label = 'Cluster'),\n",
    "               size = 10,\n",
    "               nudge_y = 1000) +\n",
    "    labs(title = 'Optimal number of cluster with Elbow Method')+\n",
    "    xlab('Number of Clusters k')+\n",
    "    ylab('Cost')+\n",
    "    theme_minimal()\n",
    ")"
   ]
  },
  {
   "cell_type": "markdown",
   "id": "0582210f",
   "metadata": {},
   "source": [
    "- 위의 결과 2번 혹은 3번이 제일 좋아 보임 (위의 코드 결과에서는 best run was 3 였으므로 우선 3으로 해보고 군집 결과가 별로 안좋은 것 같으면 2번으로 해보는 것이 좋을듯)"
   ]
  },
  {
   "cell_type": "code",
   "execution_count": null,
   "id": "e01c3da1-9bdf-47fe-9aec-46dff7dfc905",
   "metadata": {},
   "outputs": [],
   "source": [
    "df_cost"
   ]
  },
  {
   "cell_type": "markdown",
   "id": "5a522836",
   "metadata": {},
   "source": [
    "# 군집개수 선택 후 모델 적합하기"
   ]
  },
  {
   "cell_type": "code",
   "execution_count": null,
   "id": "b8588306",
   "metadata": {},
   "outputs": [],
   "source": [
    "# Fit the cluster\n",
    "# n_clusters = 3으로 한다\n",
    "kprototype = KPrototypes(n_jobs = -1, max_iter = 50, n_clusters = 3, init = 'Huang', random_state = 0)\n",
    "kprototype.fit_predict(dfmatrix, categorical = catcol)"
   ]
  },
  {
   "cell_type": "markdown",
   "id": "9851bcc1",
   "metadata": {},
   "source": [
    "# 기존 데이터 프레임에 분류된 군집 추가하기"
   ]
  },
  {
   "cell_type": "code",
   "execution_count": null,
   "id": "d7124b7c",
   "metadata": {},
   "outputs": [],
   "source": [
    "#new column for cluster labels associated with each subject\n",
    "df2['cluster'] = kprototype.labels_ # 모든 컬럼 들어있는 데이터프레임에 군집 추가\n",
    "ndf2['cluster'] = kprototype.labels_ # 군집화에 사용된 컬럼 들어있는 데이터프레임에 군집 추가"
   ]
  },
  {
   "cell_type": "code",
   "execution_count": null,
   "id": "67887679",
   "metadata": {},
   "outputs": [],
   "source": [
    "df2.head()"
   ]
  },
  {
   "cell_type": "code",
   "execution_count": null,
   "id": "359933dc",
   "metadata": {},
   "outputs": [],
   "source": [
    "ndf2.head()"
   ]
  }
 ],
 "metadata": {
  "hide_input": false,
  "kernelspec": {
   "display_name": "Python 3 (ipykernel)",
   "language": "python",
   "name": "python3"
  },
  "language_info": {
   "codemirror_mode": {
    "name": "ipython",
    "version": 3
   },
   "file_extension": ".py",
   "mimetype": "text/x-python",
   "name": "python",
   "nbconvert_exporter": "python",
   "pygments_lexer": "ipython3",
   "version": "3.9.12"
  },
  "toc": {
   "base_numbering": 1,
   "nav_menu": {},
   "number_sections": true,
   "sideBar": true,
   "skip_h1_title": false,
   "title_cell": "Table of Contents",
   "title_sidebar": "Contents",
   "toc_cell": false,
   "toc_position": {},
   "toc_section_display": true,
   "toc_window_display": false
  }
 },
 "nbformat": 4,
 "nbformat_minor": 5
}
