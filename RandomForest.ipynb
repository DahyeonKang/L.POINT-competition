{
 "cells": [
  {
   "cell_type": "markdown",
   "id": "1233f95a",
   "metadata": {},
   "source": [
    "# 데이터 불러오기"
   ]
  },
  {
   "cell_type": "code",
   "execution_count": 1,
   "id": "e7a304c1",
   "metadata": {},
   "outputs": [],
   "source": [
    "import pandas as pd\n",
    "import numpy as np"
   ]
  },
  {
   "cell_type": "code",
   "execution_count": 3,
   "id": "744e2c12",
   "metadata": {},
   "outputs": [],
   "source": [
    "import os\n",
    "import matplotlib.pyplot as plt\n",
    "import seaborn as sns\n",
    "%matplotlib inline"
   ]
  },
  {
   "cell_type": "code",
   "execution_count": 54,
   "id": "c579f91c",
   "metadata": {},
   "outputs": [],
   "source": [
    "from sklearn.preprocessing import StandardScaler\n",
    "from sklearn.model_selection import train_test_split\n",
    "from sklearn.ensemble import RandomForestClassifier\n",
    "\n",
    "from sklearn.metrics import accuracy_score \n",
    "from sklearn.metrics import precision_score \n",
    "from sklearn.metrics import recall_score\n",
    "from sklearn.metrics import f1_score "
   ]
  },
  {
   "cell_type": "code",
   "execution_count": 4,
   "id": "0d9cff30",
   "metadata": {},
   "outputs": [],
   "source": [
    "# 경고 메세지 안보이게 설정\n",
    "import warnings\n",
    "warnings.filterwarnings('ignore')"
   ]
  },
  {
   "cell_type": "code",
   "execution_count": 120,
   "id": "6f085363",
   "metadata": {},
   "outputs": [
    {
     "data": {
      "text/html": [
       "<div>\n",
       "<style scoped>\n",
       "    .dataframe tbody tr th:only-of-type {\n",
       "        vertical-align: middle;\n",
       "    }\n",
       "\n",
       "    .dataframe tbody tr th {\n",
       "        vertical-align: top;\n",
       "    }\n",
       "\n",
       "    .dataframe thead th {\n",
       "        text-align: right;\n",
       "    }\n",
       "</style>\n",
       "<table border=\"1\" class=\"dataframe\">\n",
       "  <thead>\n",
       "    <tr style=\"text-align: right;\">\n",
       "      <th></th>\n",
       "      <th>성별</th>\n",
       "      <th>연령대</th>\n",
       "      <th>거주지분류대코드</th>\n",
       "      <th>채널구분</th>\n",
       "      <th>상품대분류명</th>\n",
       "      <th>구매시간</th>\n",
       "      <th>구매금액</th>\n",
       "      <th>구매월</th>\n",
       "      <th>군집</th>\n",
       "    </tr>\n",
       "  </thead>\n",
       "  <tbody>\n",
       "    <tr>\n",
       "      <th>0</th>\n",
       "      <td>여성</td>\n",
       "      <td>40대</td>\n",
       "      <td>Z07</td>\n",
       "      <td>1</td>\n",
       "      <td>과자</td>\n",
       "      <td>16</td>\n",
       "      <td>12757</td>\n",
       "      <td>09월</td>\n",
       "      <td>1</td>\n",
       "    </tr>\n",
       "    <tr>\n",
       "      <th>1</th>\n",
       "      <td>여성</td>\n",
       "      <td>30대</td>\n",
       "      <td>Z11</td>\n",
       "      <td>1</td>\n",
       "      <td>여성의류</td>\n",
       "      <td>16</td>\n",
       "      <td>267864</td>\n",
       "      <td>01월</td>\n",
       "      <td>3</td>\n",
       "    </tr>\n",
       "    <tr>\n",
       "      <th>2</th>\n",
       "      <td>여성</td>\n",
       "      <td>50대</td>\n",
       "      <td>Z17</td>\n",
       "      <td>1</td>\n",
       "      <td>대용식</td>\n",
       "      <td>15</td>\n",
       "      <td>2571</td>\n",
       "      <td>07월</td>\n",
       "      <td>0</td>\n",
       "    </tr>\n",
       "    <tr>\n",
       "      <th>3</th>\n",
       "      <td>여성</td>\n",
       "      <td>40대</td>\n",
       "      <td>Z17</td>\n",
       "      <td>1</td>\n",
       "      <td>과자</td>\n",
       "      <td>18</td>\n",
       "      <td>11556</td>\n",
       "      <td>04월</td>\n",
       "      <td>0</td>\n",
       "    </tr>\n",
       "    <tr>\n",
       "      <th>4</th>\n",
       "      <td>여성</td>\n",
       "      <td>40대</td>\n",
       "      <td>Z17</td>\n",
       "      <td>1</td>\n",
       "      <td>화장품/뷰티케어</td>\n",
       "      <td>18</td>\n",
       "      <td>91648</td>\n",
       "      <td>07월</td>\n",
       "      <td>0</td>\n",
       "    </tr>\n",
       "  </tbody>\n",
       "</table>\n",
       "</div>"
      ],
      "text/plain": [
       "   성별  연령대 거주지분류대코드  채널구분    상품대분류명  구매시간    구매금액  구매월  군집\n",
       "0  여성  40대      Z07     1        과자    16   12757  09월   1\n",
       "1  여성  30대      Z11     1      여성의류    16  267864  01월   3\n",
       "2  여성  50대      Z17     1       대용식    15    2571  07월   0\n",
       "3  여성  40대      Z17     1        과자    18   11556  04월   0\n",
       "4  여성  40대      Z17     1  화장품/뷰티케어    18   91648  07월   0"
      ]
     },
     "execution_count": 120,
     "metadata": {},
     "output_type": "execute_result"
    }
   ],
   "source": [
    "df = pd.read_csv('data/modeling_data.csv', encoding='utf-8')\n",
    "df.head()"
   ]
  },
  {
   "cell_type": "code",
   "execution_count": 121,
   "id": "699fc543",
   "metadata": {},
   "outputs": [
    {
     "name": "stdout",
     "output_type": "stream",
     "text": [
      "<class 'pandas.core.frame.DataFrame'>\n",
      "RangeIndex: 26917 entries, 0 to 26916\n",
      "Data columns (total 9 columns):\n",
      " #   Column    Non-Null Count  Dtype \n",
      "---  ------    --------------  ----- \n",
      " 0   성별        26917 non-null  object\n",
      " 1   연령대       26917 non-null  object\n",
      " 2   거주지분류대코드  26917 non-null  object\n",
      " 3   채널구분      26917 non-null  int64 \n",
      " 4   상품대분류명    26917 non-null  object\n",
      " 5   구매시간      26917 non-null  int64 \n",
      " 6   구매금액      26917 non-null  int64 \n",
      " 7   구매월       26917 non-null  object\n",
      " 8   군집        26917 non-null  int64 \n",
      "dtypes: int64(4), object(5)\n",
      "memory usage: 1.8+ MB\n"
     ]
    }
   ],
   "source": [
    "df.info()"
   ]
  },
  {
   "cell_type": "markdown",
   "id": "6b98bc78",
   "metadata": {},
   "source": [
    "# 경우 1. Onehot + Ordinal(변형)\n",
    "주로 오디널인코딩 사용해서 수치화. 트리 계열 모델은 오디널인코딩에서 순위 영향을 받지 않는다고 한다.\n",
    "\n",
    "1. 성별  \n",
    "명목변수 - 원핫인코딩\n",
    "2. 연령대  \n",
    "순위변수(10년이 기준) - 20대: 2, 30대: 3, ..로 오디널인코딩\n",
    "3. 거주지분류대코드  \n",
    "명목변수 - 종류 매우 많음. 따라서 오디널인코딩\n",
    "4. 상품대분류명  \n",
    "명목변수 - 종류 매우 많음. 따라서 오디널인코딩\n",
    "5. 구매월  \n",
    "명목변수 - 1월:1, 2월:2, ..로 오디널인코딩"
   ]
  },
  {
   "cell_type": "code",
   "execution_count": 122,
   "id": "b113295f",
   "metadata": {},
   "outputs": [],
   "source": [
    "df1 = df"
   ]
  },
  {
   "cell_type": "code",
   "execution_count": 123,
   "id": "f86e88be",
   "metadata": {},
   "outputs": [
    {
     "name": "stdout",
     "output_type": "stream",
     "text": [
      "['남성', '여성']\n",
      "[0, 1]\n"
     ]
    }
   ],
   "source": [
    "# 성별 - 원핫인코딩\n",
    "before = list(np.sort(df['성별'].unique()))\n",
    "print(before)\n",
    "after = [i for i in range(len(before))]\n",
    "print(after)\n",
    "df1 = pd.get_dummies(df, columns=['성별'])"
   ]
  },
  {
   "cell_type": "code",
   "execution_count": 124,
   "id": "854b2448",
   "metadata": {},
   "outputs": [
    {
     "name": "stdout",
     "output_type": "stream",
     "text": [
      "['20대', '30대', '40대', '50대', '60대', '70대']\n",
      "[2, 3, 4, 5, 6, 7]\n"
     ]
    }
   ],
   "source": [
    "# 연령대 - 순서형(기존 데이터 반영)\n",
    "before = list(np.sort(df['연령대'].unique()))\n",
    "print(before)\n",
    "after = [2, 3, 4, 5, 6, 7]\n",
    "print(after)\n",
    "df1['연령대'].replace(before, after, inplace=True)"
   ]
  },
  {
   "cell_type": "code",
   "execution_count": 125,
   "id": "414b4f47",
   "metadata": {},
   "outputs": [
    {
     "name": "stdout",
     "output_type": "stream",
     "text": [
      "['Z01', 'Z02', 'Z03', 'Z04', 'Z05', 'Z06', 'Z07', 'Z08', 'Z09', 'Z10', 'Z11', 'Z12', 'Z13', 'Z14', 'Z15', 'Z16', 'Z17']\n",
      "[1, 2, 3, 4, 5, 6, 7, 8, 9, 10, 11, 12, 13, 14, 15, 16, 17]\n"
     ]
    }
   ],
   "source": [
    "# 거주지분류대코드 - 순서형(기존 데이터 반영)\n",
    "before = list(np.sort(df['거주지분류대코드'].unique()))\n",
    "print(before)\n",
    "after = [i+1 for i in range(len(before))]\n",
    "print(after)\n",
    "df1['거주지분류대코드'].replace(before, after, inplace=True)"
   ]
  },
  {
   "cell_type": "code",
   "execution_count": 126,
   "id": "9dd53c45",
   "metadata": {},
   "outputs": [
    {
     "name": "stdout",
     "output_type": "stream",
     "text": [
      "['가구', '건강식품', '건강용품', '건해산물', '계절가전', '공구/안전용품', '과일', '과자', '구기/필드스포츠', '기타(비상품)', '기타상품', '남성의류', '냉동식품', '냉장/세탁가전', '냉장식품', '담배', '대용식', '모바일', '문구/사무용품', '병통조림', '상품권', '생활/렌탈서비스', '생활/주방가전', '서적/음반/악기', '세제/위생', '속옷/양말/홈웨어', '수산물', '스포츠패션', '시즌스포츠', '식기/조리기구', '아웃도어/레저', '양곡', '여성의류', '여행/레저서비스', '영상/음향가전', '완구', '원예/애완', '유아동의류', '유아식품', '유제품', '음료', '인테리어/조명', '자동차용품', '조리식품', '조미료', '주류', '주방잡화', '채소', '청소/세탁/욕실용품', '축산물', '출산/육아용품', '침구/수예', '커피/차', '컴퓨터', '테넌트/음식점', '패션잡화', '퍼스널케어', '헬스/피트니스', '화장품/뷰티케어']\n",
      "[0, 1, 2, 3, 4, 5, 6, 7, 8, 9, 10, 11, 12, 13, 14, 15, 16, 17, 18, 19, 20, 21, 22, 23, 24, 25, 26, 27, 28, 29, 30, 31, 32, 33, 34, 35, 36, 37, 38, 39, 40, 41, 42, 43, 44, 45, 46, 47, 48, 49, 50, 51, 52, 53, 54, 55, 56, 57, 58]\n"
     ]
    }
   ],
   "source": [
    "# 상품대분류명 - 순서형\n",
    "before = list(np.sort(df['상품대분류명'].unique()))\n",
    "print(before)\n",
    "after = [i for i in range(len(before))]\n",
    "print(after)\n",
    "df1['상품대분류명'].replace(before, after, inplace=True)"
   ]
  },
  {
   "cell_type": "code",
   "execution_count": 127,
   "id": "07b8d4b3",
   "metadata": {},
   "outputs": [
    {
     "name": "stdout",
     "output_type": "stream",
     "text": [
      "['01월', '02월', '03월', '04월', '05월', '06월', '07월', '08월', '09월', '10월', '11월', '12월']\n",
      "[1, 2, 3, 4, 5, 6, 7, 8, 9, 10, 11, 12]\n"
     ]
    }
   ],
   "source": [
    "# 구매월 - 순서형(기존 데이터 반영)\n",
    "before = list(np.sort(df['구매월'].unique()))\n",
    "print(before)\n",
    "after = [int(before[i][:2]) for i in range(len(before))]\n",
    "print(after)\n",
    "df1['구매월'].replace(before, after, inplace=True)"
   ]
  },
  {
   "cell_type": "code",
   "execution_count": 128,
   "id": "39c559c0",
   "metadata": {},
   "outputs": [
    {
     "name": "stdout",
     "output_type": "stream",
     "text": [
      "<class 'pandas.core.frame.DataFrame'>\n",
      "RangeIndex: 26917 entries, 0 to 26916\n",
      "Data columns (total 10 columns):\n",
      " #   Column    Non-Null Count  Dtype\n",
      "---  ------    --------------  -----\n",
      " 0   연령대       26917 non-null  int64\n",
      " 1   거주지분류대코드  26917 non-null  int64\n",
      " 2   채널구분      26917 non-null  int64\n",
      " 3   상품대분류명    26917 non-null  int64\n",
      " 4   구매시간      26917 non-null  int64\n",
      " 5   구매금액      26917 non-null  int64\n",
      " 6   구매월       26917 non-null  int64\n",
      " 7   군집        26917 non-null  int64\n",
      " 8   성별_남성     26917 non-null  uint8\n",
      " 9   성별_여성     26917 non-null  uint8\n",
      "dtypes: int64(8), uint8(2)\n",
      "memory usage: 1.7 MB\n"
     ]
    }
   ],
   "source": [
    "df1.info()"
   ]
  },
  {
   "cell_type": "markdown",
   "id": "085624f9",
   "metadata": {},
   "source": [
    "모든 변수가 수치형 변수로 바뀌었다."
   ]
  },
  {
   "cell_type": "markdown",
   "id": "9c498225",
   "metadata": {},
   "source": [
    "## Random Forest 모델링"
   ]
  },
  {
   "cell_type": "code",
   "execution_count": 131,
   "id": "fc286db9",
   "metadata": {},
   "outputs": [
    {
     "name": "stdout",
     "output_type": "stream",
     "text": [
      "(18841, 9) (8076, 9) (18841,) (8076,)\n"
     ]
    }
   ],
   "source": [
    "# X, Y 설정\n",
    "x_cols = ['연령대', '거주지분류대코드', '채널구분', '상품대분류명', '구매시간', '구매금액', '구매월', '성별_남성', '성별_여성']\n",
    "X = df1[x_cols].values\n",
    "y = df1['군집'].values\n",
    "\n",
    "# train, test 나누기\n",
    "X_train, X_test, y_train, y_test = train_test_split(X, y, test_size=0.3, random_state=7) # 20%를 test로, random_state으로 랜덤한 값 고정\n",
    "print(X_train.shape, X_test.shape, y_train.shape, y_test.shape)\n",
    "\n",
    "# Scaling\n",
    "scaler = StandardScaler()\n",
    "X_train = scaler.fit_transform(X_train)\n",
    "X_test = scaler.transform(X_test)"
   ]
  },
  {
   "cell_type": "code",
   "execution_count": 132,
   "id": "35176e4d",
   "metadata": {},
   "outputs": [
    {
     "name": "stdout",
     "output_type": "stream",
     "text": [
      "Train set 정확도: 0.856\n",
      "Test set 정확도: 0.855\n",
      "\n",
      "Accuracy: 0.855\n",
      "Precision: 0.886\n",
      "Recall: 0.855\n",
      "F1-score: 0.855\n"
     ]
    }
   ],
   "source": [
    "## Random Forest 학습\n",
    "model1 = RandomForestClassifier(n_estimators=200, max_depth=5, random_state=0)\n",
    "model1.fit(X_train, y_train)\n",
    "y_pred1 = mode2.predict(X_test)\n",
    "\n",
    "print(\"Train set 정확도: {:.3f}\".format(model1.score(X_train, y_train)))\n",
    "print(\"Test set 정확도: {:.3f}\\n\".format(model1.score(X_test, y_test)))\n",
    "\n",
    "print(f\"Accuracy: {accuracy_score(y_test, y_pred1):.3f}\") \n",
    "print(f\"Precision: {precision_score(y_test, y_pred1, average='macro'):.3f}\")  #micro보다 성능이 좋게 나옴\n",
    "print(f\"Recall: {recall_score(y_test, y_pred1, average='micro'):.3f}\")\n",
    "print(f\"F1-score: {f1_score(y_test, y_pred1, average='micro'):.3f}\")"
   ]
  },
  {
   "cell_type": "markdown",
   "id": "78c4eeeb",
   "metadata": {},
   "source": [
    "# 경우 2. Ordinal(변형)"
   ]
  },
  {
   "cell_type": "code",
   "execution_count": 84,
   "id": "11aeb299",
   "metadata": {},
   "outputs": [],
   "source": [
    "df2 = df"
   ]
  },
  {
   "cell_type": "code",
   "execution_count": 88,
   "id": "dd0f8495",
   "metadata": {},
   "outputs": [
    {
     "name": "stdout",
     "output_type": "stream",
     "text": [
      "['남성', '여성']\n",
      "[0, 1]\n"
     ]
    }
   ],
   "source": [
    "# 성별 - 원핫인코딩\n",
    "before = list(np.sort(df['성별'].unique()))\n",
    "print(before)\n",
    "after = [i for i in range(len(before))]\n",
    "print(after)\n",
    "df2['성별'].replace(before, after, inplace=True)"
   ]
  },
  {
   "cell_type": "code",
   "execution_count": 85,
   "id": "ca7399c9",
   "metadata": {},
   "outputs": [
    {
     "name": "stdout",
     "output_type": "stream",
     "text": [
      "['20대', '30대', '40대', '50대', '60대', '70대']\n",
      "[2, 3, 4, 5, 6, 7]\n"
     ]
    }
   ],
   "source": [
    "# 연령대 - 순서형(기존 데이터 반영)\n",
    "before = list(np.sort(df['연령대'].unique()))\n",
    "print(before)\n",
    "after = [2, 3, 4, 5, 6, 7]\n",
    "print(after)\n",
    "df2['연령대'].replace(before, after, inplace=True)"
   ]
  },
  {
   "cell_type": "code",
   "execution_count": 86,
   "id": "e3bf3020",
   "metadata": {},
   "outputs": [
    {
     "name": "stdout",
     "output_type": "stream",
     "text": [
      "['Z01', 'Z02', 'Z03', 'Z04', 'Z05', 'Z06', 'Z07', 'Z08', 'Z09', 'Z10', 'Z11', 'Z12', 'Z13', 'Z14', 'Z15', 'Z16', 'Z17']\n",
      "[1, 2, 3, 4, 5, 6, 7, 8, 9, 10, 11, 12, 13, 14, 15, 16, 17]\n"
     ]
    }
   ],
   "source": [
    "# 거주지분류대코드 - 순서형(기존 데이터 반영)\n",
    "before = list(np.sort(df['거주지분류대코드'].unique()))\n",
    "print(before)\n",
    "after = [i+1 for i in range(len(before))]\n",
    "print(after)\n",
    "df2['거주지분류대코드'].replace(before, after, inplace=True)"
   ]
  },
  {
   "cell_type": "code",
   "execution_count": 89,
   "id": "c4747d41",
   "metadata": {},
   "outputs": [
    {
     "name": "stdout",
     "output_type": "stream",
     "text": [
      "['가구', '건강식품', '건강용품', '건해산물', '계절가전', '공구/안전용품', '과일', '과자', '구기/필드스포츠', '기타(비상품)', '기타상품', '남성의류', '냉동식품', '냉장/세탁가전', '냉장식품', '담배', '대용식', '모바일', '문구/사무용품', '병통조림', '상품권', '생활/렌탈서비스', '생활/주방가전', '서적/음반/악기', '세제/위생', '속옷/양말/홈웨어', '수산물', '스포츠패션', '시즌스포츠', '식기/조리기구', '아웃도어/레저', '양곡', '여성의류', '여행/레저서비스', '영상/음향가전', '완구', '원예/애완', '유아동의류', '유아식품', '유제품', '음료', '인테리어/조명', '자동차용품', '조리식품', '조미료', '주류', '주방잡화', '채소', '청소/세탁/욕실용품', '축산물', '출산/육아용품', '침구/수예', '커피/차', '컴퓨터', '테넌트/음식점', '패션잡화', '퍼스널케어', '헬스/피트니스', '화장품/뷰티케어']\n",
      "[0, 1, 2, 3, 4, 5, 6, 7, 8, 9, 10, 11, 12, 13, 14, 15, 16, 17, 18, 19, 20, 21, 22, 23, 24, 25, 26, 27, 28, 29, 30, 31, 32, 33, 34, 35, 36, 37, 38, 39, 40, 41, 42, 43, 44, 45, 46, 47, 48, 49, 50, 51, 52, 53, 54, 55, 56, 57, 58]\n"
     ]
    }
   ],
   "source": [
    "# 상품대분류명 - 순서형\n",
    "before = list(np.sort(df['상품대분류명'].unique()))\n",
    "print(before)\n",
    "after = [i for i in range(len(before))]\n",
    "print(after)\n",
    "df2['상품대분류명'].replace(before, after, inplace=True)"
   ]
  },
  {
   "cell_type": "code",
   "execution_count": 92,
   "id": "83527e75",
   "metadata": {},
   "outputs": [
    {
     "name": "stdout",
     "output_type": "stream",
     "text": [
      "['01월', '02월', '03월', '04월', '05월', '06월', '07월', '08월', '09월', '10월', '11월', '12월']\n",
      "[1, 2, 3, 4, 5, 6, 7, 8, 9, 10, 11, 12]\n"
     ]
    }
   ],
   "source": [
    "# 구매월 - 순서형(기존 데이터 반영)\n",
    "before = list(np.sort(df['구매월'].unique()))\n",
    "print(before)\n",
    "after = [int(before[i][:2]) for i in range(len(before))]\n",
    "print(after)\n",
    "df2['구매월'].replace(before, after, inplace=True)"
   ]
  },
  {
   "cell_type": "code",
   "execution_count": 93,
   "id": "8db8ca44",
   "metadata": {},
   "outputs": [
    {
     "name": "stdout",
     "output_type": "stream",
     "text": [
      "<class 'pandas.core.frame.DataFrame'>\n",
      "RangeIndex: 26917 entries, 0 to 26916\n",
      "Data columns (total 9 columns):\n",
      " #   Column    Non-Null Count  Dtype\n",
      "---  ------    --------------  -----\n",
      " 0   성별        26917 non-null  int64\n",
      " 1   연령대       26917 non-null  int64\n",
      " 2   거주지분류대코드  26917 non-null  int64\n",
      " 3   채널구분      26917 non-null  int64\n",
      " 4   상품대분류명    26917 non-null  int64\n",
      " 5   구매시간      26917 non-null  int64\n",
      " 6   구매금액      26917 non-null  int64\n",
      " 7   구매월       26917 non-null  int64\n",
      " 8   군집        26917 non-null  int64\n",
      "dtypes: int64(9)\n",
      "memory usage: 1.8 MB\n"
     ]
    }
   ],
   "source": [
    "df2.info()"
   ]
  },
  {
   "cell_type": "markdown",
   "id": "f3e80866",
   "metadata": {},
   "source": [
    "## Random Forest 모델링"
   ]
  },
  {
   "cell_type": "code",
   "execution_count": 133,
   "id": "a3da76a5",
   "metadata": {},
   "outputs": [
    {
     "name": "stdout",
     "output_type": "stream",
     "text": [
      "(18841, 8) (8076, 8) (18841,) (8076,)\n"
     ]
    }
   ],
   "source": [
    "# X, Y 설정\n",
    "x_cols = ['성별', '연령대', '거주지분류대코드', '채널구분', '상품대분류명', '구매시간', '구매금액', '구매월']\n",
    "X = df2[x_cols].values\n",
    "y = df2['군집'].values\n",
    "\n",
    "# train, test 나누기\n",
    "X_train, X_test, y_train, y_test = train_test_split(X, y, test_size=0.3, random_state=7) # 20%를 test로, random_state으로 랜덤한 값 고정\n",
    "print(X_train.shape, X_test.shape, y_train.shape, y_test.shape)\n",
    "\n",
    "# Scaling\n",
    "scaler = StandardScaler()\n",
    "X_train = scaler.fit_transform(X_train)\n",
    "X_test = scaler.transform(X_test)"
   ]
  },
  {
   "cell_type": "code",
   "execution_count": 135,
   "id": "4f8d3a53",
   "metadata": {},
   "outputs": [
    {
     "name": "stdout",
     "output_type": "stream",
     "text": [
      "Train set 정확도: 0.867\n",
      "Test set 정확도: 0.862\n",
      "\n",
      "Accuracy: 0.855\n",
      "Precision: 0.895\n",
      "Recall: 0.862\n",
      "F1-score: 0.862\n"
     ]
    }
   ],
   "source": [
    "## Random Forest 학습\n",
    "model2 = RandomForestClassifier(n_estimators=200, max_depth=5, random_state=0)\n",
    "model2.fit(X_train, y_train)\n",
    "y_pred2 = model2.predict(X_test)\n",
    "\n",
    "print(\"Train set 정확도: {:.3f}\".format(model2.score(X_train, y_train)))\n",
    "print(\"Test set 정확도: {:.3f}\\n\".format(model2.score(X_test, y_test)))\n",
    "\n",
    "print(f\"Accuracy: {accuracy_score(y_test, y_pred1):.3f}\") \n",
    "print(f\"Precision: {precision_score(y_test, y_pred2, average='macro'):.3f}\")  #micro보다 성능이 좋게 나옴\n",
    "print(f\"Recall: {recall_score(y_test, y_pred2, average='micro'):.3f}\")\n",
    "print(f\"F1-score: {f1_score(y_test, y_pred2, average='micro'):.3f}\")"
   ]
  },
  {
   "cell_type": "markdown",
   "id": "37d711bb",
   "metadata": {},
   "source": [
    "# 경우 3. Onehot"
   ]
  },
  {
   "cell_type": "code",
   "execution_count": 105,
   "id": "1ade13c2",
   "metadata": {},
   "outputs": [
    {
     "name": "stdout",
     "output_type": "stream",
     "text": [
      "<class 'pandas.core.frame.DataFrame'>\n",
      "RangeIndex: 26917 entries, 0 to 26916\n",
      "Columns: 101 entries, 구매시간 to 구매월_12\n",
      "dtypes: int64(3), uint8(98)\n",
      "memory usage: 3.1 MB\n"
     ]
    }
   ],
   "source": [
    "df3 = df\n",
    "df3 = pd.get_dummies(df, columns=['성별', '연령대', '거주지분류대코드', '채널구분', '상품대분류명', '구매월'])\n",
    "df3.info()"
   ]
  },
  {
   "cell_type": "markdown",
   "id": "51dc43f2",
   "metadata": {},
   "source": [
    "## Radom Forest 모델링"
   ]
  },
  {
   "cell_type": "code",
   "execution_count": 136,
   "id": "86f890ae",
   "metadata": {},
   "outputs": [
    {
     "name": "stdout",
     "output_type": "stream",
     "text": [
      "(18841, 100) (8076, 100) (18841,) (8076,)\n"
     ]
    }
   ],
   "source": [
    "# X, Y 설정\n",
    "X = df3.drop(['군집'], axis=1).values\n",
    "y = df3['군집'].values\n",
    "\n",
    "# train, test 나누기\n",
    "X_train, X_test, y_train, y_test = train_test_split(X, y, test_size=0.3, random_state=7) # 20%를 test로, random_state으로 랜덤한 값 고정\n",
    "print(X_train.shape, X_test.shape, y_train.shape, y_test.shape)\n",
    "\n",
    "# Scaling\n",
    "scaler = StandardScaler()\n",
    "X_train = scaler.fit_transform(X_train)\n",
    "X_test = scaler.transform(X_test)"
   ]
  },
  {
   "cell_type": "code",
   "execution_count": 138,
   "id": "01590f75",
   "metadata": {},
   "outputs": [
    {
     "name": "stdout",
     "output_type": "stream",
     "text": [
      "Train set 정확도: 0.879\n",
      "Test set 정확도: 0.881\n",
      "\n",
      "Accuracy: 0.855\n",
      "Precision: 0.904\n",
      "Recall: 0.881\n",
      "F1-score: 0.881\n"
     ]
    }
   ],
   "source": [
    "## Random Forest 학습\n",
    "model3 = RandomForestClassifier(n_estimators=200, max_depth=5, random_state=0)\n",
    "model3.fit(X_train, y_train)\n",
    "y_pred3 = model3.predict(X_test)\n",
    "\n",
    "print(\"Train set 정확도: {:.3f}\".format(model3.score(X_train, y_train)))\n",
    "print(\"Test set 정확도: {:.3f}\\n\".format(model3.score(X_test, y_test)))\n",
    "\n",
    "print(f\"Accuracy: {accuracy_score(y_test, y_pred1):.3f}\") \n",
    "print(f\"Precision: {precision_score(y_test, y_pred3, average='macro'):.3f}\")  #micro보다 성능이 좋게 나옴\n",
    "print(f\"Recall: {recall_score(y_test, y_pred3, average='micro'):.3f}\")\n",
    "print(f\"F1-score: {f1_score(y_test, y_pred3, average='micro'):.3f}\")"
   ]
  },
  {
   "cell_type": "markdown",
   "id": "fe02b796",
   "metadata": {},
   "source": [
    "# Lpay 데이터에 성능 테스트"
   ]
  },
  {
   "cell_type": "code",
   "execution_count": 142,
   "id": "e28cd3de",
   "metadata": {},
   "outputs": [
    {
     "data": {
      "text/html": [
       "<div>\n",
       "<style scoped>\n",
       "    .dataframe tbody tr th:only-of-type {\n",
       "        vertical-align: middle;\n",
       "    }\n",
       "\n",
       "    .dataframe tbody tr th {\n",
       "        vertical-align: top;\n",
       "    }\n",
       "\n",
       "    .dataframe thead th {\n",
       "        text-align: right;\n",
       "    }\n",
       "</style>\n",
       "<table border=\"1\" class=\"dataframe\">\n",
       "  <thead>\n",
       "    <tr style=\"text-align: right;\">\n",
       "      <th></th>\n",
       "      <th>고객번호</th>\n",
       "      <th>영수증번호</th>\n",
       "      <th>제휴사</th>\n",
       "      <th>채널구분</th>\n",
       "      <th>이용일자</th>\n",
       "      <th>이용시간</th>\n",
       "      <th>이용금액</th>\n",
       "      <th>성별</th>\n",
       "      <th>연령대</th>\n",
       "      <th>거주지분류대코드</th>\n",
       "    </tr>\n",
       "  </thead>\n",
       "  <tbody>\n",
       "    <tr>\n",
       "      <th>0</th>\n",
       "      <td>M629656521</td>\n",
       "      <td>210803210311226</td>\n",
       "      <td>A03</td>\n",
       "      <td>1</td>\n",
       "      <td>20210803</td>\n",
       "      <td>21</td>\n",
       "      <td>10900</td>\n",
       "      <td>남성</td>\n",
       "      <td>40대</td>\n",
       "      <td>Z04</td>\n",
       "    </tr>\n",
       "    <tr>\n",
       "      <th>1</th>\n",
       "      <td>M216016456</td>\n",
       "      <td>210803130167542</td>\n",
       "      <td>L01</td>\n",
       "      <td>2</td>\n",
       "      <td>20210803</td>\n",
       "      <td>13</td>\n",
       "      <td>6860</td>\n",
       "      <td>여성</td>\n",
       "      <td>40대</td>\n",
       "      <td>Z04</td>\n",
       "    </tr>\n",
       "    <tr>\n",
       "      <th>2</th>\n",
       "      <td>M205142844</td>\n",
       "      <td>210803140275112</td>\n",
       "      <td>A02</td>\n",
       "      <td>1</td>\n",
       "      <td>20210803</td>\n",
       "      <td>14</td>\n",
       "      <td>9000</td>\n",
       "      <td>여성</td>\n",
       "      <td>60대</td>\n",
       "      <td>Z17</td>\n",
       "    </tr>\n",
       "    <tr>\n",
       "      <th>3</th>\n",
       "      <td>M737010483</td>\n",
       "      <td>210803040637594</td>\n",
       "      <td>A06</td>\n",
       "      <td>2</td>\n",
       "      <td>20210803</td>\n",
       "      <td>4</td>\n",
       "      <td>36740</td>\n",
       "      <td>남성</td>\n",
       "      <td>40대</td>\n",
       "      <td>Z16</td>\n",
       "    </tr>\n",
       "    <tr>\n",
       "      <th>4</th>\n",
       "      <td>M707775545</td>\n",
       "      <td>210803140675502</td>\n",
       "      <td>A06</td>\n",
       "      <td>2</td>\n",
       "      <td>20210803</td>\n",
       "      <td>14</td>\n",
       "      <td>138500</td>\n",
       "      <td>남성</td>\n",
       "      <td>30대</td>\n",
       "      <td>Z11</td>\n",
       "    </tr>\n",
       "  </tbody>\n",
       "</table>\n",
       "</div>"
      ],
      "text/plain": [
       "         고객번호            영수증번호  제휴사  채널구분      이용일자  이용시간    이용금액  성별  연령대  \\\n",
       "0  M629656521  210803210311226  A03     1  20210803    21   10900  남성  40대   \n",
       "1  M216016456  210803130167542  L01     2  20210803    13    6860  여성  40대   \n",
       "2  M205142844  210803140275112  A02     1  20210803    14    9000  여성  60대   \n",
       "3  M737010483  210803040637594  A06     2  20210803     4   36740  남성  40대   \n",
       "4  M707775545  210803140675502  A06     2  20210803    14  138500  남성  30대   \n",
       "\n",
       "  거주지분류대코드  \n",
       "0      Z04  \n",
       "1      Z04  \n",
       "2      Z17  \n",
       "3      Z16  \n",
       "4      Z11  "
      ]
     },
     "execution_count": 142,
     "metadata": {},
     "output_type": "execute_result"
    }
   ],
   "source": [
    "lpay = pd.read_csv('data/mergedata/lpay.csv', encoding='utf-8')\n",
    "lpay.head()"
   ]
  },
  {
   "cell_type": "code",
   "execution_count": 143,
   "id": "568dbc1f",
   "metadata": {},
   "outputs": [
    {
     "data": {
      "text/html": [
       "<div>\n",
       "<style scoped>\n",
       "    .dataframe tbody tr th:only-of-type {\n",
       "        vertical-align: middle;\n",
       "    }\n",
       "\n",
       "    .dataframe tbody tr th {\n",
       "        vertical-align: top;\n",
       "    }\n",
       "\n",
       "    .dataframe thead th {\n",
       "        text-align: right;\n",
       "    }\n",
       "</style>\n",
       "<table border=\"1\" class=\"dataframe\">\n",
       "  <thead>\n",
       "    <tr style=\"text-align: right;\">\n",
       "      <th></th>\n",
       "      <th>채널구분</th>\n",
       "      <th>이용시간</th>\n",
       "      <th>성별</th>\n",
       "      <th>연령대</th>\n",
       "      <th>거주지분류대코드</th>\n",
       "      <th>구매월</th>\n",
       "    </tr>\n",
       "  </thead>\n",
       "  <tbody>\n",
       "    <tr>\n",
       "      <th>0</th>\n",
       "      <td>1</td>\n",
       "      <td>21</td>\n",
       "      <td>남성</td>\n",
       "      <td>40대</td>\n",
       "      <td>Z04</td>\n",
       "      <td>08월</td>\n",
       "    </tr>\n",
       "    <tr>\n",
       "      <th>1</th>\n",
       "      <td>2</td>\n",
       "      <td>13</td>\n",
       "      <td>여성</td>\n",
       "      <td>40대</td>\n",
       "      <td>Z04</td>\n",
       "      <td>08월</td>\n",
       "    </tr>\n",
       "    <tr>\n",
       "      <th>2</th>\n",
       "      <td>1</td>\n",
       "      <td>14</td>\n",
       "      <td>여성</td>\n",
       "      <td>60대</td>\n",
       "      <td>Z17</td>\n",
       "      <td>08월</td>\n",
       "    </tr>\n",
       "    <tr>\n",
       "      <th>3</th>\n",
       "      <td>2</td>\n",
       "      <td>4</td>\n",
       "      <td>남성</td>\n",
       "      <td>40대</td>\n",
       "      <td>Z16</td>\n",
       "      <td>08월</td>\n",
       "    </tr>\n",
       "    <tr>\n",
       "      <th>4</th>\n",
       "      <td>2</td>\n",
       "      <td>14</td>\n",
       "      <td>남성</td>\n",
       "      <td>30대</td>\n",
       "      <td>Z11</td>\n",
       "      <td>08월</td>\n",
       "    </tr>\n",
       "  </tbody>\n",
       "</table>\n",
       "</div>"
      ],
      "text/plain": [
       "   채널구분  이용시간  성별  연령대 거주지분류대코드  구매월\n",
       "0     1    21  남성  40대      Z04  08월\n",
       "1     2    13  여성  40대      Z04  08월\n",
       "2     1    14  여성  60대      Z17  08월\n",
       "3     2     4  남성  40대      Z16  08월\n",
       "4     2    14  남성  30대      Z11  08월"
      ]
     },
     "execution_count": 143,
     "metadata": {},
     "output_type": "execute_result"
    }
   ],
   "source": [
    "lpay['구매월'] = lpay['이용일자'].map(lambda x: str(x)[4:6]+'월')\n",
    "lpay = lpay[['채널구분', '이용시간', '성별', '연령대', '거주지분류대코드', '구매월']]\n",
    "lpay.head()"
   ]
  },
  {
   "cell_type": "code",
   "execution_count": 144,
   "id": "aae6451c",
   "metadata": {
    "scrolled": true
   },
   "outputs": [
    {
     "name": "stdout",
     "output_type": "stream",
     "text": [
      "<class 'pandas.core.frame.DataFrame'>\n",
      "RangeIndex: 353184 entries, 0 to 353183\n",
      "Data columns (total 40 columns):\n",
      " #   Column        Non-Null Count   Dtype\n",
      "---  ------        --------------   -----\n",
      " 0   이용시간          353184 non-null  int64\n",
      " 1   채널구분_1        353184 non-null  uint8\n",
      " 2   채널구분_2        353184 non-null  uint8\n",
      " 3   성별_남성         353184 non-null  uint8\n",
      " 4   성별_여성         353184 non-null  uint8\n",
      " 5   연령대_20대       353184 non-null  uint8\n",
      " 6   연령대_30대       353184 non-null  uint8\n",
      " 7   연령대_40대       353184 non-null  uint8\n",
      " 8   연령대_50대       353184 non-null  uint8\n",
      " 9   연령대_60대       353184 non-null  uint8\n",
      " 10  연령대_70대       353184 non-null  uint8\n",
      " 11  거주지분류대코드_Z01  353184 non-null  uint8\n",
      " 12  거주지분류대코드_Z02  353184 non-null  uint8\n",
      " 13  거주지분류대코드_Z03  353184 non-null  uint8\n",
      " 14  거주지분류대코드_Z04  353184 non-null  uint8\n",
      " 15  거주지분류대코드_Z05  353184 non-null  uint8\n",
      " 16  거주지분류대코드_Z06  353184 non-null  uint8\n",
      " 17  거주지분류대코드_Z07  353184 non-null  uint8\n",
      " 18  거주지분류대코드_Z08  353184 non-null  uint8\n",
      " 19  거주지분류대코드_Z09  353184 non-null  uint8\n",
      " 20  거주지분류대코드_Z10  353184 non-null  uint8\n",
      " 21  거주지분류대코드_Z11  353184 non-null  uint8\n",
      " 22  거주지분류대코드_Z12  353184 non-null  uint8\n",
      " 23  거주지분류대코드_Z13  353184 non-null  uint8\n",
      " 24  거주지분류대코드_Z14  353184 non-null  uint8\n",
      " 25  거주지분류대코드_Z15  353184 non-null  uint8\n",
      " 26  거주지분류대코드_Z16  353184 non-null  uint8\n",
      " 27  거주지분류대코드_Z17  353184 non-null  uint8\n",
      " 28  구매월_01월       353184 non-null  uint8\n",
      " 29  구매월_02월       353184 non-null  uint8\n",
      " 30  구매월_03월       353184 non-null  uint8\n",
      " 31  구매월_04월       353184 non-null  uint8\n",
      " 32  구매월_05월       353184 non-null  uint8\n",
      " 33  구매월_06월       353184 non-null  uint8\n",
      " 34  구매월_07월       353184 non-null  uint8\n",
      " 35  구매월_08월       353184 non-null  uint8\n",
      " 36  구매월_09월       353184 non-null  uint8\n",
      " 37  구매월_10월       353184 non-null  uint8\n",
      " 38  구매월_11월       353184 non-null  uint8\n",
      " 39  구매월_12월       353184 non-null  uint8\n",
      "dtypes: int64(1), uint8(39)\n",
      "memory usage: 15.8 MB\n"
     ]
    }
   ],
   "source": [
    "testset = pd.get_dummies(lpay, columns=['채널구분', '성별', '연령대', '거주지분류대코드', '구매월'])\n",
    "testset.info()"
   ]
  },
  {
   "cell_type": "code",
   "execution_count": 147,
   "id": "0980987c",
   "metadata": {},
   "outputs": [
    {
     "data": {
      "text/plain": [
       "array([[21,  1,  0, ...,  0,  0,  0],\n",
       "       [13,  0,  1, ...,  0,  0,  0],\n",
       "       [14,  1,  0, ...,  0,  0,  0],\n",
       "       ...,\n",
       "       [20,  1,  0, ...,  0,  0,  0],\n",
       "       [18,  1,  0, ...,  0,  0,  0],\n",
       "       [15,  0,  1, ...,  0,  0,  0]], dtype=int64)"
      ]
     },
     "execution_count": 147,
     "metadata": {},
     "output_type": "execute_result"
    }
   ],
   "source": [
    "testset = testset.values"
   ]
  },
  {
   "cell_type": "code",
   "execution_count": 151,
   "id": "0ef306aa",
   "metadata": {},
   "outputs": [
    {
     "ename": "ValueError",
     "evalue": "X has 40 features, but RandomForestClassifier is expecting 9 features as input.",
     "output_type": "error",
     "traceback": [
      "\u001b[1;31m---------------------------------------------------------------------------\u001b[0m",
      "\u001b[1;31mValueError\u001b[0m                                Traceback (most recent call last)",
      "Input \u001b[1;32mIn [151]\u001b[0m, in \u001b[0;36m<cell line: 2>\u001b[1;34m()\u001b[0m\n\u001b[0;32m      1\u001b[0m \u001b[38;5;66;03m## Random Forest 학습\u001b[39;00m\n\u001b[1;32m----> 2\u001b[0m \u001b[43mmodel1\u001b[49m\u001b[38;5;241;43m.\u001b[39;49m\u001b[43mpredict\u001b[49m\u001b[43m(\u001b[49m\u001b[43mtestset\u001b[49m\u001b[43m)\u001b[49m\n",
      "File \u001b[1;32m~\\anaconda3\\lib\\site-packages\\sklearn\\ensemble\\_forest.py:832\u001b[0m, in \u001b[0;36mForestClassifier.predict\u001b[1;34m(self, X)\u001b[0m\n\u001b[0;32m    811\u001b[0m \u001b[38;5;28;01mdef\u001b[39;00m \u001b[38;5;21mpredict\u001b[39m(\u001b[38;5;28mself\u001b[39m, X):\n\u001b[0;32m    812\u001b[0m     \u001b[38;5;124;03m\"\"\"\u001b[39;00m\n\u001b[0;32m    813\u001b[0m \u001b[38;5;124;03m    Predict class for X.\u001b[39;00m\n\u001b[0;32m    814\u001b[0m \n\u001b[1;32m   (...)\u001b[0m\n\u001b[0;32m    830\u001b[0m \u001b[38;5;124;03m        The predicted classes.\u001b[39;00m\n\u001b[0;32m    831\u001b[0m \u001b[38;5;124;03m    \"\"\"\u001b[39;00m\n\u001b[1;32m--> 832\u001b[0m     proba \u001b[38;5;241m=\u001b[39m \u001b[38;5;28;43mself\u001b[39;49m\u001b[38;5;241;43m.\u001b[39;49m\u001b[43mpredict_proba\u001b[49m\u001b[43m(\u001b[49m\u001b[43mX\u001b[49m\u001b[43m)\u001b[49m\n\u001b[0;32m    834\u001b[0m     \u001b[38;5;28;01mif\u001b[39;00m \u001b[38;5;28mself\u001b[39m\u001b[38;5;241m.\u001b[39mn_outputs_ \u001b[38;5;241m==\u001b[39m \u001b[38;5;241m1\u001b[39m:\n\u001b[0;32m    835\u001b[0m         \u001b[38;5;28;01mreturn\u001b[39;00m \u001b[38;5;28mself\u001b[39m\u001b[38;5;241m.\u001b[39mclasses_\u001b[38;5;241m.\u001b[39mtake(np\u001b[38;5;241m.\u001b[39margmax(proba, axis\u001b[38;5;241m=\u001b[39m\u001b[38;5;241m1\u001b[39m), axis\u001b[38;5;241m=\u001b[39m\u001b[38;5;241m0\u001b[39m)\n",
      "File \u001b[1;32m~\\anaconda3\\lib\\site-packages\\sklearn\\ensemble\\_forest.py:874\u001b[0m, in \u001b[0;36mForestClassifier.predict_proba\u001b[1;34m(self, X)\u001b[0m\n\u001b[0;32m    872\u001b[0m check_is_fitted(\u001b[38;5;28mself\u001b[39m)\n\u001b[0;32m    873\u001b[0m \u001b[38;5;66;03m# Check data\u001b[39;00m\n\u001b[1;32m--> 874\u001b[0m X \u001b[38;5;241m=\u001b[39m \u001b[38;5;28;43mself\u001b[39;49m\u001b[38;5;241;43m.\u001b[39;49m\u001b[43m_validate_X_predict\u001b[49m\u001b[43m(\u001b[49m\u001b[43mX\u001b[49m\u001b[43m)\u001b[49m\n\u001b[0;32m    876\u001b[0m \u001b[38;5;66;03m# Assign chunk of trees to jobs\u001b[39;00m\n\u001b[0;32m    877\u001b[0m n_jobs, _, _ \u001b[38;5;241m=\u001b[39m _partition_estimators(\u001b[38;5;28mself\u001b[39m\u001b[38;5;241m.\u001b[39mn_estimators, \u001b[38;5;28mself\u001b[39m\u001b[38;5;241m.\u001b[39mn_jobs)\n",
      "File \u001b[1;32m~\\anaconda3\\lib\\site-packages\\sklearn\\ensemble\\_forest.py:605\u001b[0m, in \u001b[0;36mBaseForest._validate_X_predict\u001b[1;34m(self, X)\u001b[0m\n\u001b[0;32m    602\u001b[0m \u001b[38;5;124;03m\"\"\"\u001b[39;00m\n\u001b[0;32m    603\u001b[0m \u001b[38;5;124;03mValidate X whenever one tries to predict, apply, predict_proba.\"\"\"\u001b[39;00m\n\u001b[0;32m    604\u001b[0m check_is_fitted(\u001b[38;5;28mself\u001b[39m)\n\u001b[1;32m--> 605\u001b[0m X \u001b[38;5;241m=\u001b[39m \u001b[38;5;28;43mself\u001b[39;49m\u001b[38;5;241;43m.\u001b[39;49m\u001b[43m_validate_data\u001b[49m\u001b[43m(\u001b[49m\u001b[43mX\u001b[49m\u001b[43m,\u001b[49m\u001b[43m \u001b[49m\u001b[43mdtype\u001b[49m\u001b[38;5;241;43m=\u001b[39;49m\u001b[43mDTYPE\u001b[49m\u001b[43m,\u001b[49m\u001b[43m \u001b[49m\u001b[43maccept_sparse\u001b[49m\u001b[38;5;241;43m=\u001b[39;49m\u001b[38;5;124;43m\"\u001b[39;49m\u001b[38;5;124;43mcsr\u001b[39;49m\u001b[38;5;124;43m\"\u001b[39;49m\u001b[43m,\u001b[49m\u001b[43m \u001b[49m\u001b[43mreset\u001b[49m\u001b[38;5;241;43m=\u001b[39;49m\u001b[38;5;28;43;01mFalse\u001b[39;49;00m\u001b[43m)\u001b[49m\n\u001b[0;32m    606\u001b[0m \u001b[38;5;28;01mif\u001b[39;00m issparse(X) \u001b[38;5;129;01mand\u001b[39;00m (X\u001b[38;5;241m.\u001b[39mindices\u001b[38;5;241m.\u001b[39mdtype \u001b[38;5;241m!=\u001b[39m np\u001b[38;5;241m.\u001b[39mintc \u001b[38;5;129;01mor\u001b[39;00m X\u001b[38;5;241m.\u001b[39mindptr\u001b[38;5;241m.\u001b[39mdtype \u001b[38;5;241m!=\u001b[39m np\u001b[38;5;241m.\u001b[39mintc):\n\u001b[0;32m    607\u001b[0m     \u001b[38;5;28;01mraise\u001b[39;00m \u001b[38;5;167;01mValueError\u001b[39;00m(\u001b[38;5;124m\"\u001b[39m\u001b[38;5;124mNo support for np.int64 index based sparse matrices\u001b[39m\u001b[38;5;124m\"\u001b[39m)\n",
      "File \u001b[1;32m~\\anaconda3\\lib\\site-packages\\sklearn\\base.py:600\u001b[0m, in \u001b[0;36mBaseEstimator._validate_data\u001b[1;34m(self, X, y, reset, validate_separately, **check_params)\u001b[0m\n\u001b[0;32m    597\u001b[0m     out \u001b[38;5;241m=\u001b[39m X, y\n\u001b[0;32m    599\u001b[0m \u001b[38;5;28;01mif\u001b[39;00m \u001b[38;5;129;01mnot\u001b[39;00m no_val_X \u001b[38;5;129;01mand\u001b[39;00m check_params\u001b[38;5;241m.\u001b[39mget(\u001b[38;5;124m\"\u001b[39m\u001b[38;5;124mensure_2d\u001b[39m\u001b[38;5;124m\"\u001b[39m, \u001b[38;5;28;01mTrue\u001b[39;00m):\n\u001b[1;32m--> 600\u001b[0m     \u001b[38;5;28;43mself\u001b[39;49m\u001b[38;5;241;43m.\u001b[39;49m\u001b[43m_check_n_features\u001b[49m\u001b[43m(\u001b[49m\u001b[43mX\u001b[49m\u001b[43m,\u001b[49m\u001b[43m \u001b[49m\u001b[43mreset\u001b[49m\u001b[38;5;241;43m=\u001b[39;49m\u001b[43mreset\u001b[49m\u001b[43m)\u001b[49m\n\u001b[0;32m    602\u001b[0m \u001b[38;5;28;01mreturn\u001b[39;00m out\n",
      "File \u001b[1;32m~\\anaconda3\\lib\\site-packages\\sklearn\\base.py:400\u001b[0m, in \u001b[0;36mBaseEstimator._check_n_features\u001b[1;34m(self, X, reset)\u001b[0m\n\u001b[0;32m    397\u001b[0m     \u001b[38;5;28;01mreturn\u001b[39;00m\n\u001b[0;32m    399\u001b[0m \u001b[38;5;28;01mif\u001b[39;00m n_features \u001b[38;5;241m!=\u001b[39m \u001b[38;5;28mself\u001b[39m\u001b[38;5;241m.\u001b[39mn_features_in_:\n\u001b[1;32m--> 400\u001b[0m     \u001b[38;5;28;01mraise\u001b[39;00m \u001b[38;5;167;01mValueError\u001b[39;00m(\n\u001b[0;32m    401\u001b[0m         \u001b[38;5;124mf\u001b[39m\u001b[38;5;124m\"\u001b[39m\u001b[38;5;124mX has \u001b[39m\u001b[38;5;132;01m{\u001b[39;00mn_features\u001b[38;5;132;01m}\u001b[39;00m\u001b[38;5;124m features, but \u001b[39m\u001b[38;5;132;01m{\u001b[39;00m\u001b[38;5;28mself\u001b[39m\u001b[38;5;241m.\u001b[39m\u001b[38;5;18m__class__\u001b[39m\u001b[38;5;241m.\u001b[39m\u001b[38;5;18m__name__\u001b[39m\u001b[38;5;132;01m}\u001b[39;00m\u001b[38;5;124m \u001b[39m\u001b[38;5;124m\"\u001b[39m\n\u001b[0;32m    402\u001b[0m         \u001b[38;5;124mf\u001b[39m\u001b[38;5;124m\"\u001b[39m\u001b[38;5;124mis expecting \u001b[39m\u001b[38;5;132;01m{\u001b[39;00m\u001b[38;5;28mself\u001b[39m\u001b[38;5;241m.\u001b[39mn_features_in_\u001b[38;5;132;01m}\u001b[39;00m\u001b[38;5;124m features as input.\u001b[39m\u001b[38;5;124m\"\u001b[39m\n\u001b[0;32m    403\u001b[0m     )\n",
      "\u001b[1;31mValueError\u001b[0m: X has 40 features, but RandomForestClassifier is expecting 9 features as input."
     ]
    }
   ],
   "source": [
    "## Random Forest 학습\n",
    "model1.predict(testset)"
   ]
  },
  {
   "cell_type": "code",
   "execution_count": null,
   "id": "ce004f1f",
   "metadata": {},
   "outputs": [],
   "source": []
  }
 ],
 "metadata": {
  "kernelspec": {
   "display_name": "Python 3 (ipykernel)",
   "language": "python",
   "name": "python3"
  },
  "language_info": {
   "codemirror_mode": {
    "name": "ipython",
    "version": 3
   },
   "file_extension": ".py",
   "mimetype": "text/x-python",
   "name": "python",
   "nbconvert_exporter": "python",
   "pygments_lexer": "ipython3",
   "version": "3.8.8"
  },
  "toc": {
   "base_numbering": 1,
   "nav_menu": {},
   "number_sections": true,
   "sideBar": true,
   "skip_h1_title": false,
   "title_cell": "Table of Contents",
   "title_sidebar": "Contents",
   "toc_cell": false,
   "toc_position": {},
   "toc_section_display": true,
   "toc_window_display": true
  }
 },
 "nbformat": 4,
 "nbformat_minor": 5
}
