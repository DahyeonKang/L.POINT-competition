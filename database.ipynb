{
 "cells": [
  {
   "cell_type": "code",
   "execution_count": 4,
   "metadata": {},
   "outputs": [],
   "source": [
    "import sqlite3\n",
    "import csv\n",
    "import pandas as pd\n",
    "from tqdm import tqdm"
   ]
  },
  {
   "cell_type": "code",
   "execution_count": 6,
   "metadata": {},
   "outputs": [],
   "source": [
    "# lpoint db 생성 or 연결\n",
    "con = sqlite3.connect(\"lpoint.db\", isolation_level=None)"
   ]
  },
  {
   "cell_type": "code",
   "execution_count": null,
   "metadata": {},
   "outputs": [],
   "source": [
    "# 01_DEMO.csv -> DEMO table로 저장\n",
    "cur = con.cursor()\n",
    "cur.execute(\"CREATE TABLE DEMO (cust varchar(50) primary key, ma_fem_dv varchar(50), ages varchar(50), zon_hlv varchar(50));\") # use your column names here\n",
    "\n",
    "with open('./LPOINT_DATA/DEMO.csv', 'r', encoding='cp949') as fin: # `with` statement available in 2.5+\n",
    "    # csv.DictReader uses first line in file for column headings by default\n",
    "    dr = csv.DictReader(fin) # comma is default delimiter\n",
    "    data = [(i['cust'], i['ma_fem_dv'], i['ages'], i['zon_hlv']) for i in tqdm(dr)]\n",
    "    \n",
    "cur.executemany(\"INSERT INTO DEMO VALUES (?, ?, ?, ?);\", data)\n",
    "con.commit()\n",
    "con.close()"
   ]
  },
  {
   "cell_type": "code",
   "execution_count": null,
   "metadata": {},
   "outputs": [
    {
     "name": "stderr",
     "output_type": "stream",
     "text": [
      "4381743it [00:35, 123330.60it/s]\n"
     ]
    }
   ],
   "source": [
    "# 02_PDDE.csv -> PDDE table로 저장\n",
    "cur = con.cursor()\n",
    "cur.execute('''CREATE TABLE PDDE (cust varchar(50), rct_no varchar(50), chnl_dv INTEGER, cop_c varchar(50), br_c varchar(50), \n",
    "pd_c varchar(50), de_dt DATE, de_hr INTEGER, buy_am INTEGER, buy_ct INTEGER,  \n",
    "FOREIGN KEY (cust) REFERENCES DEMO (cust), FOREIGN KEY (br_c) REFERENCES BR (br_c), FOREIGN KEY (pd_c) REFERENCES PD_CLAC (pd_c));''') # use your column names here\n",
    "\n",
    "with open('./LPOINT_DATA/02_PDDE.csv', 'r', encoding='cp949') as fin: # `with` statement available in 2.5+\n",
    "    # csv.DictReader uses first line in file for column headings by default\n",
    "    dr = csv.DictReader(fin) # comma is default delimiter\n",
    "    data = [(i['cust'], i['rct_no'], i['chnl_dv'], i['cop_c'], i['br_c'], i['pd_c'], i['de_dt'], i['de_hr'], i['buy_am'], i['buy_ct']) for i in tqdm(dr)]\n",
    "    \n",
    "cur.executemany(\"INSERT INTO PDDE VALUES (?, ?, ?, ?, ?, ?, ?, ?, ?, ?);\", data)\n",
    "con.commit()\n",
    "con.close()"
   ]
  },
  {
   "cell_type": "code",
   "execution_count": 3,
   "metadata": {},
   "outputs": [
    {
     "name": "stderr",
     "output_type": "stream",
     "text": [
      "248304it [00:02, 104750.39it/s]\n"
     ]
    }
   ],
   "source": [
    "# 03_COP_U.csv -> COP_U table로 저장\n",
    "cur = con.cursor()\n",
    "cur.execute('''CREATE TABLE COP_U (cust varchar(50), rct_no INTEGER, cop_c varchar(50), br_c varchar(50), chnl_dv INTEGER, \n",
    "de_dt DATE, vst_dt DATE, de_hr INTEGER, buy_am INTEGER, \n",
    "FOREIGN KEY (cust) REFERENCES DEMO (cust), FOREIGN KEY (br_c) REFERENCES BR (br_c));''') # use your column names here\n",
    "\n",
    "with open('./LPOINT_DATA/03_COP_U.csv', 'r', encoding='cp949') as fin: # `with` statement available in 2.5+\n",
    "    # csv.DictReader uses first line in file for column headings by default\n",
    "    dr = csv.DictReader(fin) # comma is default delimiter\n",
    "    data = [(i['cust'], i['rct_no'], i['cop_c'], i['br_c'], i['chnl_dv'], i['de_dt'], i['vst_dt'], i['de_hr'], i['buy_am']) for i in tqdm(dr)]\n",
    "    \n",
    "cur.executemany(\"INSERT INTO COP_U VALUES (?, ?, ?, ?, ?, ?, ?, ?, ?);\", data)\n",
    "con.commit()\n",
    "con.close()"
   ]
  },
  {
   "cell_type": "code",
   "execution_count": 3,
   "metadata": {},
   "outputs": [
    {
     "name": "stderr",
     "output_type": "stream",
     "text": [
      "1933it [00:00, 121138.98it/s]\n"
     ]
    }
   ],
   "source": [
    "# 04_PD_CLAC.csv -> PD_CLAC table로 저장\n",
    "cur = con.cursor()\n",
    "cur.execute(\"CREATE TABLE PD_CLAC (pd_c varchar(50) primary key, pd_nm varchar(50), clac_hlv_nm varchar(50), clac_mcls_nm varchar(50));\") # use your column names here\n",
    "\n",
    "with open('./LPOINT_DATA/04_PD_CLAC.csv', 'r', encoding='cp949') as fin: # `with` statement available in 2.5+\n",
    "    # csv.DictReader uses first line in file for column headings by default\n",
    "    dr = csv.DictReader(fin) # comma is default delimiter\n",
    "    data = [(i['pd_c'], i['pd_nm'], i['clac_hlv_nm'], i['clac_mcls_nm']) for i in tqdm(dr)]\n",
    "    \n",
    "cur.executemany(\"INSERT INTO PD_CLAC VALUES (?, ?, ?, ?);\", data)\n",
    "con.commit()\n",
    "con.close()"
   ]
  },
  {
   "cell_type": "code",
   "execution_count": 11,
   "metadata": {},
   "outputs": [
    {
     "name": "stderr",
     "output_type": "stream",
     "text": [
      "8808it [00:00, 149690.35it/s]\n"
     ]
    }
   ],
   "source": [
    "# 05_BR.csv -> BR table로 저장\n",
    "cur = con.cursor()\n",
    "cur.execute(\"CREATE TABLE BR (br_c varchar(50) primary key, cop_c varchar(50), zon_hlv varchar(50), zon_mcls varchar(50));\") # use your column names here\n",
    "\n",
    "with open('./LPOINT_DATA/05_BR.csv', 'r', encoding='cp949') as fin: # `with` statement available in 2.5+\n",
    "    # csv.DictReader uses first line in file for column headings by default\n",
    "    dr = csv.DictReader(fin) # comma is default delimiter\n",
    "    data = [(i['br_c'], i['cop_c'], i['zon_hlv'], i['zon_mcls']) for i in tqdm(dr)]\n",
    "    \n",
    "cur.executemany(\"INSERT INTO BR VALUES (?, ?, ?, ?);\", data)\n",
    "con.commit()\n",
    "con.close()"
   ]
  },
  {
   "cell_type": "code",
   "execution_count": 20,
   "metadata": {},
   "outputs": [
    {
     "name": "stderr",
     "output_type": "stream",
     "text": [
      "353184it [00:02, 149015.63it/s]\n"
     ]
    }
   ],
   "source": [
    "# 06_LPAY.csv -> LPAY table로 저장\n",
    "cur = con.cursor()\n",
    "cur.execute(\"CREATE TABLE LPAY (cust varchar(50), rct_no INTEGER, cop_c varchar(50), chnl_dv INTEGER, de_dt DATE, de_hr INTEGER, buy_am INTEGER, FOREIGN KEY (cust) REFERENCES DEMO (cust), FOREIGN KEY (cop_c) REFERENCES BR (cop_c));\") # use your column names here\n",
    "\n",
    "with open('./LPOINT_DATA/06_LPAY.csv', 'r', encoding='cp949') as fin: # `with` statement available in 2.5+\n",
    "    # csv.DictReader uses first line in file for column headings by default\n",
    "    dr = csv.DictReader(fin) # comma is default delimiter\n",
    "    data = [(i['cust'], i['rct_no'], i['cop_c'], i['chnl_dv'], i['de_dt'], i['de_hr'], i['buy_am']) for i in tqdm(dr)]\n",
    "    \n",
    "cur.executemany(\"INSERT INTO LPAY VALUES (?, ?, ?, ?, ?, ?, ?);\", data)\n",
    "con.commit()\n",
    "con.close()"
   ]
  },
  {
   "cell_type": "code",
   "execution_count": null,
   "metadata": {},
   "outputs": [],
   "source": [
    "demo = pd.read_sql(\"SELECT * FROM DEMO\", con, index_col=None)"
   ]
  },
  {
   "cell_type": "code",
   "execution_count": null,
   "metadata": {},
   "outputs": [],
   "source": [
    "cur = con.cursor()\n",
    "a = cur.execute( 'PRAGMA table_info(DEMO)' )\n",
    "print(a.fetchall())"
   ]
  },
  {
   "cell_type": "code",
   "execution_count": 4,
   "metadata": {},
   "outputs": [],
   "source": [
    "# pd_clac 테이블, 데이터프레임에 저장\n",
    "con = sqlite3.connect(\"lpoint.db\", isolation_level=None)\n",
    "pd_clac = pd.read_sql(\"SELECT * FROM PD_CLAC\", con, index_col=None)"
   ]
  },
  {
   "cell_type": "code",
   "execution_count": 5,
   "metadata": {},
   "outputs": [
    {
     "data": {
      "text/html": [
       "<div>\n",
       "<style scoped>\n",
       "    .dataframe tbody tr th:only-of-type {\n",
       "        vertical-align: middle;\n",
       "    }\n",
       "\n",
       "    .dataframe tbody tr th {\n",
       "        vertical-align: top;\n",
       "    }\n",
       "\n",
       "    .dataframe thead th {\n",
       "        text-align: right;\n",
       "    }\n",
       "</style>\n",
       "<table border=\"1\" class=\"dataframe\">\n",
       "  <thead>\n",
       "    <tr style=\"text-align: right;\">\n",
       "      <th></th>\n",
       "      <th>pd_c</th>\n",
       "      <th>pd_nm</th>\n",
       "      <th>clac_hlv_nm</th>\n",
       "      <th>clac_mcls_nm</th>\n",
       "    </tr>\n",
       "  </thead>\n",
       "  <tbody>\n",
       "    <tr>\n",
       "      <th>0</th>\n",
       "      <td>PD0001</td>\n",
       "      <td>소파</td>\n",
       "      <td>가구</td>\n",
       "      <td>거실가구</td>\n",
       "    </tr>\n",
       "    <tr>\n",
       "      <th>1</th>\n",
       "      <td>PD0002</td>\n",
       "      <td>스툴/리빙의자</td>\n",
       "      <td>가구</td>\n",
       "      <td>거실가구</td>\n",
       "    </tr>\n",
       "    <tr>\n",
       "      <th>2</th>\n",
       "      <td>PD0003</td>\n",
       "      <td>탁자</td>\n",
       "      <td>가구</td>\n",
       "      <td>거실가구</td>\n",
       "    </tr>\n",
       "    <tr>\n",
       "      <th>3</th>\n",
       "      <td>PD0004</td>\n",
       "      <td>장식장/진열장</td>\n",
       "      <td>가구</td>\n",
       "      <td>거실가구</td>\n",
       "    </tr>\n",
       "    <tr>\n",
       "      <th>4</th>\n",
       "      <td>PD0005</td>\n",
       "      <td>기타가구</td>\n",
       "      <td>가구</td>\n",
       "      <td>기타가구</td>\n",
       "    </tr>\n",
       "  </tbody>\n",
       "</table>\n",
       "</div>"
      ],
      "text/plain": [
       "     pd_c    pd_nm clac_hlv_nm clac_mcls_nm\n",
       "0  PD0001       소파          가구         거실가구\n",
       "1  PD0002  스툴/리빙의자          가구         거실가구\n",
       "2  PD0003       탁자          가구         거실가구\n",
       "3  PD0004  장식장/진열장          가구         거실가구\n",
       "4  PD0005     기타가구          가구         기타가구"
      ]
     },
     "execution_count": 5,
     "metadata": {},
     "output_type": "execute_result"
    }
   ],
   "source": [
    "pd_clac.head()"
   ]
  },
  {
   "cell_type": "code",
   "execution_count": 7,
   "metadata": {},
   "outputs": [
    {
     "name": "stdout",
     "output_type": "stream",
     "text": [
      "[(0, 'pd_c', 'varchar(50)', 0, None, 1), (1, 'pd_nm', 'varchar(50)', 0, None, 0), (2, 'clac_hlv_nm', 'varchar(50)', 0, None, 0), (3, 'clac_mcls_nm', 'varchar(50)', 0, None, 0)]\n"
     ]
    }
   ],
   "source": [
    "# 컬럼 확인\n",
    "cur = con.cursor()\n",
    "a = cur.execute( 'PRAGMA table_info(PD_CLAC)' )\n",
    "print(a.fetchall())"
   ]
  },
  {
   "cell_type": "code",
   "execution_count": 13,
   "metadata": {},
   "outputs": [],
   "source": [
    "# br 테이블, 데이터프레임에 저장\n",
    "con = sqlite3.connect(\"lpoint.db\", isolation_level=None)\n",
    "br= pd.read_sql(\"SELECT * FROM BR\", con, index_col=None)"
   ]
  },
  {
   "cell_type": "code",
   "execution_count": 14,
   "metadata": {},
   "outputs": [
    {
     "data": {
      "text/html": [
       "<div>\n",
       "<style scoped>\n",
       "    .dataframe tbody tr th:only-of-type {\n",
       "        vertical-align: middle;\n",
       "    }\n",
       "\n",
       "    .dataframe tbody tr th {\n",
       "        vertical-align: top;\n",
       "    }\n",
       "\n",
       "    .dataframe thead th {\n",
       "        text-align: right;\n",
       "    }\n",
       "</style>\n",
       "<table border=\"1\" class=\"dataframe\">\n",
       "  <thead>\n",
       "    <tr style=\"text-align: right;\">\n",
       "      <th></th>\n",
       "      <th>br_c</th>\n",
       "      <th>cop_c</th>\n",
       "      <th>zon_hlv</th>\n",
       "      <th>zon_mcls</th>\n",
       "    </tr>\n",
       "  </thead>\n",
       "  <tbody>\n",
       "    <tr>\n",
       "      <th>0</th>\n",
       "      <td>A010001</td>\n",
       "      <td>A01</td>\n",
       "      <td>Z17</td>\n",
       "      <td>Z17024</td>\n",
       "    </tr>\n",
       "    <tr>\n",
       "      <th>1</th>\n",
       "      <td>A010002</td>\n",
       "      <td>A01</td>\n",
       "      <td>Z17</td>\n",
       "      <td>Z17018</td>\n",
       "    </tr>\n",
       "    <tr>\n",
       "      <th>2</th>\n",
       "      <td>A010003</td>\n",
       "      <td>A01</td>\n",
       "      <td>Z17</td>\n",
       "      <td>Z17011</td>\n",
       "    </tr>\n",
       "    <tr>\n",
       "      <th>3</th>\n",
       "      <td>A010004</td>\n",
       "      <td>A01</td>\n",
       "      <td>Z16</td>\n",
       "      <td>Z16007</td>\n",
       "    </tr>\n",
       "    <tr>\n",
       "      <th>4</th>\n",
       "      <td>A010005</td>\n",
       "      <td>A01</td>\n",
       "      <td>Z17</td>\n",
       "      <td>Z17005</td>\n",
       "    </tr>\n",
       "  </tbody>\n",
       "</table>\n",
       "</div>"
      ],
      "text/plain": [
       "      br_c cop_c zon_hlv zon_mcls\n",
       "0  A010001   A01     Z17   Z17024\n",
       "1  A010002   A01     Z17   Z17018\n",
       "2  A010003   A01     Z17   Z17011\n",
       "3  A010004   A01     Z16   Z16007\n",
       "4  A010005   A01     Z17   Z17005"
      ]
     },
     "execution_count": 14,
     "metadata": {},
     "output_type": "execute_result"
    }
   ],
   "source": [
    "br.head()"
   ]
  },
  {
   "cell_type": "code",
   "execution_count": 15,
   "metadata": {},
   "outputs": [
    {
     "name": "stdout",
     "output_type": "stream",
     "text": [
      "[(0, 'br_c', 'varchar(50)', 0, None, 1), (1, 'cop_c', 'varchar(50)', 0, None, 0), (2, 'zon_hlv', 'varchar(50)', 0, None, 0), (3, 'zon_mcls', 'varchar(50)', 0, None, 0)]\n"
     ]
    }
   ],
   "source": [
    "# 컬럼 확인\n",
    "cur = con.cursor()\n",
    "a = cur.execute( 'PRAGMA table_info(BR)' )\n",
    "print(a.fetchall())"
   ]
  },
  {
   "cell_type": "code",
   "execution_count": 27,
   "metadata": {},
   "outputs": [],
   "source": [
    "# lpay 테이블, 데이터프레임에 저장\n",
    "con = sqlite3.connect(\"lpoint.db\", isolation_level=None)\n",
    "lpay = pd.read_sql(\"SELECT * FROM LPAY\", con, index_col=None)"
   ]
  },
  {
   "cell_type": "code",
   "execution_count": 28,
   "metadata": {},
   "outputs": [
    {
     "data": {
      "text/html": [
       "<div>\n",
       "<style scoped>\n",
       "    .dataframe tbody tr th:only-of-type {\n",
       "        vertical-align: middle;\n",
       "    }\n",
       "\n",
       "    .dataframe tbody tr th {\n",
       "        vertical-align: top;\n",
       "    }\n",
       "\n",
       "    .dataframe thead th {\n",
       "        text-align: right;\n",
       "    }\n",
       "</style>\n",
       "<table border=\"1\" class=\"dataframe\">\n",
       "  <thead>\n",
       "    <tr style=\"text-align: right;\">\n",
       "      <th></th>\n",
       "      <th>cust</th>\n",
       "      <th>rct_no</th>\n",
       "      <th>cop_c</th>\n",
       "      <th>chnl_dv</th>\n",
       "      <th>de_dt</th>\n",
       "      <th>de_hr</th>\n",
       "      <th>buy_am</th>\n",
       "    </tr>\n",
       "  </thead>\n",
       "  <tbody>\n",
       "    <tr>\n",
       "      <th>0</th>\n",
       "      <td>M629656521</td>\n",
       "      <td>210803210311226</td>\n",
       "      <td>A03</td>\n",
       "      <td>1</td>\n",
       "      <td>20210803</td>\n",
       "      <td>21</td>\n",
       "      <td>10900</td>\n",
       "    </tr>\n",
       "    <tr>\n",
       "      <th>1</th>\n",
       "      <td>M216016456</td>\n",
       "      <td>210803130167542</td>\n",
       "      <td>L01</td>\n",
       "      <td>2</td>\n",
       "      <td>20210803</td>\n",
       "      <td>13</td>\n",
       "      <td>6860</td>\n",
       "    </tr>\n",
       "    <tr>\n",
       "      <th>2</th>\n",
       "      <td>M205142844</td>\n",
       "      <td>210803140275112</td>\n",
       "      <td>A02</td>\n",
       "      <td>1</td>\n",
       "      <td>20210803</td>\n",
       "      <td>14</td>\n",
       "      <td>9000</td>\n",
       "    </tr>\n",
       "    <tr>\n",
       "      <th>3</th>\n",
       "      <td>M737010483</td>\n",
       "      <td>210803040637594</td>\n",
       "      <td>A06</td>\n",
       "      <td>2</td>\n",
       "      <td>20210803</td>\n",
       "      <td>4</td>\n",
       "      <td>36740</td>\n",
       "    </tr>\n",
       "    <tr>\n",
       "      <th>4</th>\n",
       "      <td>M707775545</td>\n",
       "      <td>210803140675502</td>\n",
       "      <td>A06</td>\n",
       "      <td>2</td>\n",
       "      <td>20210803</td>\n",
       "      <td>14</td>\n",
       "      <td>138500</td>\n",
       "    </tr>\n",
       "  </tbody>\n",
       "</table>\n",
       "</div>"
      ],
      "text/plain": [
       "         cust           rct_no cop_c  chnl_dv     de_dt  de_hr  buy_am\n",
       "0  M629656521  210803210311226   A03        1  20210803     21   10900\n",
       "1  M216016456  210803130167542   L01        2  20210803     13    6860\n",
       "2  M205142844  210803140275112   A02        1  20210803     14    9000\n",
       "3  M737010483  210803040637594   A06        2  20210803      4   36740\n",
       "4  M707775545  210803140675502   A06        2  20210803     14  138500"
      ]
     },
     "execution_count": 28,
     "metadata": {},
     "output_type": "execute_result"
    }
   ],
   "source": [
    "lpay.head()"
   ]
  },
  {
   "cell_type": "code",
   "execution_count": 29,
   "metadata": {},
   "outputs": [
    {
     "name": "stdout",
     "output_type": "stream",
     "text": [
      "[(0, 'cust', 'varchar(50)', 0, None, 0), (1, 'rct_no', 'INTEGER', 0, None, 0), (2, 'cop_c', 'varchar(50)', 0, None, 0), (3, 'chnl_dv', 'INTEGER', 0, None, 0), (4, 'de_dt', 'DATE', 0, None, 0), (5, 'de_hr', 'INTEGER', 0, None, 0), (6, 'buy_am', 'INTEGER', 0, None, 0)]\n"
     ]
    }
   ],
   "source": [
    "cur = con.cursor()\n",
    "a = cur.execute( 'PRAGMA table_info(LPAY)' )\n",
    "print(a.fetchall())"
   ]
  },
  {
   "cell_type": "code",
   "execution_count": 30,
   "metadata": {},
   "outputs": [],
   "source": [
    "# db연결 종료\n",
    "con.close()"
   ]
  }
 ],
 "metadata": {
  "hide_input": false,
  "kernelspec": {
   "display_name": "Python 3 (ipykernel)",
   "language": "python",
   "name": "python3"
  },
  "language_info": {
   "codemirror_mode": {
    "name": "ipython",
    "version": 3
   },
   "file_extension": ".py",
   "mimetype": "text/x-python",
   "name": "python",
   "nbconvert_exporter": "python",
   "pygments_lexer": "ipython3",
   "version": "3.8.8"
  },
  "toc": {
   "base_numbering": 1,
   "nav_menu": {},
   "number_sections": true,
   "sideBar": true,
   "skip_h1_title": false,
   "title_cell": "Table of Contents",
   "title_sidebar": "Contents",
   "toc_cell": false,
   "toc_position": {},
   "toc_section_display": true,
   "toc_window_display": false
  }
 },
 "nbformat": 4,
 "nbformat_minor": 4
}
