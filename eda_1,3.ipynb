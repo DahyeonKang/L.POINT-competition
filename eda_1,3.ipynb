{
 "cells": [
  {
   "cell_type": "markdown",
   "id": "2fff845d",
   "metadata": {},
   "source": [
    "# 데이터 불러오기\n",
    "## SELECT 문으로 불러오기"
   ]
  },
  {
   "cell_type": "code",
   "execution_count": 1,
   "id": "3ab5fb17",
   "metadata": {},
   "outputs": [],
   "source": [
    "import pandas as pd\n",
    "import numpy as np\n",
    "import sqlite3"
   ]
  },
  {
   "cell_type": "code",
   "execution_count": 2,
   "id": "82284029",
   "metadata": {},
   "outputs": [],
   "source": [
    "con = sqlite3.connect(\"lpoint.db\", isolation_level=None)"
   ]
  },
  {
   "cell_type": "code",
   "execution_count": 3,
   "id": "22880f59",
   "metadata": {},
   "outputs": [
    {
     "name": "stdout",
     "output_type": "stream",
     "text": [
      "<class 'pandas.core.frame.DataFrame'>\n",
      "RangeIndex: 29913 entries, 0 to 29912\n",
      "Data columns (total 4 columns):\n",
      " #   Column     Non-Null Count  Dtype \n",
      "---  ------     --------------  ----- \n",
      " 0   cust       29913 non-null  object\n",
      " 1   ma_fem_dv  29913 non-null  object\n",
      " 2   ages       29913 non-null  object\n",
      " 3   zon_hlv    29913 non-null  object\n",
      "dtypes: object(4)\n",
      "memory usage: 934.9+ KB\n"
     ]
    }
   ],
   "source": [
    "# 01_DEMO\n",
    "demo = pd.read_sql(\"SELECT * FROM DEMO\", con, index_col=None)\n",
    "demo.info()"
   ]
  },
  {
   "cell_type": "code",
   "execution_count": 4,
   "id": "94639261",
   "metadata": {},
   "outputs": [
    {
     "name": "stdout",
     "output_type": "stream",
     "text": [
      "<class 'pandas.core.frame.DataFrame'>\n",
      "RangeIndex: 248304 entries, 0 to 248303\n",
      "Data columns (total 9 columns):\n",
      " #   Column   Non-Null Count   Dtype \n",
      "---  ------   --------------   ----- \n",
      " 0   cust     248304 non-null  object\n",
      " 1   rct_no   248304 non-null  object\n",
      " 2   cop_c    248304 non-null  object\n",
      " 3   br_c     248304 non-null  object\n",
      " 4   chnl_dv  248304 non-null  int64 \n",
      " 5   de_dt    248304 non-null  int64 \n",
      " 6   vst_dt   248304 non-null  int64 \n",
      " 7   de_hr    248304 non-null  int64 \n",
      " 8   buy_am   248304 non-null  int64 \n",
      "dtypes: int64(5), object(4)\n",
      "memory usage: 17.0+ MB\n"
     ]
    }
   ],
   "source": [
    "# 03_COP_U\n",
    "cop_u = pd.read_sql(\"SELECT * FROM COP_U\", con, index_col=None)\n",
    "cop_u.info()"
   ]
  },
  {
   "cell_type": "markdown",
   "id": "5adf4f27",
   "metadata": {},
   "source": [
    "## 두 데이터 합치기"
   ]
  },
  {
   "cell_type": "code",
   "execution_count": 5,
   "id": "3ca72147",
   "metadata": {},
   "outputs": [],
   "source": [
    "data = pd.merge(cop_u, demo, on = 'cust', how = 'left')"
   ]
  },
  {
   "cell_type": "code",
   "execution_count": 71,
   "id": "4827456f",
   "metadata": {},
   "outputs": [
    {
     "data": {
      "text/html": [
       "<div>\n",
       "<style scoped>\n",
       "    .dataframe tbody tr th:only-of-type {\n",
       "        vertical-align: middle;\n",
       "    }\n",
       "\n",
       "    .dataframe tbody tr th {\n",
       "        vertical-align: top;\n",
       "    }\n",
       "\n",
       "    .dataframe thead th {\n",
       "        text-align: right;\n",
       "    }\n",
       "</style>\n",
       "<table border=\"1\" class=\"dataframe\">\n",
       "  <thead>\n",
       "    <tr style=\"text-align: right;\">\n",
       "      <th></th>\n",
       "      <th>고객번호</th>\n",
       "      <th>영수증번호</th>\n",
       "      <th>제휴사</th>\n",
       "      <th>점포코드</th>\n",
       "      <th>채널구분</th>\n",
       "      <th>이용일자</th>\n",
       "      <th>방문일자</th>\n",
       "      <th>이용시간</th>\n",
       "      <th>이용금액</th>\n",
       "      <th>성별</th>\n",
       "      <th>연령대</th>\n",
       "      <th>거주지분류대코드</th>\n",
       "    </tr>\n",
       "  </thead>\n",
       "  <tbody>\n",
       "    <tr>\n",
       "      <th>0</th>\n",
       "      <td>M839993508</td>\n",
       "      <td>21102612B015763935</td>\n",
       "      <td>B01</td>\n",
       "      <td>B010012</td>\n",
       "      <td>1</td>\n",
       "      <td>20211026</td>\n",
       "      <td>20211026</td>\n",
       "      <td>12</td>\n",
       "      <td>60000</td>\n",
       "      <td>남성</td>\n",
       "      <td>70대</td>\n",
       "      <td>Z17</td>\n",
       "    </tr>\n",
       "    <tr>\n",
       "      <th>1</th>\n",
       "      <td>M839993508</td>\n",
       "      <td>21110610B014219744</td>\n",
       "      <td>B01</td>\n",
       "      <td>B010012</td>\n",
       "      <td>1</td>\n",
       "      <td>20211106</td>\n",
       "      <td>20211106</td>\n",
       "      <td>10</td>\n",
       "      <td>17100</td>\n",
       "      <td>남성</td>\n",
       "      <td>70대</td>\n",
       "      <td>Z17</td>\n",
       "    </tr>\n",
       "    <tr>\n",
       "      <th>2</th>\n",
       "      <td>M839993508</td>\n",
       "      <td>21021112B013419710</td>\n",
       "      <td>B01</td>\n",
       "      <td>B010012</td>\n",
       "      <td>1</td>\n",
       "      <td>20210211</td>\n",
       "      <td>20210211</td>\n",
       "      <td>12</td>\n",
       "      <td>136500</td>\n",
       "      <td>남성</td>\n",
       "      <td>70대</td>\n",
       "      <td>Z17</td>\n",
       "    </tr>\n",
       "    <tr>\n",
       "      <th>3</th>\n",
       "      <td>M839993508</td>\n",
       "      <td>21092010B012637545</td>\n",
       "      <td>B01</td>\n",
       "      <td>B010012</td>\n",
       "      <td>1</td>\n",
       "      <td>20210920</td>\n",
       "      <td>20210920</td>\n",
       "      <td>10</td>\n",
       "      <td>34200</td>\n",
       "      <td>남성</td>\n",
       "      <td>70대</td>\n",
       "      <td>Z17</td>\n",
       "    </tr>\n",
       "    <tr>\n",
       "      <th>4</th>\n",
       "      <td>M839993508</td>\n",
       "      <td>21101009D015920171</td>\n",
       "      <td>D01</td>\n",
       "      <td>D010614</td>\n",
       "      <td>1</td>\n",
       "      <td>20211010</td>\n",
       "      <td>20211010</td>\n",
       "      <td>9</td>\n",
       "      <td>2500</td>\n",
       "      <td>남성</td>\n",
       "      <td>70대</td>\n",
       "      <td>Z17</td>\n",
       "    </tr>\n",
       "  </tbody>\n",
       "</table>\n",
       "</div>"
      ],
      "text/plain": [
       "         고객번호               영수증번호  제휴사     점포코드  채널구분      이용일자      방문일자  \\\n",
       "0  M839993508  21102612B015763935  B01  B010012     1  20211026  20211026   \n",
       "1  M839993508  21110610B014219744  B01  B010012     1  20211106  20211106   \n",
       "2  M839993508  21021112B013419710  B01  B010012     1  20210211  20210211   \n",
       "3  M839993508  21092010B012637545  B01  B010012     1  20210920  20210920   \n",
       "4  M839993508  21101009D015920171  D01  D010614     1  20211010  20211010   \n",
       "\n",
       "   이용시간    이용금액  성별  연령대 거주지분류대코드  \n",
       "0    12   60000  남성  70대      Z17  \n",
       "1    10   17100  남성  70대      Z17  \n",
       "2    12  136500  남성  70대      Z17  \n",
       "3    10   34200  남성  70대      Z17  \n",
       "4     9    2500  남성  70대      Z17  "
      ]
     },
     "execution_count": 71,
     "metadata": {},
     "output_type": "execute_result"
    }
   ],
   "source": [
    "data.columns = ['고객번호', '영수증번호', '제휴사', '점포코드', '채널구분', '이용일자', '방문일자', '이용시간', '이용금액', '성별', '연령대', '거주지분류대코드']\n",
    "data.head()"
   ]
  },
  {
   "cell_type": "code",
   "execution_count": 19,
   "id": "156875d0",
   "metadata": {},
   "outputs": [],
   "source": [
    "data.to_csv(\"./data/cop_u.csv\", index = False, encoding='utf-8')"
   ]
  },
  {
   "cell_type": "markdown",
   "id": "8350d224",
   "metadata": {},
   "source": [
    "# 데이터 분석\n",
    "점포코드(br_c)에 50개 정도 결측치 존재."
   ]
  },
  {
   "cell_type": "code",
   "execution_count": 6,
   "id": "569ba4cb",
   "metadata": {},
   "outputs": [],
   "source": [
    "data = pd.read_csv('./data/cop_u.csv', encoding='utf-8')"
   ]
  },
  {
   "cell_type": "code",
   "execution_count": 7,
   "id": "db6cf009",
   "metadata": {},
   "outputs": [
    {
     "data": {
      "text/html": [
       "<div>\n",
       "<style scoped>\n",
       "    .dataframe tbody tr th:only-of-type {\n",
       "        vertical-align: middle;\n",
       "    }\n",
       "\n",
       "    .dataframe tbody tr th {\n",
       "        vertical-align: top;\n",
       "    }\n",
       "\n",
       "    .dataframe thead th {\n",
       "        text-align: right;\n",
       "    }\n",
       "</style>\n",
       "<table border=\"1\" class=\"dataframe\">\n",
       "  <thead>\n",
       "    <tr style=\"text-align: right;\">\n",
       "      <th></th>\n",
       "      <th>고객번호</th>\n",
       "      <th>영수증번호</th>\n",
       "      <th>제휴사</th>\n",
       "      <th>점포코드</th>\n",
       "      <th>채널구분</th>\n",
       "      <th>이용일자</th>\n",
       "      <th>방문일자</th>\n",
       "      <th>이용시간</th>\n",
       "      <th>이용금액</th>\n",
       "      <th>성별</th>\n",
       "      <th>연령대</th>\n",
       "      <th>거주지분류대코드</th>\n",
       "    </tr>\n",
       "  </thead>\n",
       "  <tbody>\n",
       "    <tr>\n",
       "      <th>0</th>\n",
       "      <td>M839993508</td>\n",
       "      <td>21102612B015763935</td>\n",
       "      <td>B01</td>\n",
       "      <td>B010012</td>\n",
       "      <td>1</td>\n",
       "      <td>20211026</td>\n",
       "      <td>20211026</td>\n",
       "      <td>12</td>\n",
       "      <td>60000</td>\n",
       "      <td>남성</td>\n",
       "      <td>70대</td>\n",
       "      <td>Z17</td>\n",
       "    </tr>\n",
       "    <tr>\n",
       "      <th>1</th>\n",
       "      <td>M839993508</td>\n",
       "      <td>21110610B014219744</td>\n",
       "      <td>B01</td>\n",
       "      <td>B010012</td>\n",
       "      <td>1</td>\n",
       "      <td>20211106</td>\n",
       "      <td>20211106</td>\n",
       "      <td>10</td>\n",
       "      <td>17100</td>\n",
       "      <td>남성</td>\n",
       "      <td>70대</td>\n",
       "      <td>Z17</td>\n",
       "    </tr>\n",
       "    <tr>\n",
       "      <th>2</th>\n",
       "      <td>M839993508</td>\n",
       "      <td>21021112B013419710</td>\n",
       "      <td>B01</td>\n",
       "      <td>B010012</td>\n",
       "      <td>1</td>\n",
       "      <td>20210211</td>\n",
       "      <td>20210211</td>\n",
       "      <td>12</td>\n",
       "      <td>136500</td>\n",
       "      <td>남성</td>\n",
       "      <td>70대</td>\n",
       "      <td>Z17</td>\n",
       "    </tr>\n",
       "    <tr>\n",
       "      <th>3</th>\n",
       "      <td>M839993508</td>\n",
       "      <td>21092010B012637545</td>\n",
       "      <td>B01</td>\n",
       "      <td>B010012</td>\n",
       "      <td>1</td>\n",
       "      <td>20210920</td>\n",
       "      <td>20210920</td>\n",
       "      <td>10</td>\n",
       "      <td>34200</td>\n",
       "      <td>남성</td>\n",
       "      <td>70대</td>\n",
       "      <td>Z17</td>\n",
       "    </tr>\n",
       "    <tr>\n",
       "      <th>4</th>\n",
       "      <td>M839993508</td>\n",
       "      <td>21101009D015920171</td>\n",
       "      <td>D01</td>\n",
       "      <td>D010614</td>\n",
       "      <td>1</td>\n",
       "      <td>20211010</td>\n",
       "      <td>20211010</td>\n",
       "      <td>9</td>\n",
       "      <td>2500</td>\n",
       "      <td>남성</td>\n",
       "      <td>70대</td>\n",
       "      <td>Z17</td>\n",
       "    </tr>\n",
       "  </tbody>\n",
       "</table>\n",
       "</div>"
      ],
      "text/plain": [
       "         고객번호               영수증번호  제휴사     점포코드  채널구분      이용일자      방문일자  \\\n",
       "0  M839993508  21102612B015763935  B01  B010012     1  20211026  20211026   \n",
       "1  M839993508  21110610B014219744  B01  B010012     1  20211106  20211106   \n",
       "2  M839993508  21021112B013419710  B01  B010012     1  20210211  20210211   \n",
       "3  M839993508  21092010B012637545  B01  B010012     1  20210920  20210920   \n",
       "4  M839993508  21101009D015920171  D01  D010614     1  20211010  20211010   \n",
       "\n",
       "   이용시간    이용금액  성별  연령대 거주지분류대코드  \n",
       "0    12   60000  남성  70대      Z17  \n",
       "1    10   17100  남성  70대      Z17  \n",
       "2    12  136500  남성  70대      Z17  \n",
       "3    10   34200  남성  70대      Z17  \n",
       "4     9    2500  남성  70대      Z17  "
      ]
     },
     "execution_count": 7,
     "metadata": {},
     "output_type": "execute_result"
    }
   ],
   "source": [
    "data.head()"
   ]
  },
  {
   "cell_type": "code",
   "execution_count": 33,
   "id": "ac502233",
   "metadata": {},
   "outputs": [
    {
     "data": {
      "text/html": [
       "<div>\n",
       "<style scoped>\n",
       "    .dataframe tbody tr th:only-of-type {\n",
       "        vertical-align: middle;\n",
       "    }\n",
       "\n",
       "    .dataframe tbody tr th {\n",
       "        vertical-align: top;\n",
       "    }\n",
       "\n",
       "    .dataframe thead th {\n",
       "        text-align: right;\n",
       "    }\n",
       "</style>\n",
       "<table border=\"1\" class=\"dataframe\">\n",
       "  <thead>\n",
       "    <tr style=\"text-align: right;\">\n",
       "      <th></th>\n",
       "      <th>고객번호</th>\n",
       "      <th>영수증번호</th>\n",
       "      <th>제휴사</th>\n",
       "      <th>점포코드</th>\n",
       "      <th>채널구분</th>\n",
       "      <th>이용일자</th>\n",
       "      <th>방문일자</th>\n",
       "      <th>이용시간</th>\n",
       "      <th>이용금액</th>\n",
       "      <th>성별</th>\n",
       "      <th>연령대</th>\n",
       "      <th>거주지분류대코드</th>\n",
       "    </tr>\n",
       "  </thead>\n",
       "  <tbody>\n",
       "    <tr>\n",
       "      <th>248299</th>\n",
       "      <td>M058650684</td>\n",
       "      <td>21111614C021426818</td>\n",
       "      <td>C02</td>\n",
       "      <td>C020002</td>\n",
       "      <td>1</td>\n",
       "      <td>20211116</td>\n",
       "      <td>20211116</td>\n",
       "      <td>14</td>\n",
       "      <td>2000</td>\n",
       "      <td>여성</td>\n",
       "      <td>20대</td>\n",
       "      <td>Z10</td>\n",
       "    </tr>\n",
       "    <tr>\n",
       "      <th>248300</th>\n",
       "      <td>M058650684</td>\n",
       "      <td>21111619C023223432</td>\n",
       "      <td>C02</td>\n",
       "      <td>C020002</td>\n",
       "      <td>1</td>\n",
       "      <td>20211116</td>\n",
       "      <td>20211116</td>\n",
       "      <td>19</td>\n",
       "      <td>26900</td>\n",
       "      <td>여성</td>\n",
       "      <td>20대</td>\n",
       "      <td>Z10</td>\n",
       "    </tr>\n",
       "    <tr>\n",
       "      <th>248301</th>\n",
       "      <td>M014154595</td>\n",
       "      <td>21121209C015324520</td>\n",
       "      <td>C01</td>\n",
       "      <td>C010087</td>\n",
       "      <td>2</td>\n",
       "      <td>20211212</td>\n",
       "      <td>20211212</td>\n",
       "      <td>9</td>\n",
       "      <td>2000</td>\n",
       "      <td>여성</td>\n",
       "      <td>30대</td>\n",
       "      <td>Z12</td>\n",
       "    </tr>\n",
       "    <tr>\n",
       "      <th>248302</th>\n",
       "      <td>M510878172</td>\n",
       "      <td>21112719C013369102</td>\n",
       "      <td>C01</td>\n",
       "      <td>C010007</td>\n",
       "      <td>2</td>\n",
       "      <td>20211127</td>\n",
       "      <td>20211127</td>\n",
       "      <td>19</td>\n",
       "      <td>6000</td>\n",
       "      <td>남성</td>\n",
       "      <td>20대</td>\n",
       "      <td>Z17</td>\n",
       "    </tr>\n",
       "    <tr>\n",
       "      <th>248303</th>\n",
       "      <td>M761634870</td>\n",
       "      <td>21122419C013829696</td>\n",
       "      <td>C01</td>\n",
       "      <td>C010014</td>\n",
       "      <td>2</td>\n",
       "      <td>20211224</td>\n",
       "      <td>20211225</td>\n",
       "      <td>19</td>\n",
       "      <td>28000</td>\n",
       "      <td>남성</td>\n",
       "      <td>30대</td>\n",
       "      <td>Z17</td>\n",
       "    </tr>\n",
       "  </tbody>\n",
       "</table>\n",
       "</div>"
      ],
      "text/plain": [
       "              고객번호               영수증번호  제휴사     점포코드  채널구분      이용일자  \\\n",
       "248299  M058650684  21111614C021426818  C02  C020002     1  20211116   \n",
       "248300  M058650684  21111619C023223432  C02  C020002     1  20211116   \n",
       "248301  M014154595  21121209C015324520  C01  C010087     2  20211212   \n",
       "248302  M510878172  21112719C013369102  C01  C010007     2  20211127   \n",
       "248303  M761634870  21122419C013829696  C01  C010014     2  20211224   \n",
       "\n",
       "            방문일자  이용시간   이용금액  성별  연령대 거주지분류대코드  \n",
       "248299  20211116    14   2000  여성  20대      Z10  \n",
       "248300  20211116    19  26900  여성  20대      Z10  \n",
       "248301  20211212     9   2000  여성  30대      Z12  \n",
       "248302  20211127    19   6000  남성  20대      Z17  \n",
       "248303  20211225    19  28000  남성  30대      Z17  "
      ]
     },
     "execution_count": 33,
     "metadata": {},
     "output_type": "execute_result"
    }
   ],
   "source": [
    "data.tail()"
   ]
  },
  {
   "cell_type": "code",
   "execution_count": 70,
   "id": "1d2b2208",
   "metadata": {},
   "outputs": [
    {
     "name": "stdout",
     "output_type": "stream",
     "text": [
      "<class 'pandas.core.frame.DataFrame'>\n",
      "RangeIndex: 248304 entries, 0 to 248303\n",
      "Data columns (total 12 columns):\n",
      " #   Column    Non-Null Count   Dtype \n",
      "---  ------    --------------   ----- \n",
      " 0   고객번호      248304 non-null  object\n",
      " 1   영수증번호     248304 non-null  object\n",
      " 2   제휴사       248304 non-null  object\n",
      " 3   점포코드      248249 non-null  object\n",
      " 4   채널구분      248304 non-null  int64 \n",
      " 5   이용일자      248304 non-null  int64 \n",
      " 6   방문일자      248304 non-null  int64 \n",
      " 7   이용시간      248304 non-null  int64 \n",
      " 8   이용금액      248304 non-null  int64 \n",
      " 9   성별        248304 non-null  object\n",
      " 10  연령대       248304 non-null  object\n",
      " 11  거주지분류대코드  248304 non-null  object\n",
      "dtypes: int64(5), object(7)\n",
      "memory usage: 22.7+ MB\n"
     ]
    }
   ],
   "source": [
    "data.info()"
   ]
  },
  {
   "cell_type": "code",
   "execution_count": 32,
   "id": "384d512c",
   "metadata": {},
   "outputs": [
    {
     "name": "stdout",
     "output_type": "stream",
     "text": [
      "방문일자, 이용일자가 다른 행 개수: 15572\n",
      "(array([     0,      1,      2, ..., 248300, 248301, 248302], dtype=int64),)\n"
     ]
    }
   ],
   "source": [
    "## 방문일자와 이용일자 같은지 비교\n",
    "print('방문일자, 이용일자가 다른 행 개수:', len(data) - sum(data.방문일자 == data.이용일자))\n",
    "print(np.where(data.방문일자 == data.이용일자))"
   ]
  },
  {
   "cell_type": "markdown",
   "id": "17fc70e7",
   "metadata": {},
   "source": [
    "## 단순 시각화"
   ]
  },
  {
   "cell_type": "code",
   "execution_count": 23,
   "id": "20e53497",
   "metadata": {},
   "outputs": [],
   "source": [
    "import matplotlib.pyplot as plt\n",
    "import seaborn as sns"
   ]
  },
  {
   "cell_type": "code",
   "execution_count": 36,
   "id": "d95b58ce",
   "metadata": {},
   "outputs": [
    {
     "data": {
      "image/png": "[encoded data removed]",
      "text/plain": [
       "<Figure size 864x432 with 1 Axes>"
      ]
     },
     "metadata": {},
     "output_type": "display_data"
    }
   ],
   "source": [
    "## 성별에 따른 구매금액 비교\n",
    "plt.figure(figsize=(12,6))\n",
    "x = data.groupby(by='성별').sum().index\n",
    "y = data.groupby(by='성별').sum()['이용금액']\n",
    "\n",
    "plt.rcParams['font.family'] = 'Malgun Gothic'\n",
    "plt.title('gender vs customer')\n",
    "plt.xlabel('gender')\n",
    "plt.ylabel('customer')\n",
    "plt.pie(y, labels=x.values, autopct = '%.1f%%')\n",
    "plt.legend(loc='best')\n",
    "plt.show()"
   ]
  },
  {
   "cell_type": "markdown",
   "id": "82fe21b9",
   "metadata": {},
   "source": [
    "# 군집분석\n",
    "## 필요한 라이브러리 불러오기"
   ]
  },
  {
   "cell_type": "code",
   "execution_count": 13,
   "id": "f3c93bc2",
   "metadata": {},
   "outputs": [],
   "source": [
    "import sqlite3\n",
    "import pandas as pd\n",
    "import numpy as np\n",
    "\n",
    "import os\n",
    "import matplotlib.pyplot as plt\n",
    "import seaborn as sns\n",
    "import plotnine\n",
    "\n",
    "from sklearn.preprocessing import MinMaxScaler\n",
    "from kmodes.kprototypes import KPrototypes\n",
    "\n",
    "import time\n",
    "from ipypb import ipb\n",
    "from tqdm import tqdm_notebook"
   ]
  },
  {
   "cell_type": "markdown",
   "id": "30649a37",
   "metadata": {},
   "source": [
    "## 데이터 전처리"
   ]
  },
  {
   "cell_type": "code",
   "execution_count": 11,
   "id": "c243b9f7",
   "metadata": {},
   "outputs": [
    {
     "name": "stdout",
     "output_type": "stream",
     "text": [
      "<class 'pandas.core.frame.DataFrame'>\n",
      "RangeIndex: 248304 entries, 0 to 248303\n",
      "Data columns (total 13 columns):\n",
      " #   Column    Non-Null Count   Dtype \n",
      "---  ------    --------------   ----- \n",
      " 0   고객번호      248304 non-null  object\n",
      " 1   영수증번호     248304 non-null  object\n",
      " 2   제휴사       248304 non-null  object\n",
      " 3   점포코드      248249 non-null  object\n",
      " 4   채널구분      248304 non-null  int64 \n",
      " 5   이용일자      248304 non-null  int64 \n",
      " 6   방문일자      248304 non-null  int64 \n",
      " 7   이용시간      248304 non-null  int64 \n",
      " 8   이용금액      248304 non-null  int64 \n",
      " 9   성별        248304 non-null  object\n",
      " 10  연령대       248304 non-null  object\n",
      " 11  거주지분류대코드  248304 non-null  object\n",
      " 12  구매월       248304 non-null  object\n",
      "dtypes: int64(5), object(8)\n",
      "memory usage: 24.6+ MB\n"
     ]
    }
   ],
   "source": [
    "data.info()"
   ]
  },
  {
   "cell_type": "markdown",
   "id": "0696336b",
   "metadata": {},
   "source": [
    "### 구매월 변수 추가"
   ]
  },
  {
   "cell_type": "code",
   "execution_count": 10,
   "id": "85bb2c44",
   "metadata": {},
   "outputs": [
    {
     "data": {
      "text/html": [
       "<div>\n",
       "<style scoped>\n",
       "    .dataframe tbody tr th:only-of-type {\n",
       "        vertical-align: middle;\n",
       "    }\n",
       "\n",
       "    .dataframe tbody tr th {\n",
       "        vertical-align: top;\n",
       "    }\n",
       "\n",
       "    .dataframe thead th {\n",
       "        text-align: right;\n",
       "    }\n",
       "</style>\n",
       "<table border=\"1\" class=\"dataframe\">\n",
       "  <thead>\n",
       "    <tr style=\"text-align: right;\">\n",
       "      <th></th>\n",
       "      <th>고객번호</th>\n",
       "      <th>영수증번호</th>\n",
       "      <th>제휴사</th>\n",
       "      <th>점포코드</th>\n",
       "      <th>채널구분</th>\n",
       "      <th>이용일자</th>\n",
       "      <th>방문일자</th>\n",
       "      <th>이용시간</th>\n",
       "      <th>이용금액</th>\n",
       "      <th>성별</th>\n",
       "      <th>연령대</th>\n",
       "      <th>거주지분류대코드</th>\n",
       "      <th>구매월</th>\n",
       "    </tr>\n",
       "  </thead>\n",
       "  <tbody>\n",
       "    <tr>\n",
       "      <th>0</th>\n",
       "      <td>M839993508</td>\n",
       "      <td>21102612B015763935</td>\n",
       "      <td>B01</td>\n",
       "      <td>B010012</td>\n",
       "      <td>1</td>\n",
       "      <td>20211026</td>\n",
       "      <td>20211026</td>\n",
       "      <td>12</td>\n",
       "      <td>60000</td>\n",
       "      <td>남성</td>\n",
       "      <td>70대</td>\n",
       "      <td>Z17</td>\n",
       "      <td>10월</td>\n",
       "    </tr>\n",
       "    <tr>\n",
       "      <th>1</th>\n",
       "      <td>M839993508</td>\n",
       "      <td>21110610B014219744</td>\n",
       "      <td>B01</td>\n",
       "      <td>B010012</td>\n",
       "      <td>1</td>\n",
       "      <td>20211106</td>\n",
       "      <td>20211106</td>\n",
       "      <td>10</td>\n",
       "      <td>17100</td>\n",
       "      <td>남성</td>\n",
       "      <td>70대</td>\n",
       "      <td>Z17</td>\n",
       "      <td>11월</td>\n",
       "    </tr>\n",
       "    <tr>\n",
       "      <th>2</th>\n",
       "      <td>M839993508</td>\n",
       "      <td>21021112B013419710</td>\n",
       "      <td>B01</td>\n",
       "      <td>B010012</td>\n",
       "      <td>1</td>\n",
       "      <td>20210211</td>\n",
       "      <td>20210211</td>\n",
       "      <td>12</td>\n",
       "      <td>136500</td>\n",
       "      <td>남성</td>\n",
       "      <td>70대</td>\n",
       "      <td>Z17</td>\n",
       "      <td>02월</td>\n",
       "    </tr>\n",
       "    <tr>\n",
       "      <th>3</th>\n",
       "      <td>M839993508</td>\n",
       "      <td>21092010B012637545</td>\n",
       "      <td>B01</td>\n",
       "      <td>B010012</td>\n",
       "      <td>1</td>\n",
       "      <td>20210920</td>\n",
       "      <td>20210920</td>\n",
       "      <td>10</td>\n",
       "      <td>34200</td>\n",
       "      <td>남성</td>\n",
       "      <td>70대</td>\n",
       "      <td>Z17</td>\n",
       "      <td>09월</td>\n",
       "    </tr>\n",
       "    <tr>\n",
       "      <th>4</th>\n",
       "      <td>M839993508</td>\n",
       "      <td>21101009D015920171</td>\n",
       "      <td>D01</td>\n",
       "      <td>D010614</td>\n",
       "      <td>1</td>\n",
       "      <td>20211010</td>\n",
       "      <td>20211010</td>\n",
       "      <td>9</td>\n",
       "      <td>2500</td>\n",
       "      <td>남성</td>\n",
       "      <td>70대</td>\n",
       "      <td>Z17</td>\n",
       "      <td>10월</td>\n",
       "    </tr>\n",
       "  </tbody>\n",
       "</table>\n",
       "</div>"
      ],
      "text/plain": [
       "         고객번호               영수증번호  제휴사     점포코드  채널구분      이용일자      방문일자  \\\n",
       "0  M839993508  21102612B015763935  B01  B010012     1  20211026  20211026   \n",
       "1  M839993508  21110610B014219744  B01  B010012     1  20211106  20211106   \n",
       "2  M839993508  21021112B013419710  B01  B010012     1  20210211  20210211   \n",
       "3  M839993508  21092010B012637545  B01  B010012     1  20210920  20210920   \n",
       "4  M839993508  21101009D015920171  D01  D010614     1  20211010  20211010   \n",
       "\n",
       "   이용시간    이용금액  성별  연령대 거주지분류대코드  구매월  \n",
       "0    12   60000  남성  70대      Z17  10월  \n",
       "1    10   17100  남성  70대      Z17  11월  \n",
       "2    12  136500  남성  70대      Z17  02월  \n",
       "3    10   34200  남성  70대      Z17  09월  \n",
       "4     9    2500  남성  70대      Z17  10월  "
      ]
     },
     "execution_count": 10,
     "metadata": {},
     "output_type": "execute_result"
    }
   ],
   "source": [
    "data['구매월'] = data['이용일자'].map(lambda x: str(x)[4:6]+'월')\n",
    "data.head()"
   ]
  },
  {
   "cell_type": "markdown",
   "id": "1bd46f64",
   "metadata": {},
   "source": [
    "### 변수 스케일링"
   ]
  },
  {
   "cell_type": "code",
   "execution_count": 15,
   "id": "32b68b00",
   "metadata": {},
   "outputs": [],
   "source": [
    "## 기존 수치형 변수에 대해서\n",
    "scaled_X = MinMaxScaler().fit_transform(data[['이용일자', '이용시간', '이용금액']])\n",
    "data[['이용일자', '이용시간', '이용금액']] = scaled_X"
   ]
  },
  {
   "cell_type": "markdown",
   "id": "10cc6d9c",
   "metadata": {},
   "source": [
    "### 범주형 변수 확인"
   ]
  },
  {
   "cell_type": "code",
   "execution_count": 19,
   "id": "19651a3f",
   "metadata": {},
   "outputs": [
    {
     "name": "stdout",
     "output_type": "stream",
     "text": [
      "Categorical columns ['고객번호', '영수증번호', '제휴사', '점포코드', '성별', '연령대', '거주지분류대코드', '구매월']\n",
      "Categorical columns position : [0, 1, 2, 3, 9, 10, 11, 12]\n"
     ]
    }
   ],
   "source": [
    "catcol = [data.columns.get_loc(col) for col in list(data.select_dtypes('object').columns)]\n",
    "print('Categorical columns {}'.format(list(data.select_dtypes('object').columns)))\n",
    "print('Categorical columns position : {}'.format(catcol))"
   ]
  },
  {
   "cell_type": "markdown",
   "id": "08e7181b",
   "metadata": {},
   "source": [
    "### 데이터프레임을 행렬 형태로 전환"
   ]
  },
  {
   "cell_type": "code",
   "execution_count": 20,
   "id": "68370524",
   "metadata": {},
   "outputs": [
    {
     "data": {
      "text/plain": [
       "array([['M839993508', '21102612B015763935', 'B01', ..., '70대', 'Z17',\n",
       "        '10월'],\n",
       "       ['M839993508', '21110610B014219744', 'B01', ..., '70대', 'Z17',\n",
       "        '11월'],\n",
       "       ['M839993508', '21021112B013419710', 'B01', ..., '70대', 'Z17',\n",
       "        '02월'],\n",
       "       ...,\n",
       "       ['M014154595', '21121209C015324520', 'C01', ..., '30대', 'Z12',\n",
       "        '12월'],\n",
       "       ['M510878172', '21112719C013369102', 'C01', ..., '20대', 'Z17',\n",
       "        '11월'],\n",
       "       ['M761634870', '21122419C013829696', 'C01', ..., '30대', 'Z17',\n",
       "        '12월']], dtype=object)"
      ]
     },
     "execution_count": 20,
     "metadata": {},
     "output_type": "execute_result"
    }
   ],
   "source": [
    "dfTomatrix = data.to_numpy()\n",
    "dfTomatrix"
   ]
  },
  {
   "cell_type": "markdown",
   "id": "dcb9b6db",
   "metadata": {},
   "source": [
    "## 군집분석\n",
    "Elbow Method : Cluster 간의 거리의 합을 나타내는 값이 급격히 떨어지는 구간을 군집 개수로 설정"
   ]
  },
  {
   "cell_type": "code",
   "execution_count": 22,
   "id": "1fb4cdbc",
   "metadata": {},
   "outputs": [
    {
     "data": {
      "text/html": [
       "<div><span class=\"Text-label\" style=\"display:inline-block; overflow:hidden; white-space:nowrap; text-overflow:ellipsis; min-width:0; max-width:15ex; vertical-align:middle; text-align:right\"></span>\n",
       "<progress style=\"width:60ex\" max=\"6\" value=\"0\" class=\"Progress-main\"/></progress>\n",
       "<span class=\"Progress-label\"><strong>0%</strong></span>\n",
       "<span class=\"Iteration-label\">0/6</span>\n",
       "<span class=\"Time-label\">[0<0, 0.00s/it]</span></div>"
      ],
      "text/plain": [
       "\u001b[2K\r",
       " [############################################################] 0/6 [0<0, 0.00s/it]"
      ]
     },
     "metadata": {},
     "output_type": "display_data"
    }
   ],
   "source": [
    "# Choose optimal K using Elbow method\n",
    "cost = []\n",
    "for cluster in ipb(range(1, 7)):\n",
    "    try:\n",
    "        kprototype = KPrototypes(n_jobs = -1, max_iter = 50, n_clusters = cluster, init = 'Huang',\n",
    "                                 random_state = 0, verbose = True)\n",
    "        kprototype.fit_predict(dfTomatrix, categorical = catcol)\n",
    "        cost.append(kprototype.cost_)\n",
    "        print('Cluster initiation: {}'.format(cluster))\n",
    "    except:\n",
    "        break\n",
    "    time.sleep(0.1)"
   ]
  },
  {
   "cell_type": "markdown",
   "id": "89850638",
   "metadata": {},
   "source": [
    "## 군집분석 시각화"
   ]
  },
  {
   "cell_type": "code",
   "execution_count": null,
   "id": "3f6b627c",
   "metadata": {},
   "outputs": [],
   "source": [
    "# Elbow 메소드 시각화\n",
    "# Converting the results into a dataframe and plotting them\n",
    "df_cost = pd.DataFrame({'Cluster':range(1, 7), 'Cost':cost})\n",
    "# Data viz\n",
    "plotnine.options.figure_size = (8, 4.8)\n",
    "(\n",
    "    ggplot(data = df_cost)+\n",
    "    geom_line(aes(x = 'Cluster',\n",
    "                  y = 'Cost'))+\n",
    "    geom_point(aes(x = 'Cluster',\n",
    "                   y = 'Cost'))+\n",
    "    geom_label(aes(x = 'Cluster',\n",
    "                   y = 'Cost',\n",
    "                   label = 'Cluster'),\n",
    "               size = 10,\n",
    "               nudge_y = 1000) +\n",
    "    labs(title = 'Optimal number of cluster with Elbow Method')+\n",
    "    xlab('Number of Clusters k')+\n",
    "    ylab('Cost')+\n",
    "    theme_minimal()\n",
    ")"
   ]
  },
  {
   "cell_type": "code",
   "execution_count": null,
   "id": "f3f3439c",
   "metadata": {},
   "outputs": [],
   "source": [
    "from sklearn.cluster import KMeans\n"
   ]
  }
 ],
 "metadata": {
  "kernelspec": {
   "display_name": "Python 3 (ipykernel)",
   "language": "python",
   "name": "python3"
  },
  "language_info": {
   "codemirror_mode": {
    "name": "ipython",
    "version": 3
   },
   "file_extension": ".py",
   "mimetype": "text/x-python",
   "name": "python",
   "nbconvert_exporter": "python",
   "pygments_lexer": "ipython3",
   "version": "3.8.8"
  },
  "toc": {
   "base_numbering": 1,
   "nav_menu": {},
   "number_sections": true,
   "sideBar": true,
   "skip_h1_title": false,
   "title_cell": "Table of Contents",
   "title_sidebar": "Contents",
   "toc_cell": false,
   "toc_position": {
    "height": "calc(100% - 180px)",
    "left": "10px",
    "top": "150px",
    "width": "218.021px"
   },
   "toc_section_display": true,
   "toc_window_display": true
  }
 },
 "nbformat": 4,
 "nbformat_minor": 5
}
