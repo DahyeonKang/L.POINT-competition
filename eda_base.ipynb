{
 "cells": [
  {
   "cell_type": "markdown",
   "id": "e7483c6b",
   "metadata": {},
   "source": [
    "# EDA\n",
    "## 1. 데이터 불러오기"
   ]
  },
  {
   "cell_type": "code",
   "execution_count": 2,
   "id": "412b354f",
   "metadata": {},
   "outputs": [],
   "source": [
    "import pandas as pd\n",
    "import numpy as np"
   ]
  },
  {
   "cell_type": "code",
   "execution_count": 3,
   "id": "2db83d82",
   "metadata": {},
   "outputs": [
    {
     "name": "stderr",
     "output_type": "stream",
     "text": [
      "<ipython-input-3-4859a2928da7>:2: DtypeWarning: Columns (4) have mixed types. Specify dtype option on import or set low_memory=False.\n",
      "  pdde = pd.read_csv(\"./data/LPOINT_BIG_COMP_02_PDDE.csv\")\n"
     ]
    }
   ],
   "source": [
    "demo = pd.read_csv(\"./data/LPOINT_BIG_COMP_01_DEMO.csv\")\n",
    "pdde = pd.read_csv(\"./data/LPOINT_BIG_COMP_02_PDDE.csv\")\n",
    "cop_u = pd.read_csv(\"./data/LPOINT_BIG_COMP_03_COP_U.csv\")\n",
    "pd_clac = pd.read_csv(\"./data/LPOINT_BIG_COMP_04_PD_CLAC.csv\")\n",
    "br = pd.read_csv(\"./data/LPOINT_BIG_COMP_05_BR.csv\")\n",
    "lpay = pd.read_csv(\"./data/LPOINT_BIG_COMP_06_LPAY.csv\")"
   ]
  },
  {
   "cell_type": "markdown",
   "id": "1e707c6e",
   "metadata": {},
   "source": [
    "### 결측치 확인\n",
    "- __pdde__ > br_c 약 40만개 결측\n",
    "- __cop_u__ > br_c 55개 결측"
   ]
  },
  {
   "cell_type": "code",
   "execution_count": 3,
   "id": "481bb62e",
   "metadata": {},
   "outputs": [
    {
     "name": "stdout",
     "output_type": "stream",
     "text": [
      "<class 'pandas.core.frame.DataFrame'>\n",
      "RangeIndex: 29913 entries, 0 to 29912\n",
      "Data columns (total 4 columns):\n",
      " #   Column     Non-Null Count  Dtype \n",
      "---  ------     --------------  ----- \n",
      " 0   cust       29913 non-null  object\n",
      " 1   ma_fem_dv  29913 non-null  object\n",
      " 2   ages       29913 non-null  object\n",
      " 3   zon_hlv    29913 non-null  object\n",
      "dtypes: object(4)\n",
      "memory usage: 934.9+ KB\n"
     ]
    }
   ],
   "source": [
    "demo.info()"
   ]
  },
  {
   "cell_type": "code",
   "execution_count": 4,
   "id": "b21a65a5",
   "metadata": {},
   "outputs": [
    {
     "name": "stdout",
     "output_type": "stream",
     "text": [
      "<class 'pandas.core.frame.DataFrame'>\n",
      "RangeIndex: 4381743 entries, 0 to 4381742\n",
      "Data columns (total 10 columns):\n",
      " #   Column   Non-Null Count    Dtype  \n",
      "---  ------   --------------    -----  \n",
      " 0   cust     4381743 non-null  object \n",
      " 1   rct_no   4381743 non-null  object \n",
      " 2   chnl_dv  4381743 non-null  int64  \n",
      " 3   cop_c    4381743 non-null  object \n",
      " 4   br_c     3953242 non-null  object \n",
      " 5   pd_c     4381743 non-null  object \n",
      " 6   de_dt    4381743 non-null  int64  \n",
      " 7   de_hr    4381743 non-null  int64  \n",
      " 8   buy_am   4381743 non-null  float64\n",
      " 9   buy_ct   4381743 non-null  int64  \n",
      "dtypes: float64(1), int64(4), object(5)\n",
      "memory usage: 334.3+ MB\n"
     ]
    }
   ],
   "source": [
    "pdde.info(show_counts=True)  # info()로 Non-Null Count가 보이지 않음"
   ]
  },
  {
   "cell_type": "code",
   "execution_count": 5,
   "id": "add8b021",
   "metadata": {},
   "outputs": [
    {
     "name": "stdout",
     "output_type": "stream",
     "text": [
      "<class 'pandas.core.frame.DataFrame'>\n",
      "RangeIndex: 248304 entries, 0 to 248303\n",
      "Data columns (total 9 columns):\n",
      " #   Column   Non-Null Count   Dtype \n",
      "---  ------   --------------   ----- \n",
      " 0   cust     248304 non-null  object\n",
      " 1   rct_no   248304 non-null  object\n",
      " 2   cop_c    248304 non-null  object\n",
      " 3   br_c     248249 non-null  object\n",
      " 4   chnl_dv  248304 non-null  int64 \n",
      " 5   de_dt    248304 non-null  int64 \n",
      " 6   vst_dt   248304 non-null  int64 \n",
      " 7   de_hr    248304 non-null  int64 \n",
      " 8   buy_am   248304 non-null  int64 \n",
      "dtypes: int64(5), object(4)\n",
      "memory usage: 17.0+ MB\n"
     ]
    }
   ],
   "source": [
    "cop_u.info()"
   ]
  },
  {
   "cell_type": "code",
   "execution_count": 6,
   "id": "cc5a5deb",
   "metadata": {
    "scrolled": true
   },
   "outputs": [
    {
     "name": "stdout",
     "output_type": "stream",
     "text": [
      "<class 'pandas.core.frame.DataFrame'>\n",
      "RangeIndex: 1933 entries, 0 to 1932\n",
      "Data columns (total 4 columns):\n",
      " #   Column        Non-Null Count  Dtype \n",
      "---  ------        --------------  ----- \n",
      " 0   pd_c          1933 non-null   object\n",
      " 1   pd_nm         1933 non-null   object\n",
      " 2   clac_hlv_nm   1933 non-null   object\n",
      " 3   clac_mcls_nm  1933 non-null   object\n",
      "dtypes: object(4)\n",
      "memory usage: 60.5+ KB\n"
     ]
    }
   ],
   "source": [
    "pd_clac.info()"
   ]
  },
  {
   "cell_type": "code",
   "execution_count": 7,
   "id": "6f277c99",
   "metadata": {},
   "outputs": [
    {
     "name": "stdout",
     "output_type": "stream",
     "text": [
      "<class 'pandas.core.frame.DataFrame'>\n",
      "RangeIndex: 8808 entries, 0 to 8807\n",
      "Data columns (total 4 columns):\n",
      " #   Column    Non-Null Count  Dtype \n",
      "---  ------    --------------  ----- \n",
      " 0   br_c      8808 non-null   object\n",
      " 1   cop_c     8808 non-null   object\n",
      " 2   zon_hlv   8808 non-null   object\n",
      " 3   zon_mcls  8808 non-null   object\n",
      "dtypes: object(4)\n",
      "memory usage: 275.4+ KB\n"
     ]
    }
   ],
   "source": [
    "br.info()"
   ]
  },
  {
   "cell_type": "code",
   "execution_count": 8,
   "id": "e11bedb6",
   "metadata": {},
   "outputs": [
    {
     "name": "stdout",
     "output_type": "stream",
     "text": [
      "<class 'pandas.core.frame.DataFrame'>\n",
      "RangeIndex: 353184 entries, 0 to 353183\n",
      "Data columns (total 7 columns):\n",
      " #   Column   Non-Null Count   Dtype \n",
      "---  ------   --------------   ----- \n",
      " 0   cust     353184 non-null  object\n",
      " 1   rct_no   353184 non-null  int64 \n",
      " 2   cop_c    353184 non-null  object\n",
      " 3   chnl_dv  353184 non-null  int64 \n",
      " 4   de_dt    353184 non-null  int64 \n",
      " 5   de_hr    353184 non-null  int64 \n",
      " 6   buy_am   353184 non-null  int64 \n",
      "dtypes: int64(5), object(2)\n",
      "memory usage: 18.9+ MB\n"
     ]
    }
   ],
   "source": [
    "lpay.info()"
   ]
  },
  {
   "cell_type": "code",
   "execution_count": 17,
   "id": "00ff020f",
   "metadata": {},
   "outputs": [
    {
     "data": {
      "text/plain": [
       "428501"
      ]
     },
     "execution_count": 17,
     "metadata": {},
     "output_type": "execute_result"
    }
   ],
   "source": [
    "# pdde[pdde['br_c'].isnull()]\n",
    "len(pdde[pdde['br_c'].isnull()].index.tolist())"
   ]
  },
  {
   "cell_type": "markdown",
   "id": "3ffe3ec3",
   "metadata": {},
   "source": [
    "## 2. 데이터 시각화\n",
    "### (1) 고객 데모 정보 (demo)"
   ]
  },
  {
   "cell_type": "markdown",
   "id": "82b59198",
   "metadata": {},
   "source": [
    "총 29913명의 사용자 데이터가 있다.\n",
    "* 사용자 성별 비교 : 여성이 남성에 비해 약 2배 정도 많다.\n",
    "* 사용자 나이대 비교 : 40대까지 사용자가 많아지다가, 50대부터 급격하게 낮아진다."
   ]
  },
  {
   "cell_type": "code",
   "execution_count": 10,
   "id": "2e411079",
   "metadata": {},
   "outputs": [
    {
     "data": {
      "text/html": [
       "<div>\n",
       "<style scoped>\n",
       "    .dataframe tbody tr th:only-of-type {\n",
       "        vertical-align: middle;\n",
       "    }\n",
       "\n",
       "    .dataframe tbody tr th {\n",
       "        vertical-align: top;\n",
       "    }\n",
       "\n",
       "    .dataframe thead th {\n",
       "        text-align: right;\n",
       "    }\n",
       "</style>\n",
       "<table border=\"1\" class=\"dataframe\">\n",
       "  <thead>\n",
       "    <tr style=\"text-align: right;\">\n",
       "      <th></th>\n",
       "      <th>cust</th>\n",
       "      <th>ma_fem_dv</th>\n",
       "      <th>ages</th>\n",
       "      <th>zon_hlv</th>\n",
       "    </tr>\n",
       "  </thead>\n",
       "  <tbody>\n",
       "    <tr>\n",
       "      <th>0</th>\n",
       "      <td>M000034966</td>\n",
       "      <td>여성</td>\n",
       "      <td>40대</td>\n",
       "      <td>Z07</td>\n",
       "    </tr>\n",
       "    <tr>\n",
       "      <th>1</th>\n",
       "      <td>M000059535</td>\n",
       "      <td>여성</td>\n",
       "      <td>30대</td>\n",
       "      <td>Z12</td>\n",
       "    </tr>\n",
       "    <tr>\n",
       "      <th>2</th>\n",
       "      <td>M000136117</td>\n",
       "      <td>여성</td>\n",
       "      <td>30대</td>\n",
       "      <td>Z11</td>\n",
       "    </tr>\n",
       "    <tr>\n",
       "      <th>3</th>\n",
       "      <td>M000201112</td>\n",
       "      <td>여성</td>\n",
       "      <td>50대</td>\n",
       "      <td>Z17</td>\n",
       "    </tr>\n",
       "    <tr>\n",
       "      <th>4</th>\n",
       "      <td>M000225114</td>\n",
       "      <td>여성</td>\n",
       "      <td>40대</td>\n",
       "      <td>Z17</td>\n",
       "    </tr>\n",
       "  </tbody>\n",
       "</table>\n",
       "</div>"
      ],
      "text/plain": [
       "         cust ma_fem_dv ages zon_hlv\n",
       "0  M000034966        여성  40대     Z07\n",
       "1  M000059535        여성  30대     Z12\n",
       "2  M000136117        여성  30대     Z11\n",
       "3  M000201112        여성  50대     Z17\n",
       "4  M000225114        여성  40대     Z17"
      ]
     },
     "execution_count": 10,
     "metadata": {},
     "output_type": "execute_result"
    }
   ],
   "source": [
    "demo.head()"
   ]
  },
  {
   "cell_type": "code",
   "execution_count": 7,
   "id": "ba02f137",
   "metadata": {},
   "outputs": [],
   "source": [
    "import seaborn as sns\n",
    "import matplotlib.pyplot as plt"
   ]
  },
  {
   "cell_type": "code",
   "execution_count": 12,
   "id": "1e22780d",
   "metadata": {},
   "outputs": [],
   "source": [
    "## 폰트 리스트 확인\n",
    "# import matplotlib.font_manager as fm\n",
    "\n",
    "# font_list = [font.name for font in fm.fontManager.ttflist]\n",
    "# font_list"
   ]
  },
  {
   "cell_type": "code",
   "execution_count": 77,
   "id": "23a27a2a",
   "metadata": {},
   "outputs": [
    {
     "data": {
      "image/png": "[encoded data removed]",
      "text/plain": [
       "<Figure size 432x288 with 1 Axes>"
      ]
     },
     "metadata": {},
     "output_type": "display_data"
    }
   ],
   "source": [
    "## 사용자 성별 비교\n",
    "plt.rcParams['font.family'] = 'Malgun Gothic'  # 한글 깨짐 때문에 넣은 코드\n",
    "plt.title('사용자 성별 비교')\n",
    "sns.countplot(x='ma_fem_dv', palette='Accent', data=demo)\n",
    "plt.show()"
   ]
  },
  {
   "cell_type": "code",
   "execution_count": 34,
   "id": "ad58fa7a",
   "metadata": {},
   "outputs": [
    {
     "data": {
      "image/png": "[encoded data removed]",
      "text/plain": [
       "<Figure size 432x288 with 1 Axes>"
      ]
     },
     "metadata": {},
     "output_type": "display_data"
    }
   ],
   "source": [
    "## 사용자 연령대 비교\n",
    "bar_df = demo['ages'].value_counts().sort_index()\n",
    "bar_df.plot(kind='bar')\n",
    "plt.rcParams['font.family'] = 'Malgun Gothic'\n",
    "plt.title('사용자 연령대 비교')\n",
    "plt.xticks(rotation=0, fontsize=13)\n",
    "plt.show()"
   ]
  },
  {
   "cell_type": "code",
   "execution_count": 22,
   "id": "564c54eb",
   "metadata": {},
   "outputs": [
    {
     "data": {
      "text/plain": [
       "Z10    8157\n",
       "Z17    7881\n",
       "Z16    2503\n",
       "Z11    1840\n",
       "Z04    1750\n",
       "Z06    1080\n",
       "Z14     988\n",
       "Z13     896\n",
       "Z12     803\n",
       "Z08     739\n",
       "Z15     677\n",
       "Z09     642\n",
       "Z03     600\n",
       "Z05     576\n",
       "Z01     474\n",
       "Z07     204\n",
       "Z02     103\n",
       "Name: zon_hlv, dtype: int64"
      ]
     },
     "execution_count": 22,
     "metadata": {},
     "output_type": "execute_result"
    }
   ],
   "source": [
    "demo['zon_hlv'].value_counts()"
   ]
  },
  {
   "cell_type": "markdown",
   "id": "191daa8f",
   "metadata": {},
   "source": [
    "### (2) 상품 구매 정보 (pdde)\n",
    "br_c 변수 40만개 결측 존재.\n",
    "* 오프라인/온라인 비교 : 오프라인(1) 사용자가 온라인(2)보다 80배 많다.\n",
    "* 제휴사 별 비교 : A02에 사용자가 압도적으로 많고, A05는 거의 없다."
   ]
  },
  {
   "cell_type": "code",
   "execution_count": 16,
   "id": "7fae4cb9",
   "metadata": {},
   "outputs": [
    {
     "data": {
      "text/html": [
       "<div>\n",
       "<style scoped>\n",
       "    .dataframe tbody tr th:only-of-type {\n",
       "        vertical-align: middle;\n",
       "    }\n",
       "\n",
       "    .dataframe tbody tr th {\n",
       "        vertical-align: top;\n",
       "    }\n",
       "\n",
       "    .dataframe thead th {\n",
       "        text-align: right;\n",
       "    }\n",
       "</style>\n",
       "<table border=\"1\" class=\"dataframe\">\n",
       "  <thead>\n",
       "    <tr style=\"text-align: right;\">\n",
       "      <th></th>\n",
       "      <th>cust</th>\n",
       "      <th>rct_no</th>\n",
       "      <th>chnl_dv</th>\n",
       "      <th>cop_c</th>\n",
       "      <th>br_c</th>\n",
       "      <th>pd_c</th>\n",
       "      <th>de_dt</th>\n",
       "      <th>de_hr</th>\n",
       "      <th>buy_am</th>\n",
       "      <th>buy_ct</th>\n",
       "    </tr>\n",
       "  </thead>\n",
       "  <tbody>\n",
       "    <tr>\n",
       "      <th>0</th>\n",
       "      <td>M430112881</td>\n",
       "      <td>A01000001113</td>\n",
       "      <td>1</td>\n",
       "      <td>A01</td>\n",
       "      <td>A010039</td>\n",
       "      <td>PD0290</td>\n",
       "      <td>20210101</td>\n",
       "      <td>10</td>\n",
       "      <td>15000.0</td>\n",
       "      <td>1</td>\n",
       "    </tr>\n",
       "    <tr>\n",
       "      <th>1</th>\n",
       "      <td>M646853852</td>\n",
       "      <td>A01000002265</td>\n",
       "      <td>1</td>\n",
       "      <td>A01</td>\n",
       "      <td>A010025</td>\n",
       "      <td>PD1369</td>\n",
       "      <td>20210101</td>\n",
       "      <td>10</td>\n",
       "      <td>79700.0</td>\n",
       "      <td>1</td>\n",
       "    </tr>\n",
       "    <tr>\n",
       "      <th>2</th>\n",
       "      <td>M430112881</td>\n",
       "      <td>A01000003148</td>\n",
       "      <td>1</td>\n",
       "      <td>A01</td>\n",
       "      <td>A010039</td>\n",
       "      <td>PD0290</td>\n",
       "      <td>20210101</td>\n",
       "      <td>10</td>\n",
       "      <td>19000.0</td>\n",
       "      <td>1</td>\n",
       "    </tr>\n",
       "    <tr>\n",
       "      <th>3</th>\n",
       "      <td>M430112881</td>\n",
       "      <td>A01000003148</td>\n",
       "      <td>1</td>\n",
       "      <td>A01</td>\n",
       "      <td>A010039</td>\n",
       "      <td>PD0290</td>\n",
       "      <td>20210101</td>\n",
       "      <td>10</td>\n",
       "      <td>19000.0</td>\n",
       "      <td>1</td>\n",
       "    </tr>\n",
       "    <tr>\n",
       "      <th>4</th>\n",
       "      <td>M430112881</td>\n",
       "      <td>A01000004946</td>\n",
       "      <td>1</td>\n",
       "      <td>A01</td>\n",
       "      <td>A010039</td>\n",
       "      <td>PD0290</td>\n",
       "      <td>20210101</td>\n",
       "      <td>10</td>\n",
       "      <td>19000.0</td>\n",
       "      <td>1</td>\n",
       "    </tr>\n",
       "  </tbody>\n",
       "</table>\n",
       "</div>"
      ],
      "text/plain": [
       "         cust        rct_no  chnl_dv cop_c     br_c    pd_c     de_dt  de_hr  \\\n",
       "0  M430112881  A01000001113        1   A01  A010039  PD0290  20210101     10   \n",
       "1  M646853852  A01000002265        1   A01  A010025  PD1369  20210101     10   \n",
       "2  M430112881  A01000003148        1   A01  A010039  PD0290  20210101     10   \n",
       "3  M430112881  A01000003148        1   A01  A010039  PD0290  20210101     10   \n",
       "4  M430112881  A01000004946        1   A01  A010039  PD0290  20210101     10   \n",
       "\n",
       "    buy_am  buy_ct  \n",
       "0  15000.0       1  \n",
       "1  79700.0       1  \n",
       "2  19000.0       1  \n",
       "3  19000.0       1  \n",
       "4  19000.0       1  "
      ]
     },
     "execution_count": 16,
     "metadata": {},
     "output_type": "execute_result"
    }
   ],
   "source": [
    "pdde.head()"
   ]
  },
  {
   "cell_type": "code",
   "execution_count": 33,
   "id": "8741f6b2",
   "metadata": {},
   "outputs": [
    {
     "name": "stdout",
     "output_type": "stream",
     "text": [
      "1    3953242\n",
      "2     428501\n",
      "Name: chnl_dv, dtype: int64\n"
     ]
    },
    {
     "data": {
      "image/png": "[encoded data removed]",
      "text/plain": [
       "<Figure size 432x288 with 1 Axes>"
      ]
     },
     "metadata": {
      "needs_background": "light"
     },
     "output_type": "display_data"
    }
   ],
   "source": [
    "# 오프라인/온라인 사용자 비교\n",
    "print(pdde['chnl_dv'].value_counts())\n",
    "sns.countplot(x='chnl_dv', palette='Accent', data=pdde)\n",
    "plt.rcParams['font.family'] = 'Malgun Gothic'\n",
    "plt.title('오프라인:1/온라인:2 구분')\n",
    "plt.show()"
   ]
  },
  {
   "cell_type": "code",
   "execution_count": 98,
   "id": "0452b720",
   "metadata": {},
   "outputs": [
    {
     "data": {
      "image/png": "[encoded data removed]",
      "text/plain": [
       "<Figure size 864x432 with 1 Axes>"
      ]
     },
     "metadata": {},
     "output_type": "display_data"
    }
   ],
   "source": [
    "## 제휴사 비교\n",
    "plt.figure(figsize=(12,6))\n",
    "ax = pdde['cop_c'].value_counts().sort_index().plot(kind='bar', title='제휴사 비교', colormap='Paired')\n",
    "\n",
    "for p in ax.patches:\n",
    "    left, bottom, width, height = p.get_bbox().bounds\n",
    "    ax.annotate(\"%.1f\"%(height/1e6), (left+width/2, height*1.01), ha='center')\n",
    "\n",
    "plt.rcParams['font.family'] = 'Malgun Gothic'\n",
    "plt.xticks(rotation=0, fontsize=12)\n",
    "plt.show()"
   ]
  },
  {
   "cell_type": "markdown",
   "id": "9eb751cc",
   "metadata": {},
   "source": [
    "### (3) 제휴사 이용 정보 (cop_u)\n",
    "br_c 변수 55개 결측 존재.\n",
    "* 제휴사 비교 : pdde 데이터보다는 고루 퍼져 있다. D01이 가장 사용자가 많다."
   ]
  },
  {
   "cell_type": "code",
   "execution_count": 72,
   "id": "e2594343",
   "metadata": {},
   "outputs": [
    {
     "data": {
      "text/html": [
       "<div>\n",
       "<style scoped>\n",
       "    .dataframe tbody tr th:only-of-type {\n",
       "        vertical-align: middle;\n",
       "    }\n",
       "\n",
       "    .dataframe tbody tr th {\n",
       "        vertical-align: top;\n",
       "    }\n",
       "\n",
       "    .dataframe thead th {\n",
       "        text-align: right;\n",
       "    }\n",
       "</style>\n",
       "<table border=\"1\" class=\"dataframe\">\n",
       "  <thead>\n",
       "    <tr style=\"text-align: right;\">\n",
       "      <th></th>\n",
       "      <th>cust</th>\n",
       "      <th>rct_no</th>\n",
       "      <th>cop_c</th>\n",
       "      <th>br_c</th>\n",
       "      <th>chnl_dv</th>\n",
       "      <th>de_dt</th>\n",
       "      <th>vst_dt</th>\n",
       "      <th>de_hr</th>\n",
       "      <th>buy_am</th>\n",
       "    </tr>\n",
       "  </thead>\n",
       "  <tbody>\n",
       "    <tr>\n",
       "      <th>0</th>\n",
       "      <td>M839993508</td>\n",
       "      <td>21102612B015763935</td>\n",
       "      <td>B01</td>\n",
       "      <td>B010012</td>\n",
       "      <td>1</td>\n",
       "      <td>20211026</td>\n",
       "      <td>20211026</td>\n",
       "      <td>12</td>\n",
       "      <td>60000</td>\n",
       "    </tr>\n",
       "    <tr>\n",
       "      <th>1</th>\n",
       "      <td>M839993508</td>\n",
       "      <td>21110610B014219744</td>\n",
       "      <td>B01</td>\n",
       "      <td>B010012</td>\n",
       "      <td>1</td>\n",
       "      <td>20211106</td>\n",
       "      <td>20211106</td>\n",
       "      <td>10</td>\n",
       "      <td>17100</td>\n",
       "    </tr>\n",
       "    <tr>\n",
       "      <th>2</th>\n",
       "      <td>M839993508</td>\n",
       "      <td>21021112B013419710</td>\n",
       "      <td>B01</td>\n",
       "      <td>B010012</td>\n",
       "      <td>1</td>\n",
       "      <td>20210211</td>\n",
       "      <td>20210211</td>\n",
       "      <td>12</td>\n",
       "      <td>136500</td>\n",
       "    </tr>\n",
       "    <tr>\n",
       "      <th>3</th>\n",
       "      <td>M839993508</td>\n",
       "      <td>21092010B012637545</td>\n",
       "      <td>B01</td>\n",
       "      <td>B010012</td>\n",
       "      <td>1</td>\n",
       "      <td>20210920</td>\n",
       "      <td>20210920</td>\n",
       "      <td>10</td>\n",
       "      <td>34200</td>\n",
       "    </tr>\n",
       "    <tr>\n",
       "      <th>4</th>\n",
       "      <td>M839993508</td>\n",
       "      <td>21101009D015920171</td>\n",
       "      <td>D01</td>\n",
       "      <td>D010614</td>\n",
       "      <td>1</td>\n",
       "      <td>20211010</td>\n",
       "      <td>20211010</td>\n",
       "      <td>9</td>\n",
       "      <td>2500</td>\n",
       "    </tr>\n",
       "  </tbody>\n",
       "</table>\n",
       "</div>"
      ],
      "text/plain": [
       "         cust              rct_no cop_c     br_c  chnl_dv     de_dt    vst_dt  \\\n",
       "0  M839993508  21102612B015763935   B01  B010012        1  20211026  20211026   \n",
       "1  M839993508  21110610B014219744   B01  B010012        1  20211106  20211106   \n",
       "2  M839993508  21021112B013419710   B01  B010012        1  20210211  20210211   \n",
       "3  M839993508  21092010B012637545   B01  B010012        1  20210920  20210920   \n",
       "4  M839993508  21101009D015920171   D01  D010614        1  20211010  20211010   \n",
       "\n",
       "   de_hr  buy_am  \n",
       "0     12   60000  \n",
       "1     10   17100  \n",
       "2     12  136500  \n",
       "3     10   34200  \n",
       "4      9    2500  "
      ]
     },
     "execution_count": 72,
     "metadata": {},
     "output_type": "execute_result"
    }
   ],
   "source": [
    "cop_u.head()"
   ]
  },
  {
   "cell_type": "code",
   "execution_count": 95,
   "id": "6fecb06a",
   "metadata": {},
   "outputs": [
    {
     "data": {
      "image/png": "[encoded data removed]",
      "text/plain": [
       "<Figure size 864x432 with 1 Axes>"
      ]
     },
     "metadata": {},
     "output_type": "display_data"
    }
   ],
   "source": [
    "## 제휴사 비교\n",
    "plt.figure(figsize=(12,6))\n",
    "ax = cop_u['cop_c'].value_counts().sort_index().plot(kind='bar', title='제휴사 비교', colormap='Paired')\n",
    "\n",
    "for p in ax.patches:\n",
    "    left, bottom, width, height = p.get_bbox().bounds\n",
    "    ax.annotate(\"%.f\"%(height), (left+width/2, height), ha='center')\n",
    "\n",
    "plt.xticks(rotation=0, fontsize=12)\n",
    "plt.show()"
   ]
  },
  {
   "cell_type": "markdown",
   "id": "9c66d338",
   "metadata": {},
   "source": [
    "### (4) 상품 분류 정보 (pd_clac)"
   ]
  },
  {
   "cell_type": "code",
   "execution_count": 99,
   "id": "7bb3d389",
   "metadata": {},
   "outputs": [
    {
     "data": {
      "text/html": [
       "<div>\n",
       "<style scoped>\n",
       "    .dataframe tbody tr th:only-of-type {\n",
       "        vertical-align: middle;\n",
       "    }\n",
       "\n",
       "    .dataframe tbody tr th {\n",
       "        vertical-align: top;\n",
       "    }\n",
       "\n",
       "    .dataframe thead th {\n",
       "        text-align: right;\n",
       "    }\n",
       "</style>\n",
       "<table border=\"1\" class=\"dataframe\">\n",
       "  <thead>\n",
       "    <tr style=\"text-align: right;\">\n",
       "      <th></th>\n",
       "      <th>pd_c</th>\n",
       "      <th>pd_nm</th>\n",
       "      <th>clac_hlv_nm</th>\n",
       "      <th>clac_mcls_nm</th>\n",
       "    </tr>\n",
       "  </thead>\n",
       "  <tbody>\n",
       "    <tr>\n",
       "      <th>0</th>\n",
       "      <td>PD0001</td>\n",
       "      <td>소파</td>\n",
       "      <td>가구</td>\n",
       "      <td>거실가구</td>\n",
       "    </tr>\n",
       "    <tr>\n",
       "      <th>1</th>\n",
       "      <td>PD0002</td>\n",
       "      <td>스툴/리빙의자</td>\n",
       "      <td>가구</td>\n",
       "      <td>거실가구</td>\n",
       "    </tr>\n",
       "    <tr>\n",
       "      <th>2</th>\n",
       "      <td>PD0003</td>\n",
       "      <td>탁자</td>\n",
       "      <td>가구</td>\n",
       "      <td>거실가구</td>\n",
       "    </tr>\n",
       "    <tr>\n",
       "      <th>3</th>\n",
       "      <td>PD0004</td>\n",
       "      <td>장식장/진열장</td>\n",
       "      <td>가구</td>\n",
       "      <td>거실가구</td>\n",
       "    </tr>\n",
       "    <tr>\n",
       "      <th>4</th>\n",
       "      <td>PD0005</td>\n",
       "      <td>기타가구</td>\n",
       "      <td>가구</td>\n",
       "      <td>기타가구</td>\n",
       "    </tr>\n",
       "  </tbody>\n",
       "</table>\n",
       "</div>"
      ],
      "text/plain": [
       "     pd_c    pd_nm clac_hlv_nm clac_mcls_nm\n",
       "0  PD0001       소파          가구         거실가구\n",
       "1  PD0002  스툴/리빙의자          가구         거실가구\n",
       "2  PD0003       탁자          가구         거실가구\n",
       "3  PD0004  장식장/진열장          가구         거실가구\n",
       "4  PD0005     기타가구          가구         기타가구"
      ]
     },
     "execution_count": 99,
     "metadata": {},
     "output_type": "execute_result"
    }
   ],
   "source": [
    "pd_clac.head()"
   ]
  },
  {
   "cell_type": "code",
   "execution_count": 105,
   "id": "71cab8e5",
   "metadata": {},
   "outputs": [
    {
     "data": {
      "text/plain": [
       "0"
      ]
     },
     "execution_count": 105,
     "metadata": {},
     "output_type": "execute_result"
    }
   ],
   "source": [
    "## 겹치는 상품 유무 확인\n",
    "sum(pd_clac.pd_c.value_counts() != 1)"
   ]
  },
  {
   "cell_type": "code",
   "execution_count": 119,
   "id": "ced4762e",
   "metadata": {},
   "outputs": [
    {
     "name": "stdout",
     "output_type": "stream",
     "text": [
      "대분류명 개수: 60\n",
      "대분류명 종류:\n",
      " 패션잡화          130\n",
      "축산물            91\n",
      "수산물            88\n",
      "스포츠패션          82\n",
      "문구/사무용품        72\n",
      "채소             72\n",
      "유아동의류          67\n",
      "과일             58\n",
      "속옷/양말/홈웨어      56\n",
      "조미료            51\n",
      "화장품/뷰티케어       50\n",
      "생활/주방가전        43\n",
      "퍼스널케어          39\n",
      "원예/애완          39\n",
      "구기/필드스포츠       38\n",
      "조리식품           38\n",
      "식기/조리기구        36\n",
      "과자             36\n",
      "침구/수예          35\n",
      "자동차용품          35\n",
      "아웃도어/레저        34\n",
      "건강식품           32\n",
      "출산/육아용품        32\n",
      "냉장식품           32\n",
      "주방잡화           32\n",
      "가구             31\n",
      "완구             31\n",
      "건해산물           30\n",
      "청소/세탁/욕실용품     30\n",
      "여성의류           29\n",
      "대용식            29\n",
      "세제/위생          28\n",
      "영상/음향가전        27\n",
      "남성의류           26\n",
      "건강용품           25\n",
      "음료             24\n",
      "테넌트/음식점        22\n",
      "주류             22\n",
      "시즌스포츠          22\n",
      "인테리어/조명        21\n",
      "커피/차           20\n",
      "냉동식품           20\n",
      "헬스/피트니스        15\n",
      "양곡             15\n",
      "서적/음반/악기       15\n",
      "공구/안전용품        15\n",
      "계절가전           15\n",
      "컴퓨터            14\n",
      "병통조림           14\n",
      "생활/렌탈서비스       13\n",
      "냉장/세탁가전        12\n",
      "상품권            10\n",
      "유제품             9\n",
      "기타(비상품)         7\n",
      "담배              6\n",
      "여행/레저서비스        6\n",
      "모바일             6\n",
      "유아식품            4\n",
      "기타상품            1\n",
      "금융/보험서비스        1\n",
      "Name: clac_hlv_nm, dtype: int64\n"
     ]
    }
   ],
   "source": [
    "print('대분류명 개수:', len(pd_clac.clac_hlv_nm.unique()))\n",
    "print('대분류명 종류:\\n', pd_clac.clac_hlv_nm.value_counts())"
   ]
  },
  {
   "cell_type": "markdown",
   "id": "85fd5890",
   "metadata": {},
   "source": [
    "### (5) 점포 정보 (br)"
   ]
  },
  {
   "cell_type": "code",
   "execution_count": 4,
   "id": "6b2f34d7",
   "metadata": {},
   "outputs": [
    {
     "data": {
      "text/html": [
       "<div>\n",
       "<style scoped>\n",
       "    .dataframe tbody tr th:only-of-type {\n",
       "        vertical-align: middle;\n",
       "    }\n",
       "\n",
       "    .dataframe tbody tr th {\n",
       "        vertical-align: top;\n",
       "    }\n",
       "\n",
       "    .dataframe thead th {\n",
       "        text-align: right;\n",
       "    }\n",
       "</style>\n",
       "<table border=\"1\" class=\"dataframe\">\n",
       "  <thead>\n",
       "    <tr style=\"text-align: right;\">\n",
       "      <th></th>\n",
       "      <th>br_c</th>\n",
       "      <th>cop_c</th>\n",
       "      <th>zon_hlv</th>\n",
       "      <th>zon_mcls</th>\n",
       "    </tr>\n",
       "  </thead>\n",
       "  <tbody>\n",
       "    <tr>\n",
       "      <th>0</th>\n",
       "      <td>A010001</td>\n",
       "      <td>A01</td>\n",
       "      <td>Z17</td>\n",
       "      <td>Z17024</td>\n",
       "    </tr>\n",
       "    <tr>\n",
       "      <th>1</th>\n",
       "      <td>A010002</td>\n",
       "      <td>A01</td>\n",
       "      <td>Z17</td>\n",
       "      <td>Z17018</td>\n",
       "    </tr>\n",
       "    <tr>\n",
       "      <th>2</th>\n",
       "      <td>A010003</td>\n",
       "      <td>A01</td>\n",
       "      <td>Z17</td>\n",
       "      <td>Z17011</td>\n",
       "    </tr>\n",
       "    <tr>\n",
       "      <th>3</th>\n",
       "      <td>A010004</td>\n",
       "      <td>A01</td>\n",
       "      <td>Z16</td>\n",
       "      <td>Z16007</td>\n",
       "    </tr>\n",
       "    <tr>\n",
       "      <th>4</th>\n",
       "      <td>A010005</td>\n",
       "      <td>A01</td>\n",
       "      <td>Z17</td>\n",
       "      <td>Z17005</td>\n",
       "    </tr>\n",
       "  </tbody>\n",
       "</table>\n",
       "</div>"
      ],
      "text/plain": [
       "      br_c cop_c zon_hlv zon_mcls\n",
       "0  A010001   A01     Z17   Z17024\n",
       "1  A010002   A01     Z17   Z17018\n",
       "2  A010003   A01     Z17   Z17011\n",
       "3  A010004   A01     Z16   Z16007\n",
       "4  A010005   A01     Z17   Z17005"
      ]
     },
     "execution_count": 4,
     "metadata": {},
     "output_type": "execute_result"
    }
   ],
   "source": [
    "br.head()"
   ]
  },
  {
   "cell_type": "code",
   "execution_count": 5,
   "id": "7b2106e6",
   "metadata": {},
   "outputs": [
    {
     "name": "stdout",
     "output_type": "stream",
     "text": [
      "점포 개수: 11\n",
      "점포 종류:\n",
      " A04    5646\n",
      "D01    1311\n",
      "D02     535\n",
      "A03     487\n",
      "A05     440\n",
      "C01     140\n",
      "A02     116\n",
      "A01      66\n",
      "E01      43\n",
      "B01      20\n",
      "C02       4\n",
      "Name: cop_c, dtype: int64\n"
     ]
    }
   ],
   "source": [
    "print('점포 개수:', len(br.cop_c.unique()))\n",
    "print('점포 종류:\\n', br.cop_c.value_counts())"
   ]
  },
  {
   "cell_type": "code",
   "execution_count": 10,
   "id": "2661b9d0",
   "metadata": {},
   "outputs": [
    {
     "data": {
      "image/png": "[encoded data removed]",
      "text/plain": [
       "<Figure size 864x432 with 1 Axes>"
      ]
     },
     "metadata": {
      "needs_background": "light"
     },
     "output_type": "display_data"
    }
   ],
   "source": [
    "## 점포 제휴사 비교\n",
    "plt.rcParams['font.family'] = 'Malgun Gothic'\n",
    "plt.figure(figsize=(12,6))\n",
    "ax = br['cop_c'].value_counts().sort_index().plot(kind='bar', title='점포 제휴사 비교', colormap='Paired')\n",
    "\n",
    "for p in ax.patches:\n",
    "    left, bottom, width, height = p.get_bbox().bounds\n",
    "    ax.annotate(\"%.f\"%(height), (left+width/2, height), ha='center')\n",
    "    \n",
    "plt.xticks(rotation=0, fontsize=12)\n",
    "plt.show()"
   ]
  },
  {
   "cell_type": "code",
   "execution_count": 13,
   "id": "646c5d80",
   "metadata": {},
   "outputs": [
    {
     "name": "stdout",
     "output_type": "stream",
     "text": [
      "고객거주대분류코드:\n",
      " Z10    8157\n",
      "Z17    7881\n",
      "Z16    2503\n",
      "Z11    1840\n",
      "Z04    1750\n",
      "Z06    1080\n",
      "Z14     988\n",
      "Z13     896\n",
      "Z12     803\n",
      "Z08     739\n",
      "Z15     677\n",
      "Z09     642\n",
      "Z03     600\n",
      "Z05     576\n",
      "Z01     474\n",
      "Z07     204\n",
      "Z02     103\n",
      "Name: zon_hlv, dtype: int64\n",
      "점포대분류코드:\n",
      " Z10    2141\n",
      "Z17    1723\n",
      "Z11     552\n",
      "Z16     539\n",
      "Z04     440\n",
      "Z14     428\n",
      "Z12     423\n",
      "Z08     386\n",
      "Z01     353\n",
      "Z09     324\n",
      "Z06     321\n",
      "Z05     276\n",
      "Z13     241\n",
      "Z15     240\n",
      "Z07     197\n",
      "Z03     171\n",
      "Z02      53\n",
      "Name: zon_hlv, dtype: int64\n"
     ]
    }
   ],
   "source": [
    "print('고객거주대분류코드:\\n', demo['zon_hlv'].value_counts())\n",
    "print('점포대분류코드:\\n', br['zon_hlv'].value_counts())"
   ]
  },
  {
   "cell_type": "code",
   "execution_count": 19,
   "id": "d01587f0",
   "metadata": {},
   "outputs": [
    {
     "data": {
      "text/plain": [
       "array([ 0,  1,  2,  3,  4,  5,  6,  7,  8,  9, 10, 11, 12, 13, 14, 15, 16])"
      ]
     },
     "execution_count": 19,
     "metadata": {},
     "output_type": "execute_result"
    }
   ],
   "source": [
    "idx = np.arange(17)\n",
    "idx"
   ]
  },
  {
   "cell_type": "code",
   "execution_count": 27,
   "id": "4ec40b16",
   "metadata": {},
   "outputs": [
    {
     "data": {
      "image/png": "[encoded data removed]",
      "text/plain": [
       "<Figure size 1296x432 with 1 Axes>"
      ]
     },
     "metadata": {
      "needs_background": "light"
     },
     "output_type": "display_data"
    }
   ],
   "source": [
    "## 점포 대분류코드 비교\n",
    "plt.rcParams['font.family'] = 'Malgun Gothic'\n",
    "plt.figure(figsize=(18,6))\n",
    "ax1 = br['zon_hlv'].value_counts().sort_index().plot(kind='bar', title='점포대분류코드 비교', colormap='Paired',width=0.5)\n",
    "# ax2 = demo['zon_hlv'].value_counts().sort_index().plot(kind='bar', title='점포대분류코드 비교', colormap='Paired',width=0.5)\n",
    "\n",
    "for p in ax1.patches:\n",
    "    left, bottom, width, height = p.get_bbox().bounds\n",
    "    ax1.annotate(\"%.f\"%(height), (left+width/2, height), ha='center')\n",
    "# for p in ax2.patches:\n",
    "#     left, bottom, width, height = p.get_bbox().bounds\n",
    "#     ax2.annotate(\"%.f\"%(height), (left+width/2, height), ha='center', color=\"red\")\n",
    "    \n",
    "plt.xlabel('지역 대분류 코드')\n",
    "plt.xticks(rotation=0, fontsize=12)\n",
    "plt.show()"
   ]
  },
  {
   "cell_type": "code",
   "execution_count": 28,
   "id": "ad65c177",
   "metadata": {},
   "outputs": [
    {
     "data": {
      "image/png": "[encoded data removed]",
      "text/plain": [
       "<Figure size 1296x432 with 1 Axes>"
      ]
     },
     "metadata": {
      "needs_background": "light"
     },
     "output_type": "display_data"
    }
   ],
   "source": [
    "## 고객 대분류코드 비교\n",
    "idx = np.arange(17)\n",
    "\n",
    "plt.rcParams['font.family'] = 'Malgun Gothic'\n",
    "plt.figure(figsize=(18,6))\n",
    "ax2 = demo['zon_hlv'].value_counts().sort_index().plot(kind='bar', title='점포대분류코드 비교', colormap='Paired',width=0.5)\n",
    "\n",
    "for p in ax2.patches:\n",
    "    left, bottom, width, height = p.get_bbox().bounds\n",
    "    ax2.annotate(\"%.f\"%(height), (left+width/2, height), ha='center', color=\"red\")\n",
    "    \n",
    "plt.xlabel('지역 대분류 코드')\n",
    "plt.xticks(rotation=0, fontsize=12)\n",
    "plt.show()"
   ]
  },
  {
   "cell_type": "markdown",
   "id": "88923f6c",
   "metadata": {},
   "source": [
    "### (6) 엘페이 이용 (lpay)\n",
    "21년도에 대한 데이터이고, 하지만 이용일자에 대해 정렬되어 있지 않다. "
   ]
  },
  {
   "cell_type": "code",
   "execution_count": 4,
   "id": "59ca5937",
   "metadata": {},
   "outputs": [
    {
     "data": {
      "text/html": [
       "<div>\n",
       "<style scoped>\n",
       "    .dataframe tbody tr th:only-of-type {\n",
       "        vertical-align: middle;\n",
       "    }\n",
       "\n",
       "    .dataframe tbody tr th {\n",
       "        vertical-align: top;\n",
       "    }\n",
       "\n",
       "    .dataframe thead th {\n",
       "        text-align: right;\n",
       "    }\n",
       "</style>\n",
       "<table border=\"1\" class=\"dataframe\">\n",
       "  <thead>\n",
       "    <tr style=\"text-align: right;\">\n",
       "      <th></th>\n",
       "      <th>cust</th>\n",
       "      <th>rct_no</th>\n",
       "      <th>cop_c</th>\n",
       "      <th>chnl_dv</th>\n",
       "      <th>de_dt</th>\n",
       "      <th>de_hr</th>\n",
       "      <th>buy_am</th>\n",
       "    </tr>\n",
       "  </thead>\n",
       "  <tbody>\n",
       "    <tr>\n",
       "      <th>0</th>\n",
       "      <td>M629656521</td>\n",
       "      <td>210803210311226</td>\n",
       "      <td>A03</td>\n",
       "      <td>1</td>\n",
       "      <td>20210803</td>\n",
       "      <td>21</td>\n",
       "      <td>10900</td>\n",
       "    </tr>\n",
       "    <tr>\n",
       "      <th>1</th>\n",
       "      <td>M216016456</td>\n",
       "      <td>210803130167542</td>\n",
       "      <td>L01</td>\n",
       "      <td>2</td>\n",
       "      <td>20210803</td>\n",
       "      <td>13</td>\n",
       "      <td>6860</td>\n",
       "    </tr>\n",
       "    <tr>\n",
       "      <th>2</th>\n",
       "      <td>M205142844</td>\n",
       "      <td>210803140275112</td>\n",
       "      <td>A02</td>\n",
       "      <td>1</td>\n",
       "      <td>20210803</td>\n",
       "      <td>14</td>\n",
       "      <td>9000</td>\n",
       "    </tr>\n",
       "    <tr>\n",
       "      <th>3</th>\n",
       "      <td>M737010483</td>\n",
       "      <td>210803040637594</td>\n",
       "      <td>A06</td>\n",
       "      <td>2</td>\n",
       "      <td>20210803</td>\n",
       "      <td>4</td>\n",
       "      <td>36740</td>\n",
       "    </tr>\n",
       "    <tr>\n",
       "      <th>4</th>\n",
       "      <td>M707775545</td>\n",
       "      <td>210803140675502</td>\n",
       "      <td>A06</td>\n",
       "      <td>2</td>\n",
       "      <td>20210803</td>\n",
       "      <td>14</td>\n",
       "      <td>138500</td>\n",
       "    </tr>\n",
       "  </tbody>\n",
       "</table>\n",
       "</div>"
      ],
      "text/plain": [
       "         cust           rct_no cop_c  chnl_dv     de_dt  de_hr  buy_am\n",
       "0  M629656521  210803210311226   A03        1  20210803     21   10900\n",
       "1  M216016456  210803130167542   L01        2  20210803     13    6860\n",
       "2  M205142844  210803140275112   A02        1  20210803     14    9000\n",
       "3  M737010483  210803040637594   A06        2  20210803      4   36740\n",
       "4  M707775545  210803140675502   A06        2  20210803     14  138500"
      ]
     },
     "execution_count": 4,
     "metadata": {},
     "output_type": "execute_result"
    }
   ],
   "source": [
    "lpay.head()"
   ]
  },
  {
   "cell_type": "code",
   "execution_count": 38,
   "id": "ccc75ed8",
   "metadata": {},
   "outputs": [
    {
     "name": "stdout",
     "output_type": "stream",
     "text": [
      "0    20210803\n",
      "1    20210803\n",
      "2    20210803\n",
      "3    20210803\n",
      "4    20210803\n",
      "Name: de_dt, dtype: int64\n",
      "353179    20210125\n",
      "353180    20210104\n",
      "353181    20210119\n",
      "353182    20210119\n",
      "353183    20210119\n",
      "Name: de_dt, dtype: int64\n",
      "20210101\n",
      "20211231\n"
     ]
    }
   ],
   "source": [
    "print(lpay['de_dt'].head())\n",
    "print(lpay['de_dt'].tail())\n",
    "print(lpay['de_dt'].min())\n",
    "print(lpay['de_dt'].max())"
   ]
  },
  {
   "cell_type": "code",
   "execution_count": 39,
   "id": "aed914a6",
   "metadata": {},
   "outputs": [
    {
     "name": "stdout",
     "output_type": "stream",
     "text": [
      "5\n",
      "30000000\n"
     ]
    }
   ],
   "source": [
    "print(lpay['buy_am'].min())\n",
    "print(lpay['buy_am'].max())"
   ]
  },
  {
   "cell_type": "code",
   "execution_count": 32,
   "id": "a41a0feb",
   "metadata": {},
   "outputs": [
    {
     "name": "stdout",
     "output_type": "stream",
     "text": [
      "2    203174\n",
      "1    150010\n",
      "Name: chnl_dv, dtype: int64\n"
     ]
    },
    {
     "data": {
      "image/png": "[encoded data removed]",
      "text/plain": [
       "<Figure size 432x288 with 1 Axes>"
      ]
     },
     "metadata": {
      "needs_background": "light"
     },
     "output_type": "display_data"
    }
   ],
   "source": [
    "# 오프라인/온라인 사용자 비교\n",
    "print(lpay['chnl_dv'].value_counts())\n",
    "sns.countplot(x='chnl_dv', palette='Accent', data=lpay)\n",
    "plt.rcParams['font.family'] = 'Malgun Gothic'\n",
    "plt.title('오프라인:1/온라인:2 구분')\n",
    "plt.show()"
   ]
  },
  {
   "cell_type": "code",
   "execution_count": null,
   "id": "342ccea2",
   "metadata": {},
   "outputs": [],
   "source": []
  }
 ],
 "metadata": {
  "kernelspec": {
   "display_name": "Python 3",
   "language": "python",
   "name": "python3"
  },
  "language_info": {
   "codemirror_mode": {
    "name": "ipython",
    "version": 3
   },
   "file_extension": ".py",
   "mimetype": "text/x-python",
   "name": "python",
   "nbconvert_exporter": "python",
   "pygments_lexer": "ipython3",
   "version": "3.8.8"
  }
 },
 "nbformat": 4,
 "nbformat_minor": 5
}
