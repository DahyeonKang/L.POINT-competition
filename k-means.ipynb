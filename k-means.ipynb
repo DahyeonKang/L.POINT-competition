{
 "cells": [
  {
   "cell_type": "markdown",
   "id": "0fb5827a",
   "metadata": {},
   "source": [
    "# 데이터 전처리\n",
    "__2번 테이블 PDDE는 데이터가 큰 관계로 3,6번 테이블 대상으로 모든 변수들을 수치형으로 변환해 K-means 클러스터링을 구현한다.__"
   ]
  },
  {
   "cell_type": "code",
   "execution_count": 2,
   "id": "55bf549c",
   "metadata": {},
   "outputs": [],
   "source": [
    "import pandas as pd\n",
    "import numpy as np"
   ]
  },
  {
   "cell_type": "code",
   "execution_count": 19,
   "id": "51f403d3",
   "metadata": {},
   "outputs": [],
   "source": [
    "cop_u = pd.read_csv('./data/cop_u.csv', encoding='utf-8')\n",
    "lpay = pd.read_csv('./data/lpay.csv', encoding='utf-8')"
   ]
  },
  {
   "cell_type": "markdown",
   "id": "dbf32f0f",
   "metadata": {},
   "source": [
    "## 결측치 제거"
   ]
  },
  {
   "cell_type": "markdown",
   "id": "c2faf554",
   "metadata": {},
   "source": [
    "cop_u 데이터에 결측치 존재"
   ]
  },
  {
   "cell_type": "code",
   "execution_count": 20,
   "id": "fa2d1594",
   "metadata": {},
   "outputs": [
    {
     "name": "stdout",
     "output_type": "stream",
     "text": [
      "<class 'pandas.core.frame.DataFrame'>\n",
      "RangeIndex: 248304 entries, 0 to 248303\n",
      "Data columns (total 12 columns):\n",
      " #   Column    Non-Null Count   Dtype \n",
      "---  ------    --------------   ----- \n",
      " 0   고객번호      248304 non-null  object\n",
      " 1   영수증번호     248304 non-null  object\n",
      " 2   제휴사       248304 non-null  object\n",
      " 3   점포코드      248249 non-null  object\n",
      " 4   채널구분      248304 non-null  int64 \n",
      " 5   이용일자      248304 non-null  int64 \n",
      " 6   방문일자      248304 non-null  int64 \n",
      " 7   이용시간      248304 non-null  int64 \n",
      " 8   이용금액      248304 non-null  int64 \n",
      " 9   성별        248304 non-null  object\n",
      " 10  연령대       248304 non-null  object\n",
      " 11  거주지분류대코드  248304 non-null  object\n",
      "dtypes: int64(5), object(7)\n",
      "memory usage: 22.7+ MB\n"
     ]
    }
   ],
   "source": [
    "cop_u.info()"
   ]
  },
  {
   "cell_type": "code",
   "execution_count": 21,
   "id": "5a543e2a",
   "metadata": {},
   "outputs": [
    {
     "name": "stdout",
     "output_type": "stream",
     "text": [
      "<class 'pandas.core.frame.DataFrame'>\n",
      "RangeIndex: 353184 entries, 0 to 353183\n",
      "Data columns (total 10 columns):\n",
      " #   Column    Non-Null Count   Dtype \n",
      "---  ------    --------------   ----- \n",
      " 0   고객번호      353184 non-null  object\n",
      " 1   영수증번호     353184 non-null  int64 \n",
      " 2   제휴사       353184 non-null  object\n",
      " 3   채널구분      353184 non-null  int64 \n",
      " 4   이용일자      353184 non-null  int64 \n",
      " 5   이용시간      353184 non-null  int64 \n",
      " 6   이용금액      353184 non-null  int64 \n",
      " 7   성별        353184 non-null  object\n",
      " 8   연령대       353184 non-null  object\n",
      " 9   거주지분류대코드  353184 non-null  object\n",
      "dtypes: int64(5), object(5)\n",
      "memory usage: 26.9+ MB\n"
     ]
    }
   ],
   "source": [
    "lpay.info()"
   ]
  },
  {
   "cell_type": "code",
   "execution_count": 25,
   "id": "cfc1ea73",
   "metadata": {},
   "outputs": [
    {
     "data": {
      "text/plain": [
       "고객번호        0\n",
       "영수증번호       0\n",
       "제휴사         0\n",
       "점포코드        0\n",
       "채널구분        0\n",
       "이용일자        0\n",
       "방문일자        0\n",
       "이용시간        0\n",
       "이용금액        0\n",
       "성별          0\n",
       "연령대         0\n",
       "거주지분류대코드    0\n",
       "dtype: int64"
      ]
     },
     "execution_count": 25,
     "metadata": {},
     "output_type": "execute_result"
    }
   ],
   "source": [
    "# cop_u = cop_u.dropna()\n",
    "cop_u.isna().sum()"
   ]
  },
  {
   "cell_type": "markdown",
   "id": "8c1c97b4",
   "metadata": {},
   "source": [
    "## 구매월 변수 추가\n",
    "Kprototype 경우와 다르게 구매월 변수 추가할 때 int형으로 추가한다."
   ]
  },
  {
   "cell_type": "code",
   "execution_count": 26,
   "id": "fadc1492",
   "metadata": {},
   "outputs": [],
   "source": [
    "cop_u['구매월'] = cop_u['이용일자'].map(lambda x: int(str(x)[4:6]))\n",
    "lpay['구매월'] = lpay['이용일자'].map(lambda x: int(str(x)[4:6]))"
   ]
  },
  {
   "cell_type": "markdown",
   "id": "5e72eaa7",
   "metadata": {},
   "source": [
    "## 군집화에 사용할 변수 선택"
   ]
  },
  {
   "cell_type": "code",
   "execution_count": 28,
   "id": "470e3190",
   "metadata": {},
   "outputs": [],
   "source": [
    "dt3 = cop_u[['성별', '연령대', '거주지분류대코드', '제휴사', '점포코드', '채널구분', '이용시간', '이용금액', '구매월']]\n",
    "dt6 = lpay[['성별', '연령대', '거주지분류대코드', '제휴사', '채널구분', '이용시간', '이용금액', '구매월']]"
   ]
  },
  {
   "cell_type": "markdown",
   "id": "4a216da7",
   "metadata": {},
   "source": [
    "## 원핫인코딩\n",
    "### 03_COP_U"
   ]
  },
  {
   "cell_type": "code",
   "execution_count": 30,
   "id": "24bded8c",
   "metadata": {},
   "outputs": [
    {
     "name": "stdout",
     "output_type": "stream",
     "text": [
      "<class 'pandas.core.frame.DataFrame'>\n",
      "Int64Index: 248249 entries, 0 to 248303\n",
      "Data columns (total 9 columns):\n",
      " #   Column    Non-Null Count   Dtype \n",
      "---  ------    --------------   ----- \n",
      " 0   성별        248249 non-null  object\n",
      " 1   연령대       248249 non-null  object\n",
      " 2   거주지분류대코드  248249 non-null  object\n",
      " 3   제휴사       248249 non-null  object\n",
      " 4   점포코드      248249 non-null  object\n",
      " 5   채널구분      248249 non-null  int64 \n",
      " 6   이용시간      248249 non-null  int64 \n",
      " 7   이용금액      248249 non-null  int64 \n",
      " 8   구매월       248249 non-null  int64 \n",
      "dtypes: int64(4), object(5)\n",
      "memory usage: 18.9+ MB\n"
     ]
    }
   ],
   "source": [
    "dt3.info()"
   ]
  },
  {
   "cell_type": "code",
   "execution_count": 31,
   "id": "be778e34",
   "metadata": {},
   "outputs": [
    {
     "data": {
      "text/html": [
       "<div>\n",
       "<style scoped>\n",
       "    .dataframe tbody tr th:only-of-type {\n",
       "        vertical-align: middle;\n",
       "    }\n",
       "\n",
       "    .dataframe tbody tr th {\n",
       "        vertical-align: top;\n",
       "    }\n",
       "\n",
       "    .dataframe thead th {\n",
       "        text-align: right;\n",
       "    }\n",
       "</style>\n",
       "<table border=\"1\" class=\"dataframe\">\n",
       "  <thead>\n",
       "    <tr style=\"text-align: right;\">\n",
       "      <th></th>\n",
       "      <th>성별</th>\n",
       "      <th>연령대</th>\n",
       "      <th>거주지분류대코드</th>\n",
       "      <th>제휴사</th>\n",
       "      <th>점포코드</th>\n",
       "      <th>채널구분</th>\n",
       "      <th>이용시간</th>\n",
       "      <th>이용금액</th>\n",
       "      <th>구매월</th>\n",
       "    </tr>\n",
       "  </thead>\n",
       "  <tbody>\n",
       "    <tr>\n",
       "      <th>0</th>\n",
       "      <td>남성</td>\n",
       "      <td>70대</td>\n",
       "      <td>Z17</td>\n",
       "      <td>B01</td>\n",
       "      <td>B010012</td>\n",
       "      <td>1</td>\n",
       "      <td>12</td>\n",
       "      <td>60000</td>\n",
       "      <td>10</td>\n",
       "    </tr>\n",
       "    <tr>\n",
       "      <th>1</th>\n",
       "      <td>남성</td>\n",
       "      <td>70대</td>\n",
       "      <td>Z17</td>\n",
       "      <td>B01</td>\n",
       "      <td>B010012</td>\n",
       "      <td>1</td>\n",
       "      <td>10</td>\n",
       "      <td>17100</td>\n",
       "      <td>11</td>\n",
       "    </tr>\n",
       "    <tr>\n",
       "      <th>2</th>\n",
       "      <td>남성</td>\n",
       "      <td>70대</td>\n",
       "      <td>Z17</td>\n",
       "      <td>B01</td>\n",
       "      <td>B010012</td>\n",
       "      <td>1</td>\n",
       "      <td>12</td>\n",
       "      <td>136500</td>\n",
       "      <td>2</td>\n",
       "    </tr>\n",
       "    <tr>\n",
       "      <th>3</th>\n",
       "      <td>남성</td>\n",
       "      <td>70대</td>\n",
       "      <td>Z17</td>\n",
       "      <td>B01</td>\n",
       "      <td>B010012</td>\n",
       "      <td>1</td>\n",
       "      <td>10</td>\n",
       "      <td>34200</td>\n",
       "      <td>9</td>\n",
       "    </tr>\n",
       "    <tr>\n",
       "      <th>4</th>\n",
       "      <td>남성</td>\n",
       "      <td>70대</td>\n",
       "      <td>Z17</td>\n",
       "      <td>D01</td>\n",
       "      <td>D010614</td>\n",
       "      <td>1</td>\n",
       "      <td>9</td>\n",
       "      <td>2500</td>\n",
       "      <td>10</td>\n",
       "    </tr>\n",
       "    <tr>\n",
       "      <th>...</th>\n",
       "      <td>...</td>\n",
       "      <td>...</td>\n",
       "      <td>...</td>\n",
       "      <td>...</td>\n",
       "      <td>...</td>\n",
       "      <td>...</td>\n",
       "      <td>...</td>\n",
       "      <td>...</td>\n",
       "      <td>...</td>\n",
       "    </tr>\n",
       "    <tr>\n",
       "      <th>248299</th>\n",
       "      <td>여성</td>\n",
       "      <td>20대</td>\n",
       "      <td>Z10</td>\n",
       "      <td>C02</td>\n",
       "      <td>C020002</td>\n",
       "      <td>1</td>\n",
       "      <td>14</td>\n",
       "      <td>2000</td>\n",
       "      <td>11</td>\n",
       "    </tr>\n",
       "    <tr>\n",
       "      <th>248300</th>\n",
       "      <td>여성</td>\n",
       "      <td>20대</td>\n",
       "      <td>Z10</td>\n",
       "      <td>C02</td>\n",
       "      <td>C020002</td>\n",
       "      <td>1</td>\n",
       "      <td>19</td>\n",
       "      <td>26900</td>\n",
       "      <td>11</td>\n",
       "    </tr>\n",
       "    <tr>\n",
       "      <th>248301</th>\n",
       "      <td>여성</td>\n",
       "      <td>30대</td>\n",
       "      <td>Z12</td>\n",
       "      <td>C01</td>\n",
       "      <td>C010087</td>\n",
       "      <td>2</td>\n",
       "      <td>9</td>\n",
       "      <td>2000</td>\n",
       "      <td>12</td>\n",
       "    </tr>\n",
       "    <tr>\n",
       "      <th>248302</th>\n",
       "      <td>남성</td>\n",
       "      <td>20대</td>\n",
       "      <td>Z17</td>\n",
       "      <td>C01</td>\n",
       "      <td>C010007</td>\n",
       "      <td>2</td>\n",
       "      <td>19</td>\n",
       "      <td>6000</td>\n",
       "      <td>11</td>\n",
       "    </tr>\n",
       "    <tr>\n",
       "      <th>248303</th>\n",
       "      <td>남성</td>\n",
       "      <td>30대</td>\n",
       "      <td>Z17</td>\n",
       "      <td>C01</td>\n",
       "      <td>C010014</td>\n",
       "      <td>2</td>\n",
       "      <td>19</td>\n",
       "      <td>28000</td>\n",
       "      <td>12</td>\n",
       "    </tr>\n",
       "  </tbody>\n",
       "</table>\n",
       "<p>248249 rows × 9 columns</p>\n",
       "</div>"
      ],
      "text/plain": [
       "        성별  연령대 거주지분류대코드  제휴사     점포코드  채널구분  이용시간    이용금액  구매월\n",
       "0       남성  70대      Z17  B01  B010012     1    12   60000   10\n",
       "1       남성  70대      Z17  B01  B010012     1    10   17100   11\n",
       "2       남성  70대      Z17  B01  B010012     1    12  136500    2\n",
       "3       남성  70대      Z17  B01  B010012     1    10   34200    9\n",
       "4       남성  70대      Z17  D01  D010614     1     9    2500   10\n",
       "...     ..  ...      ...  ...      ...   ...   ...     ...  ...\n",
       "248299  여성  20대      Z10  C02  C020002     1    14    2000   11\n",
       "248300  여성  20대      Z10  C02  C020002     1    19   26900   11\n",
       "248301  여성  30대      Z12  C01  C010087     2     9    2000   12\n",
       "248302  남성  20대      Z17  C01  C010007     2    19    6000   11\n",
       "248303  남성  30대      Z17  C01  C010014     2    19   28000   12\n",
       "\n",
       "[248249 rows x 9 columns]"
      ]
     },
     "execution_count": 31,
     "metadata": {},
     "output_type": "execute_result"
    }
   ],
   "source": [
    "dt3"
   ]
  },
  {
   "cell_type": "markdown",
   "id": "78f4ac26",
   "metadata": {},
   "source": [
    "1. 성별  \n",
    "명목변수 - 원핫인코딩\n",
    "2. 연령대  \n",
    "순위변수(10년이 기준) - 20대: 2, 30대: 3, ..로 오디널인코딩\n",
    "3. 거주지분류대코드  \n",
    "명목변수 - 종류 매우 많음.\n",
    "4. 제휴사  \n",
    "명목변수 - B01, C01, C02, D01, D02, E01에 대해 원핫인코딩\n",
    "5. 점포코드  \n",
    "명목변수 - 종류 매우 많음.\n",
    "6. 채널구분  \n",
    "명목변수 - 오프라인: 0, 온라인: 1로 원핫인코딩"
   ]
  },
  {
   "cell_type": "code",
   "execution_count": 35,
   "id": "5098e175",
   "metadata": {},
   "outputs": [
    {
     "data": {
      "text/plain": [
       "Z17    81238\n",
       "Z10    64365\n",
       "Z16    22856\n",
       "Z11    14123\n",
       "Z04    13787\n",
       "Z06     8806\n",
       "Z13     7276\n",
       "Z14     6262\n",
       "Z08     5067\n",
       "Z15     4867\n",
       "Z12     4388\n",
       "Z03     4160\n",
       "Z09     3716\n",
       "Z05     3121\n",
       "Z01     2574\n",
       "Z07     1171\n",
       "Z02      472\n",
       "Name: 거주지분류대코드, dtype: int64"
      ]
     },
     "execution_count": 35,
     "metadata": {},
     "output_type": "execute_result"
    }
   ],
   "source": [
    "dt3['거주지분류대코드'].value_counts()"
   ]
  },
  {
   "cell_type": "markdown",
   "id": "bdd0f06f",
   "metadata": {},
   "source": [
    "### 05_LPAY"
   ]
  },
  {
   "cell_type": "markdown",
   "id": "f020bc8c",
   "metadata": {},
   "source": [
    "## 변수 스케일링"
   ]
  },
  {
   "cell_type": "code",
   "execution_count": null,
   "id": "27bcfb20",
   "metadata": {},
   "outputs": [],
   "source": [
    "scaled_X = MinMaxScaler().fit_transform(data[['이용시간', '이용금액']])\n",
    "data[['이용시간', '이용금액']] = scaled_X"
   ]
  },
  {
   "cell_type": "code",
   "execution_count": null,
   "id": "111b6c2c",
   "metadata": {},
   "outputs": [],
   "source": []
  },
  {
   "cell_type": "code",
   "execution_count": null,
   "id": "7875d550",
   "metadata": {},
   "outputs": [],
   "source": []
  },
  {
   "cell_type": "code",
   "execution_count": null,
   "id": "cf8bc2b0",
   "metadata": {},
   "outputs": [],
   "source": []
  }
 ],
 "metadata": {
  "kernelspec": {
   "display_name": "Python 3 (ipykernel)",
   "language": "python",
   "name": "python3"
  },
  "language_info": {
   "codemirror_mode": {
    "name": "ipython",
    "version": 3
   },
   "file_extension": ".py",
   "mimetype": "text/x-python",
   "name": "python",
   "nbconvert_exporter": "python",
   "pygments_lexer": "ipython3",
   "version": "3.8.8"
  },
  "toc": {
   "base_numbering": 1,
   "nav_menu": {},
   "number_sections": true,
   "sideBar": true,
   "skip_h1_title": false,
   "title_cell": "Table of Contents",
   "title_sidebar": "Contents",
   "toc_cell": false,
   "toc_position": {},
   "toc_section_display": true,
   "toc_window_display": true
  }
 },
 "nbformat": 4,
 "nbformat_minor": 5
}
